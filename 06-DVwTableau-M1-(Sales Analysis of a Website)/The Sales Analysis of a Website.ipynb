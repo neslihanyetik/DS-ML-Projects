{
 "cells": [
  {
   "cell_type": "code",
   "execution_count": 1,
   "id": "3be181be-28ba-40c0-807a-0e5cd88e3bb2",
   "metadata": {},
   "outputs": [],
   "source": [
    "# Basic Libraries\n",
    "import numpy as np\n",
    "import pandas as pd\n",
    "\n",
    "# Visualizations Libraries\n",
    "import seaborn as sns\n",
    "import matplotlib.pyplot as plt\n",
    "from pandas.plotting import register_matplotlib_converters\n",
    "from pylab import rcParams\n",
    "sns.set_style(\"darkgrid\")\n",
    "\n",
    "import warnings\n",
    "warnings.filterwarnings(\"ignore\")"
   ]
  },
  {
   "cell_type": "markdown",
   "id": "a617331e-921a-4586-82bd-a16c2b3b2ec1",
   "metadata": {},
   "source": [
    "## 1. How many rows in the sales dataset?\n"
   ]
  },
  {
   "cell_type": "code",
   "execution_count": 2,
   "id": "0d256dc0-740e-4fb3-b922-7626a5713814",
   "metadata": {},
   "outputs": [],
   "source": [
    "sales = pd.read_csv(\"sales.csv\")"
   ]
  },
  {
   "cell_type": "code",
   "execution_count": 3,
   "id": "7194aa99-98fa-452a-a763-9d401e38a7f7",
   "metadata": {},
   "outputs": [
    {
     "data": {
      "text/html": [
       "<div>\n",
       "<style scoped>\n",
       "    .dataframe tbody tr th:only-of-type {\n",
       "        vertical-align: middle;\n",
       "    }\n",
       "\n",
       "    .dataframe tbody tr th {\n",
       "        vertical-align: top;\n",
       "    }\n",
       "\n",
       "    .dataframe thead th {\n",
       "        text-align: right;\n",
       "    }\n",
       "</style>\n",
       "<table border=\"1\" class=\"dataframe\">\n",
       "  <thead>\n",
       "    <tr style=\"text-align: right;\">\n",
       "      <th></th>\n",
       "      <th>buyer_id</th>\n",
       "      <th>buyer_country</th>\n",
       "      <th>seller_id</th>\n",
       "      <th>seller_country</th>\n",
       "      <th>product_code</th>\n",
       "      <th>category</th>\n",
       "      <th>brand</th>\n",
       "      <th>currency</th>\n",
       "      <th>price</th>\n",
       "      <th>date</th>\n",
       "    </tr>\n",
       "  </thead>\n",
       "  <tbody>\n",
       "    <tr>\n",
       "      <th>0</th>\n",
       "      <td>qzpjsi9t0o</td>\n",
       "      <td>GB</td>\n",
       "      <td>6oufpaot</td>\n",
       "      <td>GB</td>\n",
       "      <td>ydecnydr6obf</td>\n",
       "      <td>Dresses</td>\n",
       "      <td>NaN</td>\n",
       "      <td>GBP</td>\n",
       "      <td>19.11</td>\n",
       "      <td>2020-08-03</td>\n",
       "    </tr>\n",
       "    <tr>\n",
       "      <th>1</th>\n",
       "      <td>o79pns1qwo</td>\n",
       "      <td>GB</td>\n",
       "      <td>50xki2yg</td>\n",
       "      <td>GB</td>\n",
       "      <td>38chj507o6h2</td>\n",
       "      <td>Outerwear</td>\n",
       "      <td>Adidas Originals</td>\n",
       "      <td>GBP</td>\n",
       "      <td>15.92</td>\n",
       "      <td>2020-08-09</td>\n",
       "    </tr>\n",
       "    <tr>\n",
       "      <th>2</th>\n",
       "      <td>sjgbjdkhqx</td>\n",
       "      <td>GB</td>\n",
       "      <td>50xki2yg</td>\n",
       "      <td>GB</td>\n",
       "      <td>i9ynyxj5tdp8</td>\n",
       "      <td>Tops - Mens</td>\n",
       "      <td>NaN</td>\n",
       "      <td>GBP</td>\n",
       "      <td>6.37</td>\n",
       "      <td>2020-08-07</td>\n",
       "    </tr>\n",
       "    <tr>\n",
       "      <th>3</th>\n",
       "      <td>o79pns1qwo</td>\n",
       "      <td>GB</td>\n",
       "      <td>s0p322hh</td>\n",
       "      <td>GB</td>\n",
       "      <td>t50xe7moye8v</td>\n",
       "      <td>Tops - Mens</td>\n",
       "      <td>Berghaus</td>\n",
       "      <td>GBP</td>\n",
       "      <td>25.27</td>\n",
       "      <td>2020-08-09</td>\n",
       "    </tr>\n",
       "    <tr>\n",
       "      <th>4</th>\n",
       "      <td>o79pns1qwo</td>\n",
       "      <td>GB</td>\n",
       "      <td>dpkx192v</td>\n",
       "      <td>GB</td>\n",
       "      <td>hp4r9bjq68af</td>\n",
       "      <td>Bottoms - Womens</td>\n",
       "      <td>NaN</td>\n",
       "      <td>GBP</td>\n",
       "      <td>8.90</td>\n",
       "      <td>2020-08-09</td>\n",
       "    </tr>\n",
       "  </tbody>\n",
       "</table>\n",
       "</div>"
      ],
      "text/plain": [
       "     buyer_id buyer_country seller_id seller_country  product_code  \\\n",
       "0  qzpjsi9t0o            GB  6oufpaot             GB  ydecnydr6obf   \n",
       "1  o79pns1qwo            GB  50xki2yg             GB  38chj507o6h2   \n",
       "2  sjgbjdkhqx            GB  50xki2yg             GB  i9ynyxj5tdp8   \n",
       "3  o79pns1qwo            GB  s0p322hh             GB  t50xe7moye8v   \n",
       "4  o79pns1qwo            GB  dpkx192v             GB  hp4r9bjq68af   \n",
       "\n",
       "           category             brand currency  price        date  \n",
       "0           Dresses               NaN      GBP  19.11  2020-08-03  \n",
       "1         Outerwear  Adidas Originals      GBP  15.92  2020-08-09  \n",
       "2       Tops - Mens               NaN      GBP   6.37  2020-08-07  \n",
       "3       Tops - Mens          Berghaus      GBP  25.27  2020-08-09  \n",
       "4  Bottoms - Womens               NaN      GBP   8.90  2020-08-09  "
      ]
     },
     "execution_count": 3,
     "metadata": {},
     "output_type": "execute_result"
    }
   ],
   "source": [
    "sales.head()"
   ]
  },
  {
   "cell_type": "code",
   "execution_count": 4,
   "id": "53a7ba48-b61e-4ccd-8456-e4f479873eb5",
   "metadata": {},
   "outputs": [
    {
     "data": {
      "text/plain": [
       "237671"
      ]
     },
     "execution_count": 4,
     "metadata": {},
     "output_type": "execute_result"
    }
   ],
   "source": [
    "len(sales)"
   ]
  },
  {
   "cell_type": "markdown",
   "id": "67cb2efa-94a7-4a65-857a-3ee202151163",
   "metadata": {},
   "source": [
    "## 2. How many columns in the sales dataset?"
   ]
  },
  {
   "cell_type": "code",
   "execution_count": 5,
   "id": "a2be06ed-3c7a-4022-9025-1812478c3be6",
   "metadata": {},
   "outputs": [
    {
     "data": {
      "text/plain": [
       "(237671, 10)"
      ]
     },
     "execution_count": 5,
     "metadata": {},
     "output_type": "execute_result"
    }
   ],
   "source": [
    "sales.shape"
   ]
  },
  {
   "cell_type": "markdown",
   "id": "d2a41c24-c934-48b1-8255-a7dd764b0859",
   "metadata": {},
   "source": [
    "## 3. What is the total number of sellers?"
   ]
  },
  {
   "cell_type": "code",
   "execution_count": 6,
   "id": "afebf121-ca1a-4cc5-980a-c5252096b3de",
   "metadata": {},
   "outputs": [
    {
     "data": {
      "text/plain": [
       "114227"
      ]
     },
     "execution_count": 6,
     "metadata": {},
     "output_type": "execute_result"
    }
   ],
   "source": [
    "sales.seller_id.nunique()"
   ]
  },
  {
   "cell_type": "markdown",
   "id": "162de46c-a944-4f13-9231-ab9f78592f23",
   "metadata": {},
   "source": [
    "## 4. What is the total value of sales in EUR?"
   ]
  },
  {
   "cell_type": "code",
   "execution_count": 7,
   "id": "674f02c4-a6bc-4594-9f97-cf9b23b2ab58",
   "metadata": {},
   "outputs": [],
   "source": [
    "currency_rates = pd.read_csv(\"currency_rates.csv\")"
   ]
  },
  {
   "cell_type": "code",
   "execution_count": 8,
   "id": "81d1a9ed-912d-419f-a859-79f9da9aa355",
   "metadata": {},
   "outputs": [
    {
     "data": {
      "text/html": [
       "<div>\n",
       "<style scoped>\n",
       "    .dataframe tbody tr th:only-of-type {\n",
       "        vertical-align: middle;\n",
       "    }\n",
       "\n",
       "    .dataframe tbody tr th {\n",
       "        vertical-align: top;\n",
       "    }\n",
       "\n",
       "    .dataframe thead th {\n",
       "        text-align: right;\n",
       "    }\n",
       "</style>\n",
       "<table border=\"1\" class=\"dataframe\">\n",
       "  <thead>\n",
       "    <tr style=\"text-align: right;\">\n",
       "      <th></th>\n",
       "      <th>currency</th>\n",
       "      <th>date</th>\n",
       "      <th>rate</th>\n",
       "    </tr>\n",
       "  </thead>\n",
       "  <tbody>\n",
       "    <tr>\n",
       "      <th>0</th>\n",
       "      <td>EUR</td>\n",
       "      <td>8/1/2020</td>\n",
       "      <td>1.000000</td>\n",
       "    </tr>\n",
       "    <tr>\n",
       "      <th>1</th>\n",
       "      <td>EUR</td>\n",
       "      <td>8/2/2020</td>\n",
       "      <td>1.000000</td>\n",
       "    </tr>\n",
       "    <tr>\n",
       "      <th>2</th>\n",
       "      <td>EUR</td>\n",
       "      <td>8/3/2020</td>\n",
       "      <td>1.000000</td>\n",
       "    </tr>\n",
       "    <tr>\n",
       "      <th>3</th>\n",
       "      <td>EUR</td>\n",
       "      <td>8/4/2020</td>\n",
       "      <td>1.000000</td>\n",
       "    </tr>\n",
       "    <tr>\n",
       "      <th>4</th>\n",
       "      <td>EUR</td>\n",
       "      <td>8/5/2020</td>\n",
       "      <td>1.000000</td>\n",
       "    </tr>\n",
       "    <tr>\n",
       "      <th>5</th>\n",
       "      <td>EUR</td>\n",
       "      <td>8/6/2020</td>\n",
       "      <td>1.000000</td>\n",
       "    </tr>\n",
       "    <tr>\n",
       "      <th>6</th>\n",
       "      <td>EUR</td>\n",
       "      <td>8/7/2020</td>\n",
       "      <td>1.000000</td>\n",
       "    </tr>\n",
       "    <tr>\n",
       "      <th>7</th>\n",
       "      <td>EUR</td>\n",
       "      <td>8/8/2020</td>\n",
       "      <td>1.000000</td>\n",
       "    </tr>\n",
       "    <tr>\n",
       "      <th>8</th>\n",
       "      <td>EUR</td>\n",
       "      <td>8/9/2020</td>\n",
       "      <td>1.000000</td>\n",
       "    </tr>\n",
       "    <tr>\n",
       "      <th>9</th>\n",
       "      <td>EUR</td>\n",
       "      <td>8/10/2020</td>\n",
       "      <td>1.000000</td>\n",
       "    </tr>\n",
       "    <tr>\n",
       "      <th>10</th>\n",
       "      <td>GBP</td>\n",
       "      <td>8/1/2020</td>\n",
       "      <td>0.900185</td>\n",
       "    </tr>\n",
       "    <tr>\n",
       "      <th>11</th>\n",
       "      <td>GBP</td>\n",
       "      <td>8/2/2020</td>\n",
       "      <td>0.899325</td>\n",
       "    </tr>\n",
       "    <tr>\n",
       "      <th>12</th>\n",
       "      <td>GBP</td>\n",
       "      <td>8/3/2020</td>\n",
       "      <td>0.899350</td>\n",
       "    </tr>\n",
       "    <tr>\n",
       "      <th>13</th>\n",
       "      <td>GBP</td>\n",
       "      <td>8/4/2020</td>\n",
       "      <td>0.902815</td>\n",
       "    </tr>\n",
       "    <tr>\n",
       "      <th>14</th>\n",
       "      <td>GBP</td>\n",
       "      <td>8/5/2020</td>\n",
       "      <td>0.904500</td>\n",
       "    </tr>\n",
       "    <tr>\n",
       "      <th>15</th>\n",
       "      <td>GBP</td>\n",
       "      <td>8/6/2020</td>\n",
       "      <td>0.903835</td>\n",
       "    </tr>\n",
       "    <tr>\n",
       "      <th>16</th>\n",
       "      <td>GBP</td>\n",
       "      <td>8/7/2020</td>\n",
       "      <td>0.902860</td>\n",
       "    </tr>\n",
       "    <tr>\n",
       "      <th>17</th>\n",
       "      <td>GBP</td>\n",
       "      <td>8/8/2020</td>\n",
       "      <td>0.903200</td>\n",
       "    </tr>\n",
       "    <tr>\n",
       "      <th>18</th>\n",
       "      <td>GBP</td>\n",
       "      <td>8/9/2020</td>\n",
       "      <td>0.902780</td>\n",
       "    </tr>\n",
       "    <tr>\n",
       "      <th>19</th>\n",
       "      <td>GBP</td>\n",
       "      <td>8/10/2020</td>\n",
       "      <td>0.897750</td>\n",
       "    </tr>\n",
       "  </tbody>\n",
       "</table>\n",
       "</div>"
      ],
      "text/plain": [
       "   currency       date      rate\n",
       "0       EUR   8/1/2020  1.000000\n",
       "1       EUR   8/2/2020  1.000000\n",
       "2       EUR   8/3/2020  1.000000\n",
       "3       EUR   8/4/2020  1.000000\n",
       "4       EUR   8/5/2020  1.000000\n",
       "5       EUR   8/6/2020  1.000000\n",
       "6       EUR   8/7/2020  1.000000\n",
       "7       EUR   8/8/2020  1.000000\n",
       "8       EUR   8/9/2020  1.000000\n",
       "9       EUR  8/10/2020  1.000000\n",
       "10      GBP   8/1/2020  0.900185\n",
       "11      GBP   8/2/2020  0.899325\n",
       "12      GBP   8/3/2020  0.899350\n",
       "13      GBP   8/4/2020  0.902815\n",
       "14      GBP   8/5/2020  0.904500\n",
       "15      GBP   8/6/2020  0.903835\n",
       "16      GBP   8/7/2020  0.902860\n",
       "17      GBP   8/8/2020  0.903200\n",
       "18      GBP   8/9/2020  0.902780\n",
       "19      GBP  8/10/2020  0.897750"
      ]
     },
     "execution_count": 8,
     "metadata": {},
     "output_type": "execute_result"
    }
   ],
   "source": [
    "currency_rates.head(20)"
   ]
  },
  {
   "cell_type": "code",
   "execution_count": 9,
   "id": "605b3ba3-6432-4468-8e6f-90bb926011f3",
   "metadata": {},
   "outputs": [
    {
     "name": "stdout",
     "output_type": "stream",
     "text": [
      "<class 'pandas.core.frame.DataFrame'>\n",
      "RangeIndex: 220 entries, 0 to 219\n",
      "Data columns (total 3 columns):\n",
      " #   Column    Non-Null Count  Dtype  \n",
      "---  ------    --------------  -----  \n",
      " 0   currency  220 non-null    object \n",
      " 1   date      220 non-null    object \n",
      " 2   rate      220 non-null    float64\n",
      "dtypes: float64(1), object(2)\n",
      "memory usage: 5.3+ KB\n"
     ]
    }
   ],
   "source": [
    "currency_rates.info() "
   ]
  },
  {
   "cell_type": "code",
   "execution_count": 10,
   "id": "6c08ecc4-7188-4126-95d5-5425ac116103",
   "metadata": {},
   "outputs": [
    {
     "name": "stdout",
     "output_type": "stream",
     "text": [
      "<class 'pandas.core.frame.DataFrame'>\n",
      "RangeIndex: 237671 entries, 0 to 237670\n",
      "Data columns (total 10 columns):\n",
      " #   Column          Non-Null Count   Dtype  \n",
      "---  ------          --------------   -----  \n",
      " 0   buyer_id        237671 non-null  object \n",
      " 1   buyer_country   237671 non-null  object \n",
      " 2   seller_id       237671 non-null  object \n",
      " 3   seller_country  237671 non-null  object \n",
      " 4   product_code    237671 non-null  object \n",
      " 5   category        237655 non-null  object \n",
      " 6   brand           119330 non-null  object \n",
      " 7   currency        237671 non-null  object \n",
      " 8   price           237671 non-null  float64\n",
      " 9   date            237671 non-null  object \n",
      "dtypes: float64(1), object(9)\n",
      "memory usage: 18.1+ MB\n"
     ]
    }
   ],
   "source": [
    "sales.info()"
   ]
  },
  {
   "cell_type": "markdown",
   "id": "d4031342-97f3-479f-90bc-401221e0a2af",
   "metadata": {},
   "source": [
    "\n",
    "<div class=\"alert alert-danger\" role=\"alert\">\n",
    "  Convert the date data type to date.\n",
    "</div>"
   ]
  },
  {
   "cell_type": "code",
   "execution_count": 11,
   "id": "9f76eed0-de3b-46e5-b2c3-959835ad2d2c",
   "metadata": {},
   "outputs": [],
   "source": [
    "currency_rates.date = pd.to_datetime(currency_rates.date)"
   ]
  },
  {
   "cell_type": "code",
   "execution_count": 12,
   "id": "fd2eae0d-7ace-4f5a-95e6-8189ccdbd8de",
   "metadata": {},
   "outputs": [
    {
     "data": {
      "text/plain": [
       "numpy.datetime64"
      ]
     },
     "execution_count": 12,
     "metadata": {},
     "output_type": "execute_result"
    }
   ],
   "source": [
    "currency_rates.date.dtype.type"
   ]
  },
  {
   "cell_type": "code",
   "execution_count": 13,
   "id": "12af8339-8e5d-4d1d-aa69-61088b75093b",
   "metadata": {},
   "outputs": [],
   "source": [
    "sales.date = pd.to_datetime(sales.date)"
   ]
  },
  {
   "cell_type": "code",
   "execution_count": 14,
   "id": "0a76bd69-fb4a-446e-9440-5ca00068373a",
   "metadata": {},
   "outputs": [
    {
     "data": {
      "text/plain": [
       "numpy.datetime64"
      ]
     },
     "execution_count": 14,
     "metadata": {},
     "output_type": "execute_result"
    }
   ],
   "source": [
    "sales.date.dtype.type"
   ]
  },
  {
   "cell_type": "code",
   "execution_count": 15,
   "id": "bf297847-6a61-4eb0-b14e-44837ca9227f",
   "metadata": {},
   "outputs": [],
   "source": [
    "new_df = sales.merge(currency_rates, how =\"inner\", on=[\"currency\",\"date\"])"
   ]
  },
  {
   "cell_type": "code",
   "execution_count": 16,
   "id": "9f2dee9b-7349-4e66-903f-cf5fedeae8ce",
   "metadata": {},
   "outputs": [
    {
     "data": {
      "text/html": [
       "<div>\n",
       "<style scoped>\n",
       "    .dataframe tbody tr th:only-of-type {\n",
       "        vertical-align: middle;\n",
       "    }\n",
       "\n",
       "    .dataframe tbody tr th {\n",
       "        vertical-align: top;\n",
       "    }\n",
       "\n",
       "    .dataframe thead th {\n",
       "        text-align: right;\n",
       "    }\n",
       "</style>\n",
       "<table border=\"1\" class=\"dataframe\">\n",
       "  <thead>\n",
       "    <tr style=\"text-align: right;\">\n",
       "      <th></th>\n",
       "      <th>buyer_id</th>\n",
       "      <th>buyer_country</th>\n",
       "      <th>seller_id</th>\n",
       "      <th>seller_country</th>\n",
       "      <th>product_code</th>\n",
       "      <th>category</th>\n",
       "      <th>brand</th>\n",
       "      <th>currency</th>\n",
       "      <th>price</th>\n",
       "      <th>date</th>\n",
       "      <th>rate</th>\n",
       "    </tr>\n",
       "  </thead>\n",
       "  <tbody>\n",
       "    <tr>\n",
       "      <th>0</th>\n",
       "      <td>qzpjsi9t0o</td>\n",
       "      <td>GB</td>\n",
       "      <td>6oufpaot</td>\n",
       "      <td>GB</td>\n",
       "      <td>ydecnydr6obf</td>\n",
       "      <td>Dresses</td>\n",
       "      <td>NaN</td>\n",
       "      <td>GBP</td>\n",
       "      <td>19.11</td>\n",
       "      <td>2020-08-03</td>\n",
       "      <td>0.89935</td>\n",
       "    </tr>\n",
       "    <tr>\n",
       "      <th>1</th>\n",
       "      <td>rd209r8c7c</td>\n",
       "      <td>GB</td>\n",
       "      <td>9p2ansc9</td>\n",
       "      <td>GB</td>\n",
       "      <td>wpxxf59cq7pc</td>\n",
       "      <td>Outerwear - Mens</td>\n",
       "      <td>Adidas Originals</td>\n",
       "      <td>GBP</td>\n",
       "      <td>24.91</td>\n",
       "      <td>2020-08-03</td>\n",
       "      <td>0.89935</td>\n",
       "    </tr>\n",
       "    <tr>\n",
       "      <th>2</th>\n",
       "      <td>pqbcrl8azx</td>\n",
       "      <td>GB</td>\n",
       "      <td>r9zmzem8</td>\n",
       "      <td>GB</td>\n",
       "      <td>ua9mmn86wsqy</td>\n",
       "      <td>Tops - Womens</td>\n",
       "      <td>NaN</td>\n",
       "      <td>GBP</td>\n",
       "      <td>19.31</td>\n",
       "      <td>2020-08-03</td>\n",
       "      <td>0.89935</td>\n",
       "    </tr>\n",
       "    <tr>\n",
       "      <th>3</th>\n",
       "      <td>j5en1rwmxp</td>\n",
       "      <td>GB</td>\n",
       "      <td>3o2nz88r</td>\n",
       "      <td>GB</td>\n",
       "      <td>tduo2uy8iszl</td>\n",
       "      <td>Bottoms - Womens</td>\n",
       "      <td>Urban Outfitters</td>\n",
       "      <td>GBP</td>\n",
       "      <td>16.98</td>\n",
       "      <td>2020-08-03</td>\n",
       "      <td>0.89935</td>\n",
       "    </tr>\n",
       "    <tr>\n",
       "      <th>4</th>\n",
       "      <td>kjdezxeh1l</td>\n",
       "      <td>GB</td>\n",
       "      <td>7g56ublf</td>\n",
       "      <td>GB</td>\n",
       "      <td>39o00tcu89zq</td>\n",
       "      <td>Other</td>\n",
       "      <td>NaN</td>\n",
       "      <td>GBP</td>\n",
       "      <td>2.85</td>\n",
       "      <td>2020-08-03</td>\n",
       "      <td>0.89935</td>\n",
       "    </tr>\n",
       "  </tbody>\n",
       "</table>\n",
       "</div>"
      ],
      "text/plain": [
       "     buyer_id buyer_country seller_id seller_country  product_code  \\\n",
       "0  qzpjsi9t0o            GB  6oufpaot             GB  ydecnydr6obf   \n",
       "1  rd209r8c7c            GB  9p2ansc9             GB  wpxxf59cq7pc   \n",
       "2  pqbcrl8azx            GB  r9zmzem8             GB  ua9mmn86wsqy   \n",
       "3  j5en1rwmxp            GB  3o2nz88r             GB  tduo2uy8iszl   \n",
       "4  kjdezxeh1l            GB  7g56ublf             GB  39o00tcu89zq   \n",
       "\n",
       "           category             brand currency  price       date     rate  \n",
       "0           Dresses               NaN      GBP  19.11 2020-08-03  0.89935  \n",
       "1  Outerwear - Mens  Adidas Originals      GBP  24.91 2020-08-03  0.89935  \n",
       "2     Tops - Womens               NaN      GBP  19.31 2020-08-03  0.89935  \n",
       "3  Bottoms - Womens  Urban Outfitters      GBP  16.98 2020-08-03  0.89935  \n",
       "4             Other               NaN      GBP   2.85 2020-08-03  0.89935  "
      ]
     },
     "execution_count": 16,
     "metadata": {},
     "output_type": "execute_result"
    }
   ],
   "source": [
    "new_df.head()"
   ]
  },
  {
   "cell_type": "code",
   "execution_count": 17,
   "id": "962b9aa8-e203-480f-aa7a-92ec1d7a95dc",
   "metadata": {},
   "outputs": [],
   "source": [
    "new_df[\"total\"] = new_df.price / new_df.rate"
   ]
  },
  {
   "cell_type": "code",
   "execution_count": 18,
   "id": "774586c8-8baa-41a6-b141-35beb24bb185",
   "metadata": {},
   "outputs": [
    {
     "data": {
      "text/html": [
       "<div>\n",
       "<style scoped>\n",
       "    .dataframe tbody tr th:only-of-type {\n",
       "        vertical-align: middle;\n",
       "    }\n",
       "\n",
       "    .dataframe tbody tr th {\n",
       "        vertical-align: top;\n",
       "    }\n",
       "\n",
       "    .dataframe thead th {\n",
       "        text-align: right;\n",
       "    }\n",
       "</style>\n",
       "<table border=\"1\" class=\"dataframe\">\n",
       "  <thead>\n",
       "    <tr style=\"text-align: right;\">\n",
       "      <th></th>\n",
       "      <th>buyer_id</th>\n",
       "      <th>buyer_country</th>\n",
       "      <th>seller_id</th>\n",
       "      <th>seller_country</th>\n",
       "      <th>product_code</th>\n",
       "      <th>category</th>\n",
       "      <th>brand</th>\n",
       "      <th>currency</th>\n",
       "      <th>price</th>\n",
       "      <th>date</th>\n",
       "      <th>rate</th>\n",
       "      <th>total</th>\n",
       "    </tr>\n",
       "  </thead>\n",
       "  <tbody>\n",
       "    <tr>\n",
       "      <th>0</th>\n",
       "      <td>qzpjsi9t0o</td>\n",
       "      <td>GB</td>\n",
       "      <td>6oufpaot</td>\n",
       "      <td>GB</td>\n",
       "      <td>ydecnydr6obf</td>\n",
       "      <td>Dresses</td>\n",
       "      <td>NaN</td>\n",
       "      <td>GBP</td>\n",
       "      <td>19.11</td>\n",
       "      <td>2020-08-03</td>\n",
       "      <td>0.89935</td>\n",
       "      <td>21.248680</td>\n",
       "    </tr>\n",
       "    <tr>\n",
       "      <th>1</th>\n",
       "      <td>rd209r8c7c</td>\n",
       "      <td>GB</td>\n",
       "      <td>9p2ansc9</td>\n",
       "      <td>GB</td>\n",
       "      <td>wpxxf59cq7pc</td>\n",
       "      <td>Outerwear - Mens</td>\n",
       "      <td>Adidas Originals</td>\n",
       "      <td>GBP</td>\n",
       "      <td>24.91</td>\n",
       "      <td>2020-08-03</td>\n",
       "      <td>0.89935</td>\n",
       "      <td>27.697782</td>\n",
       "    </tr>\n",
       "    <tr>\n",
       "      <th>2</th>\n",
       "      <td>pqbcrl8azx</td>\n",
       "      <td>GB</td>\n",
       "      <td>r9zmzem8</td>\n",
       "      <td>GB</td>\n",
       "      <td>ua9mmn86wsqy</td>\n",
       "      <td>Tops - Womens</td>\n",
       "      <td>NaN</td>\n",
       "      <td>GBP</td>\n",
       "      <td>19.31</td>\n",
       "      <td>2020-08-03</td>\n",
       "      <td>0.89935</td>\n",
       "      <td>21.471062</td>\n",
       "    </tr>\n",
       "    <tr>\n",
       "      <th>3</th>\n",
       "      <td>j5en1rwmxp</td>\n",
       "      <td>GB</td>\n",
       "      <td>3o2nz88r</td>\n",
       "      <td>GB</td>\n",
       "      <td>tduo2uy8iszl</td>\n",
       "      <td>Bottoms - Womens</td>\n",
       "      <td>Urban Outfitters</td>\n",
       "      <td>GBP</td>\n",
       "      <td>16.98</td>\n",
       "      <td>2020-08-03</td>\n",
       "      <td>0.89935</td>\n",
       "      <td>18.880302</td>\n",
       "    </tr>\n",
       "    <tr>\n",
       "      <th>4</th>\n",
       "      <td>kjdezxeh1l</td>\n",
       "      <td>GB</td>\n",
       "      <td>7g56ublf</td>\n",
       "      <td>GB</td>\n",
       "      <td>39o00tcu89zq</td>\n",
       "      <td>Other</td>\n",
       "      <td>NaN</td>\n",
       "      <td>GBP</td>\n",
       "      <td>2.85</td>\n",
       "      <td>2020-08-03</td>\n",
       "      <td>0.89935</td>\n",
       "      <td>3.168955</td>\n",
       "    </tr>\n",
       "  </tbody>\n",
       "</table>\n",
       "</div>"
      ],
      "text/plain": [
       "     buyer_id buyer_country seller_id seller_country  product_code  \\\n",
       "0  qzpjsi9t0o            GB  6oufpaot             GB  ydecnydr6obf   \n",
       "1  rd209r8c7c            GB  9p2ansc9             GB  wpxxf59cq7pc   \n",
       "2  pqbcrl8azx            GB  r9zmzem8             GB  ua9mmn86wsqy   \n",
       "3  j5en1rwmxp            GB  3o2nz88r             GB  tduo2uy8iszl   \n",
       "4  kjdezxeh1l            GB  7g56ublf             GB  39o00tcu89zq   \n",
       "\n",
       "           category             brand currency  price       date     rate  \\\n",
       "0           Dresses               NaN      GBP  19.11 2020-08-03  0.89935   \n",
       "1  Outerwear - Mens  Adidas Originals      GBP  24.91 2020-08-03  0.89935   \n",
       "2     Tops - Womens               NaN      GBP  19.31 2020-08-03  0.89935   \n",
       "3  Bottoms - Womens  Urban Outfitters      GBP  16.98 2020-08-03  0.89935   \n",
       "4             Other               NaN      GBP   2.85 2020-08-03  0.89935   \n",
       "\n",
       "       total  \n",
       "0  21.248680  \n",
       "1  27.697782  \n",
       "2  21.471062  \n",
       "3  18.880302  \n",
       "4   3.168955  "
      ]
     },
     "execution_count": 18,
     "metadata": {},
     "output_type": "execute_result"
    }
   ],
   "source": [
    "new_df.head()"
   ]
  },
  {
   "cell_type": "code",
   "execution_count": 19,
   "id": "57d21a43-095b-47f8-bb9e-bbab9c24f6e8",
   "metadata": {},
   "outputs": [
    {
     "data": {
      "text/plain": [
       "6471510.822498876"
      ]
     },
     "execution_count": 19,
     "metadata": {},
     "output_type": "execute_result"
    }
   ],
   "source": [
    "new_df.total.sum()"
   ]
  },
  {
   "cell_type": "markdown",
   "id": "f149e789-957a-456f-87aa-9a5ebdc3d66b",
   "metadata": {},
   "source": [
    "## 5. Which brand has the highest number of purchases during the period?"
   ]
  },
  {
   "cell_type": "code",
   "execution_count": 20,
   "id": "ad36082c-f4b6-4742-bf07-4b9fcae20ea5",
   "metadata": {},
   "outputs": [
    {
     "data": {
      "text/plain": [
       "Nike    9575\n",
       "Name: brand, dtype: int64"
      ]
     },
     "execution_count": 20,
     "metadata": {},
     "output_type": "execute_result"
    }
   ],
   "source": [
    "new_df.brand.value_counts().head(1)"
   ]
  },
  {
   "cell_type": "code",
   "execution_count": 21,
   "id": "e4a11e3a-d232-4109-9720-748deacd123e",
   "metadata": {},
   "outputs": [
    {
     "data": {
      "text/plain": [
       "<AxesSubplot:>"
      ]
     },
     "execution_count": 21,
     "metadata": {},
     "output_type": "execute_result"
    },
    {
     "data": {
      "image/png": "[encoded data removed]",
      "text/plain": [
       "<Figure size 432x288 with 1 Axes>"
      ]
     },
     "metadata": {},
     "output_type": "display_data"
    }
   ],
   "source": [
    "new_df.brand.value_counts().head(10).plot.bar()"
   ]
  },
  {
   "cell_type": "code",
   "execution_count": 22,
   "id": "e6c5a253-1ce8-4b7b-b134-3e20e42001ab",
   "metadata": {},
   "outputs": [
    {
     "data": {
      "image/png": "[encoded data removed]",
      "text/plain": [
       "<Figure size 432x288 with 1 Axes>"
      ]
     },
     "metadata": {},
     "output_type": "display_data"
    }
   ],
   "source": [
    "sns.barplot(x=new_df.brand.value_counts().head(10).index, y=new_df.brand.value_counts().head(10).values)\n",
    "plt.xticks(rotation=90);"
   ]
  },
  {
   "cell_type": "markdown",
   "id": "73634acf-eaa8-47b6-8eac-5369dec2e34e",
   "metadata": {},
   "source": [
    "## 6. How many items in the “Jewellery” category have no brand associated with them?"
   ]
  },
  {
   "cell_type": "code",
   "execution_count": 23,
   "id": "c01d2c20-d200-4a54-8130-8f51467829e7",
   "metadata": {},
   "outputs": [
    {
     "data": {
      "text/plain": [
       "10931"
      ]
     },
     "execution_count": 23,
     "metadata": {},
     "output_type": "execute_result"
    }
   ],
   "source": [
    "sales[(sales.category == \"Jewellery\") & (sales.brand.isnull())].product_code.nunique()"
   ]
  },
  {
   "cell_type": "markdown",
   "id": "6133dc73-29e7-4e78-8cf9-011f3a1ff4ea",
   "metadata": {},
   "source": [
    "## 7. How many brands have between 35 and 55 transactions (inclusive)? (Suggested Chart Type: Bar Chart)"
   ]
  },
  {
   "cell_type": "code",
   "execution_count": 24,
   "id": "699fa11d-af79-413b-b0b1-d96f0de7d3ec",
   "metadata": {},
   "outputs": [
    {
     "data": {
      "text/plain": [
       "[['George', 55],\n",
       " ['Missy Empire', 55],\n",
       " ['Cotton On', 53],\n",
       " ['liquid blue', 52],\n",
       " ['Oasis', 52],\n",
       " ['Moda Minx', 52],\n",
       " ['Marlboro', 52],\n",
       " ['EGO', 51],\n",
       " ['Office', 51],\n",
       " ['Kickers', 50],\n",
       " ['UGG', 50],\n",
       " ['Anthropologie', 50],\n",
       " ['Chaps', 50],\n",
       " ['Real Techniques', 50],\n",
       " ['Patta', 49],\n",
       " ['Bebe', 49],\n",
       " ['Clinique', 49],\n",
       " ['Eddie Bauer', 48],\n",
       " ['Vlone', 48],\n",
       " ['Whistles', 48],\n",
       " ['Slazenger', 48],\n",
       " ['Demonia', 48],\n",
       " ['Paul Smith', 48],\n",
       " ['Boux Avenue', 47],\n",
       " ['Herschel Supply Co.', 46],\n",
       " ['Pink Boutique', 46],\n",
       " ['J.Crew', 46],\n",
       " ['Fabletics', 46],\n",
       " ['F&F', 46],\n",
       " ['LF', 45],\n",
       " ['Banana Republic', 44],\n",
       " ['Barbour', 44],\n",
       " ['Garage', 44],\n",
       " ['Travis Scott', 44],\n",
       " ['Jerzees', 44],\n",
       " ['Kaws', 44],\n",
       " ['ARE YOU AM I', 43],\n",
       " ['SIKSILK', 43],\n",
       " ['Rat & Boa', 43],\n",
       " ['Skinnydip', 43],\n",
       " ['Odd Future', 43],\n",
       " ['Gym King', 43],\n",
       " ['Jeffrey Campbell', 43],\n",
       " ['Weekday', 43],\n",
       " ['Tripp NYC', 42],\n",
       " ['Select Fashion', 42],\n",
       " ['NYX', 42],\n",
       " ['BaByliss', 42],\n",
       " ['Laura Mercier', 42],\n",
       " ['Faded Glory', 42],\n",
       " ['Longchamp', 41],\n",
       " ['Buffalo London', 41],\n",
       " ['Polar Skate Co', 41],\n",
       " ['Karen Millen', 41],\n",
       " ['Gosha Rubchinskiy', 41],\n",
       " ['Mossimo', 41],\n",
       " ['New Era', 40],\n",
       " ['Dead Bored Club ', 40],\n",
       " [\"L'Oréal\", 40],\n",
       " ['Vineyard Vines', 39],\n",
       " ['Betsey Johnson', 39],\n",
       " ['Sergio Tacchini', 39],\n",
       " ['Dune', 39],\n",
       " ['Paul & Shark', 38],\n",
       " ['For Love & Lemons', 37],\n",
       " ['Tillys', 37],\n",
       " ['Nordstrom', 37],\n",
       " ['BOSS', 37],\n",
       " ['The Hundreds', 37],\n",
       " ['Helly Hansen', 36],\n",
       " ['Joules', 36],\n",
       " ['Maharishi', 36],\n",
       " ['Arizona', 36],\n",
       " ['Jansport', 35],\n",
       " ['Mario Badescu', 35],\n",
       " ['Bobbi Brown', 35],\n",
       " ['Xhilaration', 35],\n",
       " ['Morgan De Toi', 35],\n",
       " ['Mulberry', 35],\n",
       " ['Chi Chi London', 35],\n",
       " ['ghd', 35]]"
      ]
     },
     "execution_count": 24,
     "metadata": {},
     "output_type": "execute_result"
    }
   ],
   "source": [
    "brands = []\n",
    "for i in sales.brand.value_counts().items():\n",
    "    if 35<= i[1] <=55:\n",
    "        brands.append([i[0],i[1]])\n",
    "brands"
   ]
  },
  {
   "cell_type": "code",
   "execution_count": 25,
   "id": "76b9d279-d317-4cc0-863d-8da68b7d1917",
   "metadata": {},
   "outputs": [],
   "source": [
    "br = pd.DataFrame(brands, columns=[\"brand\",\"number\"])"
   ]
  },
  {
   "cell_type": "code",
   "execution_count": 26,
   "id": "c217a2cc-d8ad-40c3-9078-29eb2bfb42aa",
   "metadata": {},
   "outputs": [
    {
     "data": {
      "text/html": [
       "<div>\n",
       "<style scoped>\n",
       "    .dataframe tbody tr th:only-of-type {\n",
       "        vertical-align: middle;\n",
       "    }\n",
       "\n",
       "    .dataframe tbody tr th {\n",
       "        vertical-align: top;\n",
       "    }\n",
       "\n",
       "    .dataframe thead th {\n",
       "        text-align: right;\n",
       "    }\n",
       "</style>\n",
       "<table border=\"1\" class=\"dataframe\">\n",
       "  <thead>\n",
       "    <tr style=\"text-align: right;\">\n",
       "      <th></th>\n",
       "      <th>brand</th>\n",
       "      <th>number</th>\n",
       "    </tr>\n",
       "  </thead>\n",
       "  <tbody>\n",
       "    <tr>\n",
       "      <th>0</th>\n",
       "      <td>George</td>\n",
       "      <td>55</td>\n",
       "    </tr>\n",
       "    <tr>\n",
       "      <th>1</th>\n",
       "      <td>Missy Empire</td>\n",
       "      <td>55</td>\n",
       "    </tr>\n",
       "    <tr>\n",
       "      <th>2</th>\n",
       "      <td>Cotton On</td>\n",
       "      <td>53</td>\n",
       "    </tr>\n",
       "    <tr>\n",
       "      <th>3</th>\n",
       "      <td>liquid blue</td>\n",
       "      <td>52</td>\n",
       "    </tr>\n",
       "    <tr>\n",
       "      <th>4</th>\n",
       "      <td>Oasis</td>\n",
       "      <td>52</td>\n",
       "    </tr>\n",
       "  </tbody>\n",
       "</table>\n",
       "</div>"
      ],
      "text/plain": [
       "          brand  number\n",
       "0        George      55\n",
       "1  Missy Empire      55\n",
       "2     Cotton On      53\n",
       "3   liquid blue      52\n",
       "4         Oasis      52"
      ]
     },
     "execution_count": 26,
     "metadata": {},
     "output_type": "execute_result"
    }
   ],
   "source": [
    "br.head()"
   ]
  },
  {
   "cell_type": "code",
   "execution_count": 27,
   "id": "120bab78-774a-438f-b94e-56c40107a149",
   "metadata": {},
   "outputs": [
    {
     "data": {
      "image/png": "[encoded data removed]",
      "text/plain": [
       "<Figure size 1296x720 with 1 Axes>"
      ]
     },
     "metadata": {},
     "output_type": "display_data"
    }
   ],
   "source": [
    "plt.figure(figsize=[18,10])\n",
    "\n",
    "sns.barplot(x=br.brand, y=br.number)\n",
    "\n",
    "for i,v in enumerate(br.number):\n",
    "    plt.text(i,v, str(v))\n",
    "    \n",
    "plt.xticks(rotation=90);"
   ]
  },
  {
   "cell_type": "markdown",
   "id": "58c2a515-f10d-47a0-962b-82ae7a4439b1",
   "metadata": {},
   "source": [
    "## 8. How many pairs of shoes were purchased by Australian (AU) buyers?"
   ]
  },
  {
   "cell_type": "code",
   "execution_count": 28,
   "id": "b46d8339-aea6-4e2d-a121-22aed8870297",
   "metadata": {},
   "outputs": [
    {
     "data": {
      "text/plain": [
       "658"
      ]
     },
     "execution_count": 28,
     "metadata": {},
     "output_type": "execute_result"
    }
   ],
   "source": [
    "len(new_df[(new_df.category == \"Shoes\") & (new_df.buyer_country == \"AU\")])"
   ]
  },
  {
   "cell_type": "markdown",
   "id": "a1acc7e0-656e-42a6-8115-38bf61f25d90",
   "metadata": {},
   "source": [
    "## 9.Which brand has the highest average transaction value? Bring all values in Euros. (Suggested Chart Type: Horizontal Bar Chart)"
   ]
  },
  {
   "cell_type": "code",
   "execution_count": 29,
   "id": "47dba4da-5ccb-4941-88d5-fd36c2758ba2",
   "metadata": {},
   "outputs": [
    {
     "data": {
      "text/plain": [
       "brand\n",
       "Goyard            338.926936\n",
       "Loewe             334.530369\n",
       "Craig Green       266.792684\n",
       "TAG Heuer         224.586782\n",
       "Emilio Pucci      214.758636\n",
       "                     ...    \n",
       "Popular Sports      4.452175\n",
       "Max Factor          4.329298\n",
       "Bronica             3.329066\n",
       "360 Cashmere        0.950906\n",
       "36572               0.950199\n",
       "Name: total, Length: 1134, dtype: float64"
      ]
     },
     "execution_count": 29,
     "metadata": {},
     "output_type": "execute_result"
    }
   ],
   "source": [
    "new_df.groupby(\"brand\")[\"total\"].mean().sort_values(ascending = False)"
   ]
  },
  {
   "cell_type": "code",
   "execution_count": 30,
   "id": "d5f16a10-aa63-409c-8d94-60cf0a2c349f",
   "metadata": {},
   "outputs": [],
   "source": [
    "brand_mean = new_df.groupby(\"brand\")[\"total\"].mean().sort_values(ascending = False)"
   ]
  },
  {
   "cell_type": "code",
   "execution_count": 31,
   "id": "8e5b760e-fb9e-4f72-8ef8-638bd5f985ba",
   "metadata": {},
   "outputs": [
    {
     "data": {
      "image/png": "[encoded data removed]",
      "text/plain": [
       "<Figure size 1080x720 with 1 Axes>"
      ]
     },
     "metadata": {},
     "output_type": "display_data"
    }
   ],
   "source": [
    "plt.figure(figsize=[15,10])\n",
    "\n",
    "sns.barplot(x=brand_mean.index[0:10], y=brand_mean.values[0:10])\n",
    "\n",
    "for i,v in enumerate(brand_mean.values[0:10]):\n",
    "    plt.text(i,v+10, str(round(v,2)),horizontalalignment='center', verticalalignment='center')\n",
    "\n",
    "    \n",
    "plt.xticks(rotation=90);"
   ]
  },
  {
   "cell_type": "markdown",
   "id": "c1b27f2e-aa3d-4f33-b6ac-736d53cddc5c",
   "metadata": {},
   "source": [
    "## 10.What is the total value of items purchased by GB buyers from GB sellers?"
   ]
  },
  {
   "cell_type": "code",
   "execution_count": 32,
   "id": "cd0f61d4-dc33-40bc-b2d0-c1025a847c52",
   "metadata": {},
   "outputs": [
    {
     "data": {
      "text/plain": [
       "3526745.033129233"
      ]
     },
     "execution_count": 32,
     "metadata": {},
     "output_type": "execute_result"
    }
   ],
   "source": [
    "new_df[(new_df.seller_country == \"GB\") & (new_df.buyer_country == \"GB\")][\"total\"].sum()"
   ]
  },
  {
   "cell_type": "markdown",
   "id": "e219b2d2-d484-43b7-af10-77ad32ae5190",
   "metadata": {},
   "source": [
    "## 11. What percentage of US sellers' transactions were purchased by US buyers?"
   ]
  },
  {
   "cell_type": "code",
   "execution_count": 33,
   "id": "29151ca1-c795-4069-bb38-6a5d574378f6",
   "metadata": {},
   "outputs": [
    {
     "data": {
      "text/plain": [
       "US     0.982304\n",
       "CA     0.004762\n",
       "RoW    0.004652\n",
       "GB     0.003666\n",
       "AU     0.002789\n",
       "DE     0.000804\n",
       "FR     0.000548\n",
       "IE     0.000341\n",
       "IT     0.000134\n",
       "Name: buyer_country, dtype: float64"
      ]
     },
     "execution_count": 33,
     "metadata": {},
     "output_type": "execute_result"
    }
   ],
   "source": [
    "us = new_df[new_df.seller_country == \"US\"][\"buyer_country\"].value_counts(normalize=True)\n",
    "us"
   ]
  },
  {
   "cell_type": "code",
   "execution_count": 34,
   "id": "3d3b482a-6754-4e3c-8c10-9b499be27f25",
   "metadata": {},
   "outputs": [
    {
     "data": {
      "text/plain": [
       "US    0.982304\n",
       "Name: buyer_country, dtype: float64"
      ]
     },
     "execution_count": 34,
     "metadata": {},
     "output_type": "execute_result"
    }
   ],
   "source": [
    "us.head(1)"
   ]
  },
  {
   "cell_type": "markdown",
   "id": "acd4d838-c49e-4eea-a3e8-b9c9e5ef1678",
   "metadata": {},
   "source": [
    "## 12.Which country made the highest percentage of international purchases?\n"
   ]
  },
  {
   "cell_type": "code",
   "execution_count": 35,
   "id": "fba4350a-078c-45a2-80ac-64af60b4e762",
   "metadata": {},
   "outputs": [],
   "source": [
    "international = new_df[new_df.seller_country != new_df.buyer_country ]"
   ]
  },
  {
   "cell_type": "code",
   "execution_count": 36,
   "id": "94d69ffe-8348-4f57-a8b0-8a1325fa21fc",
   "metadata": {},
   "outputs": [
    {
     "data": {
      "text/plain": [
       "RoW    0.272201\n",
       "Name: buyer_country, dtype: float64"
      ]
     },
     "execution_count": 36,
     "metadata": {},
     "output_type": "execute_result"
    }
   ],
   "source": [
    "international.buyer_country.value_counts(normalize=True).head(1)"
   ]
  },
  {
   "cell_type": "markdown",
   "id": "66d41345-23e8-466d-bb47-661bddadc6d4",
   "metadata": {},
   "source": [
    "## 13.Which day has the highest value of purchases?"
   ]
  },
  {
   "cell_type": "code",
   "execution_count": 37,
   "id": "31da5580-69dc-48ea-afe2-149bb5ba7da7",
   "metadata": {},
   "outputs": [
    {
     "data": {
      "text/plain": [
       "date\n",
       "2020-08-03    1.005281e+06\n",
       "2020-08-04    9.351293e+05\n",
       "2020-08-05    7.705182e+05\n",
       "2020-08-06    8.582236e+05\n",
       "2020-08-07    9.661487e+05\n",
       "2020-08-08    9.895082e+05\n",
       "2020-08-09    9.467022e+05\n",
       "Name: total, dtype: float64"
      ]
     },
     "execution_count": 37,
     "metadata": {},
     "output_type": "execute_result"
    }
   ],
   "source": [
    "new_df.groupby(\"date\")[\"total\"].sum()"
   ]
  },
  {
   "cell_type": "code",
   "execution_count": 38,
   "id": "1b934468-2d98-4516-98c5-9acef0536ada",
   "metadata": {},
   "outputs": [
    {
     "data": {
      "text/html": [
       "<div>\n",
       "<style scoped>\n",
       "    .dataframe tbody tr th:only-of-type {\n",
       "        vertical-align: middle;\n",
       "    }\n",
       "\n",
       "    .dataframe tbody tr th {\n",
       "        vertical-align: top;\n",
       "    }\n",
       "\n",
       "    .dataframe thead th {\n",
       "        text-align: right;\n",
       "    }\n",
       "</style>\n",
       "<table border=\"1\" class=\"dataframe\">\n",
       "  <thead>\n",
       "    <tr style=\"text-align: right;\">\n",
       "      <th></th>\n",
       "      <th>date</th>\n",
       "      <th>total</th>\n",
       "    </tr>\n",
       "  </thead>\n",
       "  <tbody>\n",
       "    <tr>\n",
       "      <th>0</th>\n",
       "      <td>2020-08-03</td>\n",
       "      <td>1.005281e+06</td>\n",
       "    </tr>\n",
       "    <tr>\n",
       "      <th>1</th>\n",
       "      <td>2020-08-04</td>\n",
       "      <td>9.351293e+05</td>\n",
       "    </tr>\n",
       "    <tr>\n",
       "      <th>2</th>\n",
       "      <td>2020-08-05</td>\n",
       "      <td>7.705182e+05</td>\n",
       "    </tr>\n",
       "    <tr>\n",
       "      <th>3</th>\n",
       "      <td>2020-08-06</td>\n",
       "      <td>8.582236e+05</td>\n",
       "    </tr>\n",
       "    <tr>\n",
       "      <th>4</th>\n",
       "      <td>2020-08-07</td>\n",
       "      <td>9.661487e+05</td>\n",
       "    </tr>\n",
       "    <tr>\n",
       "      <th>5</th>\n",
       "      <td>2020-08-08</td>\n",
       "      <td>9.895082e+05</td>\n",
       "    </tr>\n",
       "    <tr>\n",
       "      <th>6</th>\n",
       "      <td>2020-08-09</td>\n",
       "      <td>9.467022e+05</td>\n",
       "    </tr>\n",
       "  </tbody>\n",
       "</table>\n",
       "</div>"
      ],
      "text/plain": [
       "        date         total\n",
       "0 2020-08-03  1.005281e+06\n",
       "1 2020-08-04  9.351293e+05\n",
       "2 2020-08-05  7.705182e+05\n",
       "3 2020-08-06  8.582236e+05\n",
       "4 2020-08-07  9.661487e+05\n",
       "5 2020-08-08  9.895082e+05\n",
       "6 2020-08-09  9.467022e+05"
      ]
     },
     "execution_count": 38,
     "metadata": {},
     "output_type": "execute_result"
    }
   ],
   "source": [
    "new_df.groupby(\"date\")[\"total\"].sum().reset_index()"
   ]
  },
  {
   "cell_type": "code",
   "execution_count": 39,
   "id": "b437bbe3-5a6d-4306-bca6-58854abc05db",
   "metadata": {},
   "outputs": [
    {
     "data": {
      "text/html": [
       "<div>\n",
       "<style scoped>\n",
       "    .dataframe tbody tr th:only-of-type {\n",
       "        vertical-align: middle;\n",
       "    }\n",
       "\n",
       "    .dataframe tbody tr th {\n",
       "        vertical-align: top;\n",
       "    }\n",
       "\n",
       "    .dataframe thead th {\n",
       "        text-align: right;\n",
       "    }\n",
       "</style>\n",
       "<table border=\"1\" class=\"dataframe\">\n",
       "  <thead>\n",
       "    <tr style=\"text-align: right;\">\n",
       "      <th></th>\n",
       "      <th>date</th>\n",
       "      <th>total</th>\n",
       "    </tr>\n",
       "  </thead>\n",
       "  <tbody>\n",
       "    <tr>\n",
       "      <th>0</th>\n",
       "      <td>2020-08-03</td>\n",
       "      <td>1.005281e+06</td>\n",
       "    </tr>\n",
       "  </tbody>\n",
       "</table>\n",
       "</div>"
      ],
      "text/plain": [
       "        date         total\n",
       "0 2020-08-03  1.005281e+06"
      ]
     },
     "execution_count": 39,
     "metadata": {},
     "output_type": "execute_result"
    }
   ],
   "source": [
    "new_df.groupby(\"date\")[\"total\"].sum().reset_index().sort_values(by=\"total\").tail(1)"
   ]
  },
  {
   "cell_type": "markdown",
   "id": "00ca2308-6e71-4e4e-97e0-70a1df5b3a04",
   "metadata": {},
   "source": [
    "## 14.Which category has 2,324 transactions on 7 August?"
   ]
  },
  {
   "cell_type": "code",
   "execution_count": 40,
   "id": "f5614c99-75de-426e-a8ae-66f69def2f07",
   "metadata": {},
   "outputs": [
    {
     "data": {
      "text/html": [
       "<div>\n",
       "<style scoped>\n",
       "    .dataframe tbody tr th:only-of-type {\n",
       "        vertical-align: middle;\n",
       "    }\n",
       "\n",
       "    .dataframe tbody tr th {\n",
       "        vertical-align: top;\n",
       "    }\n",
       "\n",
       "    .dataframe thead th {\n",
       "        text-align: right;\n",
       "    }\n",
       "</style>\n",
       "<table border=\"1\" class=\"dataframe\">\n",
       "  <thead>\n",
       "    <tr style=\"text-align: right;\">\n",
       "      <th></th>\n",
       "      <th>buyer_id</th>\n",
       "      <th>buyer_country</th>\n",
       "      <th>seller_id</th>\n",
       "      <th>seller_country</th>\n",
       "      <th>product_code</th>\n",
       "      <th>category</th>\n",
       "      <th>brand</th>\n",
       "      <th>currency</th>\n",
       "      <th>price</th>\n",
       "      <th>date</th>\n",
       "      <th>rate</th>\n",
       "      <th>total</th>\n",
       "    </tr>\n",
       "  </thead>\n",
       "  <tbody>\n",
       "    <tr>\n",
       "      <th>42394</th>\n",
       "      <td>sjgbjdkhqx</td>\n",
       "      <td>GB</td>\n",
       "      <td>50xki2yg</td>\n",
       "      <td>GB</td>\n",
       "      <td>i9ynyxj5tdp8</td>\n",
       "      <td>Tops - Mens</td>\n",
       "      <td>NaN</td>\n",
       "      <td>GBP</td>\n",
       "      <td>6.37</td>\n",
       "      <td>2020-08-07</td>\n",
       "      <td>0.90286</td>\n",
       "      <td>7.055357</td>\n",
       "    </tr>\n",
       "    <tr>\n",
       "      <th>42395</th>\n",
       "      <td>bf6dqe8we7</td>\n",
       "      <td>GB</td>\n",
       "      <td>dpkx192v</td>\n",
       "      <td>GB</td>\n",
       "      <td>cmwn68orhjq8</td>\n",
       "      <td>Tops - Womens</td>\n",
       "      <td>NaN</td>\n",
       "      <td>GBP</td>\n",
       "      <td>9.90</td>\n",
       "      <td>2020-08-07</td>\n",
       "      <td>0.90286</td>\n",
       "      <td>10.965155</td>\n",
       "    </tr>\n",
       "    <tr>\n",
       "      <th>42396</th>\n",
       "      <td>thxau27e0a</td>\n",
       "      <td>GB</td>\n",
       "      <td>9p2ansc9</td>\n",
       "      <td>GB</td>\n",
       "      <td>0dv7zg0lu2xc</td>\n",
       "      <td>Outerwear - Mens</td>\n",
       "      <td>Fila</td>\n",
       "      <td>GBP</td>\n",
       "      <td>15.99</td>\n",
       "      <td>2020-08-07</td>\n",
       "      <td>0.90286</td>\n",
       "      <td>17.710387</td>\n",
       "    </tr>\n",
       "    <tr>\n",
       "      <th>42397</th>\n",
       "      <td>1g3678i0mb</td>\n",
       "      <td>GB</td>\n",
       "      <td>9p2ansc9</td>\n",
       "      <td>GB</td>\n",
       "      <td>xjm3k96m1t08</td>\n",
       "      <td>Outerwear - Mens</td>\n",
       "      <td>Levi's</td>\n",
       "      <td>GBP</td>\n",
       "      <td>36.08</td>\n",
       "      <td>2020-08-07</td>\n",
       "      <td>0.90286</td>\n",
       "      <td>39.961899</td>\n",
       "    </tr>\n",
       "    <tr>\n",
       "      <th>42398</th>\n",
       "      <td>95tfw1cmvr</td>\n",
       "      <td>GB</td>\n",
       "      <td>3o2nz88r</td>\n",
       "      <td>GB</td>\n",
       "      <td>jvxohc72vhw9</td>\n",
       "      <td>Accessories</td>\n",
       "      <td>River Island</td>\n",
       "      <td>GBP</td>\n",
       "      <td>14.70</td>\n",
       "      <td>2020-08-07</td>\n",
       "      <td>0.90286</td>\n",
       "      <td>16.281594</td>\n",
       "    </tr>\n",
       "    <tr>\n",
       "      <th>...</th>\n",
       "      <td>...</td>\n",
       "      <td>...</td>\n",
       "      <td>...</td>\n",
       "      <td>...</td>\n",
       "      <td>...</td>\n",
       "      <td>...</td>\n",
       "      <td>...</td>\n",
       "      <td>...</td>\n",
       "      <td>...</td>\n",
       "      <td>...</td>\n",
       "      <td>...</td>\n",
       "      <td>...</td>\n",
       "    </tr>\n",
       "    <tr>\n",
       "      <th>237643</th>\n",
       "      <td>odkclgio90</td>\n",
       "      <td>RoW</td>\n",
       "      <td>l4mwbzqt</td>\n",
       "      <td>RoW</td>\n",
       "      <td>vuftfyf3hvkd</td>\n",
       "      <td>Bottoms - Womens</td>\n",
       "      <td>NaN</td>\n",
       "      <td>SEK</td>\n",
       "      <td>221.33</td>\n",
       "      <td>2020-08-07</td>\n",
       "      <td>10.31418</td>\n",
       "      <td>21.458807</td>\n",
       "    </tr>\n",
       "    <tr>\n",
       "      <th>237644</th>\n",
       "      <td>5dqjb29gah</td>\n",
       "      <td>RoW</td>\n",
       "      <td>echsgc0o</td>\n",
       "      <td>RoW</td>\n",
       "      <td>gamzhdm6zesg</td>\n",
       "      <td>Jewellery</td>\n",
       "      <td>NaN</td>\n",
       "      <td>SEK</td>\n",
       "      <td>328.72</td>\n",
       "      <td>2020-08-07</td>\n",
       "      <td>10.31418</td>\n",
       "      <td>31.870687</td>\n",
       "    </tr>\n",
       "    <tr>\n",
       "      <th>237653</th>\n",
       "      <td>5zbyj2xivz</td>\n",
       "      <td>CA</td>\n",
       "      <td>3083gryi</td>\n",
       "      <td>RoW</td>\n",
       "      <td>v57d13kiovke</td>\n",
       "      <td>Outerwear - Mens</td>\n",
       "      <td>NaN</td>\n",
       "      <td>SGD</td>\n",
       "      <td>79.25</td>\n",
       "      <td>2020-08-07</td>\n",
       "      <td>1.61838</td>\n",
       "      <td>48.968722</td>\n",
       "    </tr>\n",
       "    <tr>\n",
       "      <th>237661</th>\n",
       "      <td>srnowfonwp</td>\n",
       "      <td>RoW</td>\n",
       "      <td>k8omsczc</td>\n",
       "      <td>RoW</td>\n",
       "      <td>xtp4zwfhis5j</td>\n",
       "      <td>Tops - Womens</td>\n",
       "      <td>NaN</td>\n",
       "      <td>JPY</td>\n",
       "      <td>7256.11</td>\n",
       "      <td>2020-08-07</td>\n",
       "      <td>124.86500</td>\n",
       "      <td>58.111641</td>\n",
       "    </tr>\n",
       "    <tr>\n",
       "      <th>237662</th>\n",
       "      <td>vv1qsicux8</td>\n",
       "      <td>RoW</td>\n",
       "      <td>zbwx4j3e</td>\n",
       "      <td>RoW</td>\n",
       "      <td>z2j8nzlci7yp</td>\n",
       "      <td>Tops - Womens</td>\n",
       "      <td>NaN</td>\n",
       "      <td>MXN</td>\n",
       "      <td>160.13</td>\n",
       "      <td>2020-08-07</td>\n",
       "      <td>26.37485</td>\n",
       "      <td>6.071314</td>\n",
       "    </tr>\n",
       "  </tbody>\n",
       "</table>\n",
       "<p>35745 rows × 12 columns</p>\n",
       "</div>"
      ],
      "text/plain": [
       "          buyer_id buyer_country seller_id seller_country  product_code  \\\n",
       "42394   sjgbjdkhqx            GB  50xki2yg             GB  i9ynyxj5tdp8   \n",
       "42395   bf6dqe8we7            GB  dpkx192v             GB  cmwn68orhjq8   \n",
       "42396   thxau27e0a            GB  9p2ansc9             GB  0dv7zg0lu2xc   \n",
       "42397   1g3678i0mb            GB  9p2ansc9             GB  xjm3k96m1t08   \n",
       "42398   95tfw1cmvr            GB  3o2nz88r             GB  jvxohc72vhw9   \n",
       "...            ...           ...       ...            ...           ...   \n",
       "237643  odkclgio90           RoW  l4mwbzqt            RoW  vuftfyf3hvkd   \n",
       "237644  5dqjb29gah           RoW  echsgc0o            RoW  gamzhdm6zesg   \n",
       "237653  5zbyj2xivz            CA  3083gryi            RoW  v57d13kiovke   \n",
       "237661  srnowfonwp           RoW  k8omsczc            RoW  xtp4zwfhis5j   \n",
       "237662  vv1qsicux8           RoW  zbwx4j3e            RoW  z2j8nzlci7yp   \n",
       "\n",
       "                category         brand currency    price       date  \\\n",
       "42394        Tops - Mens           NaN      GBP     6.37 2020-08-07   \n",
       "42395      Tops - Womens           NaN      GBP     9.90 2020-08-07   \n",
       "42396   Outerwear - Mens          Fila      GBP    15.99 2020-08-07   \n",
       "42397   Outerwear - Mens        Levi's      GBP    36.08 2020-08-07   \n",
       "42398        Accessories  River Island      GBP    14.70 2020-08-07   \n",
       "...                  ...           ...      ...      ...        ...   \n",
       "237643  Bottoms - Womens           NaN      SEK   221.33 2020-08-07   \n",
       "237644         Jewellery           NaN      SEK   328.72 2020-08-07   \n",
       "237653  Outerwear - Mens           NaN      SGD    79.25 2020-08-07   \n",
       "237661     Tops - Womens           NaN      JPY  7256.11 2020-08-07   \n",
       "237662     Tops - Womens           NaN      MXN   160.13 2020-08-07   \n",
       "\n",
       "             rate      total  \n",
       "42394     0.90286   7.055357  \n",
       "42395     0.90286  10.965155  \n",
       "42396     0.90286  17.710387  \n",
       "42397     0.90286  39.961899  \n",
       "42398     0.90286  16.281594  \n",
       "...           ...        ...  \n",
       "237643   10.31418  21.458807  \n",
       "237644   10.31418  31.870687  \n",
       "237653    1.61838  48.968722  \n",
       "237661  124.86500  58.111641  \n",
       "237662   26.37485   6.071314  \n",
       "\n",
       "[35745 rows x 12 columns]"
      ]
     },
     "execution_count": 40,
     "metadata": {},
     "output_type": "execute_result"
    }
   ],
   "source": [
    "day_ = new_df[new_df.date == \"2020-08-07\"]\n",
    "day_"
   ]
  },
  {
   "cell_type": "code",
   "execution_count": 41,
   "id": "67f46690-5629-436d-87db-84230d6c1824",
   "metadata": {},
   "outputs": [
    {
     "data": {
      "text/plain": [
       "Jewellery    2324\n",
       "Name: category, dtype: int64"
      ]
     },
     "execution_count": 41,
     "metadata": {},
     "output_type": "execute_result"
    }
   ],
   "source": [
    "day_.category.value_counts()[day_.category.value_counts() == 2324] "
   ]
  },
  {
   "cell_type": "code",
   "execution_count": 42,
   "id": "8ffda2b0-6e68-4586-9807-23153b85626f",
   "metadata": {},
   "outputs": [],
   "source": [
    "#Check:\n",
    "cond = new_df.category.value_counts().index == 'Jewellery' "
   ]
  },
  {
   "cell_type": "code",
   "execution_count": 43,
   "id": "e2d7200f-43fb-4748-b840-7d505b448c78",
   "metadata": {},
   "outputs": [
    {
     "data": {
      "text/plain": [
       "Jewellery    2324\n",
       "Name: category, dtype: int64"
      ]
     },
     "execution_count": 43,
     "metadata": {},
     "output_type": "execute_result"
    }
   ],
   "source": [
    "day_.category.value_counts()[cond]"
   ]
  },
  {
   "cell_type": "markdown",
   "id": "eb1280a9-774e-4bab-9e9c-ba754654b48d",
   "metadata": {},
   "source": [
    "## 15.What percentage of global sales value on 4 August came from US sellers?"
   ]
  },
  {
   "cell_type": "code",
   "execution_count": 44,
   "id": "bcb23644-ec46-4a6a-bdf6-b16a86bdadd4",
   "metadata": {},
   "outputs": [],
   "source": [
    "day_4 = new_df[new_df.date == \"2020-08-04\"]"
   ]
  },
  {
   "cell_type": "code",
   "execution_count": 45,
   "id": "b7ff609b-c341-4ffe-817a-fa0bca96d8ba",
   "metadata": {},
   "outputs": [
    {
     "data": {
      "text/plain": [
       "GB     0.582431\n",
       "US     0.354303\n",
       "AU     0.028606\n",
       "IE     0.011037\n",
       "IT     0.010917\n",
       "CA     0.008024\n",
       "RoW    0.003967\n",
       "DE     0.000567\n",
       "FR     0.000149\n",
       "Name: seller_country, dtype: float64"
      ]
     },
     "execution_count": 45,
     "metadata": {},
     "output_type": "execute_result"
    }
   ],
   "source": [
    "day_4.seller_country.value_counts(normalize=True)"
   ]
  },
  {
   "cell_type": "code",
   "execution_count": 46,
   "id": "edb33bab-07fd-45bc-8f8c-929d27ade624",
   "metadata": {},
   "outputs": [
    {
     "data": {
      "text/plain": [
       "311133.0433273794"
      ]
     },
     "execution_count": 46,
     "metadata": {},
     "output_type": "execute_result"
    }
   ],
   "source": [
    "a = day_4[day_4.seller_country == \"US\"][\"total\"].sum()\n",
    "a"
   ]
  },
  {
   "cell_type": "code",
   "execution_count": 47,
   "id": "28803534-86b8-4a65-8f22-a1416ff4017c",
   "metadata": {},
   "outputs": [
    {
     "data": {
      "text/plain": [
       "935129.3255536666"
      ]
     },
     "execution_count": 47,
     "metadata": {},
     "output_type": "execute_result"
    }
   ],
   "source": [
    "b = day_4.total.sum()\n",
    "b"
   ]
  },
  {
   "cell_type": "code",
   "execution_count": 48,
   "id": "9860d0b1-4608-42e2-a10b-91d6472b2924",
   "metadata": {},
   "outputs": [
    {
     "data": {
      "text/plain": [
       "0.3327165931227377"
      ]
     },
     "execution_count": 48,
     "metadata": {},
     "output_type": "execute_result"
    }
   ],
   "source": [
    "perc = a / b\n",
    "perc"
   ]
  },
  {
   "cell_type": "markdown",
   "id": "c921d048-aaec-40f4-be9e-200a506363e0",
   "metadata": {},
   "source": [
    "## 16.How many sellers in the US has more than 75 sales?"
   ]
  },
  {
   "cell_type": "code",
   "execution_count": 49,
   "id": "b75036f7-f61f-465c-8abe-bb3502a7cd36",
   "metadata": {},
   "outputs": [],
   "source": [
    "x = new_df[new_df.seller_country == \"US\"].groupby(\"seller_id\")[\"product_code\"].count()"
   ]
  },
  {
   "cell_type": "code",
   "execution_count": 50,
   "id": "3bb0b65a-71cd-40d3-83df-25a334601511",
   "metadata": {},
   "outputs": [
    {
     "data": {
      "text/plain": [
       "seller_id\n",
       "0vuvnib0    127\n",
       "2anj0jwq     78\n",
       "2fb5r9kf    145\n",
       "4f525u2z    116\n",
       "4pxr96oz     92\n",
       "8zeo824z    120\n",
       "9aosyihd     78\n",
       "c9meqez3    141\n",
       "dcomo1zp    115\n",
       "j21w87xy    500\n",
       "k4cbl88u    109\n",
       "n7vsj0oi     76\n",
       "p9agy0ri     92\n",
       "pylebn8r     98\n",
       "pzsiehl0    703\n",
       "r64zesw6    211\n",
       "rc96xq2x    162\n",
       "s5axblvo     79\n",
       "ucp2k0nu    218\n",
       "w5enyyan    148\n",
       "wd3rgi3q    525\n",
       "wl0tdhvs     95\n",
       "Name: product_code, dtype: int64"
      ]
     },
     "execution_count": 50,
     "metadata": {},
     "output_type": "execute_result"
    }
   ],
   "source": [
    "x[x>75]"
   ]
  },
  {
   "cell_type": "code",
   "execution_count": 51,
   "id": "8224f489-20d6-4b63-a893-f797d895e8d1",
   "metadata": {},
   "outputs": [
    {
     "data": {
      "text/plain": [
       "22"
      ]
     },
     "execution_count": 51,
     "metadata": {},
     "output_type": "execute_result"
    }
   ],
   "source": [
    "len(x[x>75])"
   ]
  },
  {
   "cell_type": "markdown",
   "id": "dd4b441b-69df-4f53-94c0-36f730207069",
   "metadata": {},
   "source": [
    "## 17.Which seller in the US sold the most in terms of value?"
   ]
  },
  {
   "cell_type": "code",
   "execution_count": 52,
   "id": "1e77e095-73ec-4353-885f-2f2727036187",
   "metadata": {},
   "outputs": [
    {
     "data": {
      "text/plain": [
       "seller_id\n",
       "pzsiehl0    24279.78\n",
       "Name: price, dtype: float64"
      ]
     },
     "execution_count": 52,
     "metadata": {},
     "output_type": "execute_result"
    }
   ],
   "source": [
    "new_df[new_df.seller_country==\"US\"].groupby(\"seller_id\")[\"price\"].sum().sort_values(ascending = False).head(1)"
   ]
  },
  {
   "cell_type": "markdown",
   "id": "532154b5-ddbb-4695-bb7d-ff01ce848371",
   "metadata": {},
   "source": [
    "## 18.Which brand had the largest absolute € difference in average transaction value between domestic and international?"
   ]
  },
  {
   "cell_type": "code",
   "execution_count": 53,
   "id": "eeb20b78-e69b-44a0-84ac-60aee445005c",
   "metadata": {},
   "outputs": [
    {
     "data": {
      "text/html": [
       "<div>\n",
       "<style scoped>\n",
       "    .dataframe tbody tr th:only-of-type {\n",
       "        vertical-align: middle;\n",
       "    }\n",
       "\n",
       "    .dataframe tbody tr th {\n",
       "        vertical-align: top;\n",
       "    }\n",
       "\n",
       "    .dataframe thead th {\n",
       "        text-align: right;\n",
       "    }\n",
       "</style>\n",
       "<table border=\"1\" class=\"dataframe\">\n",
       "  <thead>\n",
       "    <tr style=\"text-align: right;\">\n",
       "      <th></th>\n",
       "      <th>brand</th>\n",
       "      <th>total</th>\n",
       "    </tr>\n",
       "  </thead>\n",
       "  <tbody>\n",
       "    <tr>\n",
       "      <th>0</th>\n",
       "      <td>&amp; Other Stories</td>\n",
       "      <td>42.343874</td>\n",
       "    </tr>\n",
       "    <tr>\n",
       "      <th>1</th>\n",
       "      <td>11 Degrees</td>\n",
       "      <td>20.156993</td>\n",
       "    </tr>\n",
       "    <tr>\n",
       "      <th>2</th>\n",
       "      <td>6%DOKIDOKI</td>\n",
       "      <td>76.539139</td>\n",
       "    </tr>\n",
       "    <tr>\n",
       "      <th>3</th>\n",
       "      <td>A-COLD-WALL</td>\n",
       "      <td>119.655268</td>\n",
       "    </tr>\n",
       "    <tr>\n",
       "      <th>4</th>\n",
       "      <td>A.P.C.</td>\n",
       "      <td>39.426484</td>\n",
       "    </tr>\n",
       "    <tr>\n",
       "      <th>...</th>\n",
       "      <td>...</td>\n",
       "      <td>...</td>\n",
       "    </tr>\n",
       "    <tr>\n",
       "      <th>435</th>\n",
       "      <td>ZAFUL</td>\n",
       "      <td>17.836962</td>\n",
       "    </tr>\n",
       "    <tr>\n",
       "      <th>436</th>\n",
       "      <td>Zadig &amp; Voltaire</td>\n",
       "      <td>96.444718</td>\n",
       "    </tr>\n",
       "    <tr>\n",
       "      <th>437</th>\n",
       "      <td>Zara</td>\n",
       "      <td>36.004586</td>\n",
       "    </tr>\n",
       "    <tr>\n",
       "      <th>438</th>\n",
       "      <td>Zoeva</td>\n",
       "      <td>21.455947</td>\n",
       "    </tr>\n",
       "    <tr>\n",
       "      <th>439</th>\n",
       "      <td>ghd</td>\n",
       "      <td>104.553967</td>\n",
       "    </tr>\n",
       "  </tbody>\n",
       "</table>\n",
       "<p>440 rows × 2 columns</p>\n",
       "</div>"
      ],
      "text/plain": [
       "                brand       total\n",
       "0     & Other Stories   42.343874\n",
       "1          11 Degrees   20.156993\n",
       "2          6%DOKIDOKI   76.539139\n",
       "3         A-COLD-WALL  119.655268\n",
       "4              A.P.C.   39.426484\n",
       "..                ...         ...\n",
       "435             ZAFUL   17.836962\n",
       "436  Zadig & Voltaire   96.444718\n",
       "437              Zara   36.004586\n",
       "438             Zoeva   21.455947\n",
       "439               ghd  104.553967\n",
       "\n",
       "[440 rows x 2 columns]"
      ]
     },
     "execution_count": 53,
     "metadata": {},
     "output_type": "execute_result"
    }
   ],
   "source": [
    "international = new_df[new_df.seller_country != new_df.buyer_country].groupby(\"brand\")[\"total\"].mean().reset_index()\n",
    "international"
   ]
  },
  {
   "cell_type": "code",
   "execution_count": 54,
   "id": "6df28724-00c2-4e6e-85bc-ceac403af8d8",
   "metadata": {},
   "outputs": [
    {
     "data": {
      "text/html": [
       "<div>\n",
       "<style scoped>\n",
       "    .dataframe tbody tr th:only-of-type {\n",
       "        vertical-align: middle;\n",
       "    }\n",
       "\n",
       "    .dataframe tbody tr th {\n",
       "        vertical-align: top;\n",
       "    }\n",
       "\n",
       "    .dataframe thead th {\n",
       "        text-align: right;\n",
       "    }\n",
       "</style>\n",
       "<table border=\"1\" class=\"dataframe\">\n",
       "  <thead>\n",
       "    <tr style=\"text-align: right;\">\n",
       "      <th></th>\n",
       "      <th>brand</th>\n",
       "      <th>total</th>\n",
       "    </tr>\n",
       "  </thead>\n",
       "  <tbody>\n",
       "    <tr>\n",
       "      <th>0</th>\n",
       "      <td>&amp; Other Stories</td>\n",
       "      <td>32.610605</td>\n",
       "    </tr>\n",
       "    <tr>\n",
       "      <th>1</th>\n",
       "      <td>032c</td>\n",
       "      <td>36.693996</td>\n",
       "    </tr>\n",
       "    <tr>\n",
       "      <th>2</th>\n",
       "      <td>11 Degrees</td>\n",
       "      <td>13.971744</td>\n",
       "    </tr>\n",
       "    <tr>\n",
       "      <th>3</th>\n",
       "      <td>1822 Denim</td>\n",
       "      <td>18.089935</td>\n",
       "    </tr>\n",
       "    <tr>\n",
       "      <th>4</th>\n",
       "      <td>3.1 Phillip Lim</td>\n",
       "      <td>32.805235</td>\n",
       "    </tr>\n",
       "    <tr>\n",
       "      <th>...</th>\n",
       "      <td>...</td>\n",
       "      <td>...</td>\n",
       "    </tr>\n",
       "    <tr>\n",
       "      <th>1116</th>\n",
       "      <td>ghd</td>\n",
       "      <td>59.621800</td>\n",
       "    </tr>\n",
       "    <tr>\n",
       "      <th>1117</th>\n",
       "      <td>kensie</td>\n",
       "      <td>19.751443</td>\n",
       "    </tr>\n",
       "    <tr>\n",
       "      <th>1118</th>\n",
       "      <td>liquid blue</td>\n",
       "      <td>38.920505</td>\n",
       "    </tr>\n",
       "    <tr>\n",
       "      <th>1119</th>\n",
       "      <td>mixxmix</td>\n",
       "      <td>15.924378</td>\n",
       "    </tr>\n",
       "    <tr>\n",
       "      <th>1120</th>\n",
       "      <td>philosophy</td>\n",
       "      <td>22.519293</td>\n",
       "    </tr>\n",
       "  </tbody>\n",
       "</table>\n",
       "<p>1121 rows × 2 columns</p>\n",
       "</div>"
      ],
      "text/plain": [
       "                brand      total\n",
       "0     & Other Stories  32.610605\n",
       "1                032c  36.693996\n",
       "2          11 Degrees  13.971744\n",
       "3          1822 Denim  18.089935\n",
       "4     3.1 Phillip Lim  32.805235\n",
       "...               ...        ...\n",
       "1116              ghd  59.621800\n",
       "1117           kensie  19.751443\n",
       "1118      liquid blue  38.920505\n",
       "1119          mixxmix  15.924378\n",
       "1120       philosophy  22.519293\n",
       "\n",
       "[1121 rows x 2 columns]"
      ]
     },
     "execution_count": 54,
     "metadata": {},
     "output_type": "execute_result"
    }
   ],
   "source": [
    "domestic  = new_df[new_df.seller_country == new_df.buyer_country].groupby(\"brand\").total.mean().reset_index()\n",
    "domestic"
   ]
  },
  {
   "cell_type": "code",
   "execution_count": 55,
   "id": "09e3ebfe-5bc0-46e0-bd6a-3c2aa3450984",
   "metadata": {},
   "outputs": [
    {
     "data": {
      "text/html": [
       "<div>\n",
       "<style scoped>\n",
       "    .dataframe tbody tr th:only-of-type {\n",
       "        vertical-align: middle;\n",
       "    }\n",
       "\n",
       "    .dataframe tbody tr th {\n",
       "        vertical-align: top;\n",
       "    }\n",
       "\n",
       "    .dataframe thead th {\n",
       "        text-align: right;\n",
       "    }\n",
       "</style>\n",
       "<table border=\"1\" class=\"dataframe\">\n",
       "  <thead>\n",
       "    <tr style=\"text-align: right;\">\n",
       "      <th></th>\n",
       "      <th>brand</th>\n",
       "      <th>total_x</th>\n",
       "      <th>total_y</th>\n",
       "    </tr>\n",
       "  </thead>\n",
       "  <tbody>\n",
       "    <tr>\n",
       "      <th>0</th>\n",
       "      <td>&amp; Other Stories</td>\n",
       "      <td>42.343874</td>\n",
       "      <td>32.610605</td>\n",
       "    </tr>\n",
       "    <tr>\n",
       "      <th>1</th>\n",
       "      <td>11 Degrees</td>\n",
       "      <td>20.156993</td>\n",
       "      <td>13.971744</td>\n",
       "    </tr>\n",
       "    <tr>\n",
       "      <th>2</th>\n",
       "      <td>6%DOKIDOKI</td>\n",
       "      <td>76.539139</td>\n",
       "      <td>29.101939</td>\n",
       "    </tr>\n",
       "    <tr>\n",
       "      <th>3</th>\n",
       "      <td>A-COLD-WALL</td>\n",
       "      <td>119.655268</td>\n",
       "      <td>56.174666</td>\n",
       "    </tr>\n",
       "    <tr>\n",
       "      <th>4</th>\n",
       "      <td>A.P.C.</td>\n",
       "      <td>39.426484</td>\n",
       "      <td>38.244340</td>\n",
       "    </tr>\n",
       "    <tr>\n",
       "      <th>...</th>\n",
       "      <td>...</td>\n",
       "      <td>...</td>\n",
       "      <td>...</td>\n",
       "    </tr>\n",
       "    <tr>\n",
       "      <th>422</th>\n",
       "      <td>ZAFUL</td>\n",
       "      <td>17.836962</td>\n",
       "      <td>14.535228</td>\n",
       "    </tr>\n",
       "    <tr>\n",
       "      <th>423</th>\n",
       "      <td>Zadig &amp; Voltaire</td>\n",
       "      <td>96.444718</td>\n",
       "      <td>45.426505</td>\n",
       "    </tr>\n",
       "    <tr>\n",
       "      <th>424</th>\n",
       "      <td>Zara</td>\n",
       "      <td>36.004586</td>\n",
       "      <td>20.067448</td>\n",
       "    </tr>\n",
       "    <tr>\n",
       "      <th>425</th>\n",
       "      <td>Zoeva</td>\n",
       "      <td>21.455947</td>\n",
       "      <td>8.567322</td>\n",
       "    </tr>\n",
       "    <tr>\n",
       "      <th>426</th>\n",
       "      <td>ghd</td>\n",
       "      <td>104.553967</td>\n",
       "      <td>59.621800</td>\n",
       "    </tr>\n",
       "  </tbody>\n",
       "</table>\n",
       "<p>427 rows × 3 columns</p>\n",
       "</div>"
      ],
      "text/plain": [
       "                brand     total_x    total_y\n",
       "0     & Other Stories   42.343874  32.610605\n",
       "1          11 Degrees   20.156993  13.971744\n",
       "2          6%DOKIDOKI   76.539139  29.101939\n",
       "3         A-COLD-WALL  119.655268  56.174666\n",
       "4              A.P.C.   39.426484  38.244340\n",
       "..                ...         ...        ...\n",
       "422             ZAFUL   17.836962  14.535228\n",
       "423  Zadig & Voltaire   96.444718  45.426505\n",
       "424              Zara   36.004586  20.067448\n",
       "425             Zoeva   21.455947   8.567322\n",
       "426               ghd  104.553967  59.621800\n",
       "\n",
       "[427 rows x 3 columns]"
      ]
     },
     "execution_count": 55,
     "metadata": {},
     "output_type": "execute_result"
    }
   ],
   "source": [
    "international_domestic =  international.merge(domestic, how=\"inner\", on=\"brand\")\n",
    "international_domestic "
   ]
  },
  {
   "cell_type": "code",
   "execution_count": 56,
   "id": "cf8b3e9b-85ac-42bd-9ae5-91f946e84ecf",
   "metadata": {},
   "outputs": [],
   "source": [
    "international_domestic[\"diffirence\"] = international_domestic.total_x - international_domestic.total_y"
   ]
  },
  {
   "cell_type": "code",
   "execution_count": 57,
   "id": "bd7bb032-f127-4d28-90cc-b075e10faaad",
   "metadata": {},
   "outputs": [
    {
     "data": {
      "text/html": [
       "<div>\n",
       "<style scoped>\n",
       "    .dataframe tbody tr th:only-of-type {\n",
       "        vertical-align: middle;\n",
       "    }\n",
       "\n",
       "    .dataframe tbody tr th {\n",
       "        vertical-align: top;\n",
       "    }\n",
       "\n",
       "    .dataframe thead th {\n",
       "        text-align: right;\n",
       "    }\n",
       "</style>\n",
       "<table border=\"1\" class=\"dataframe\">\n",
       "  <thead>\n",
       "    <tr style=\"text-align: right;\">\n",
       "      <th></th>\n",
       "      <th>brand</th>\n",
       "      <th>total_x</th>\n",
       "      <th>total_y</th>\n",
       "      <th>diffirence</th>\n",
       "    </tr>\n",
       "  </thead>\n",
       "  <tbody>\n",
       "    <tr>\n",
       "      <th>146</th>\n",
       "      <td>Goyard</td>\n",
       "      <td>611.456926</td>\n",
       "      <td>202.661941</td>\n",
       "      <td>408.794985</td>\n",
       "    </tr>\n",
       "    <tr>\n",
       "      <th>215</th>\n",
       "      <td>Loewe</td>\n",
       "      <td>461.082817</td>\n",
       "      <td>81.425474</td>\n",
       "      <td>379.657343</td>\n",
       "    </tr>\n",
       "    <tr>\n",
       "      <th>159</th>\n",
       "      <td>Hermes</td>\n",
       "      <td>267.749153</td>\n",
       "      <td>57.048961</td>\n",
       "      <td>210.700192</td>\n",
       "    </tr>\n",
       "    <tr>\n",
       "      <th>270</th>\n",
       "      <td>Needles</td>\n",
       "      <td>314.338133</td>\n",
       "      <td>115.458082</td>\n",
       "      <td>198.880051</td>\n",
       "    </tr>\n",
       "    <tr>\n",
       "      <th>182</th>\n",
       "      <td>Jean-Paul Gaultier</td>\n",
       "      <td>255.332000</td>\n",
       "      <td>62.671312</td>\n",
       "      <td>192.660687</td>\n",
       "    </tr>\n",
       "  </tbody>\n",
       "</table>\n",
       "</div>"
      ],
      "text/plain": [
       "                  brand     total_x     total_y  diffirence\n",
       "146              Goyard  611.456926  202.661941  408.794985\n",
       "215               Loewe  461.082817   81.425474  379.657343\n",
       "159              Hermes  267.749153   57.048961  210.700192\n",
       "270             Needles  314.338133  115.458082  198.880051\n",
       "182  Jean-Paul Gaultier  255.332000   62.671312  192.660687"
      ]
     },
     "execution_count": 57,
     "metadata": {},
     "output_type": "execute_result"
    }
   ],
   "source": [
    "international_domestic.sort_values(by = 'diffirence', ascending= False).head(5)"
   ]
  },
  {
   "cell_type": "code",
   "execution_count": 59,
   "id": "ea732fca-8298-4e5d-addf-881e6d5865f0",
   "metadata": {},
   "outputs": [
    {
     "data": {
      "text/html": [
       "<div>\n",
       "<style scoped>\n",
       "    .dataframe tbody tr th:only-of-type {\n",
       "        vertical-align: middle;\n",
       "    }\n",
       "\n",
       "    .dataframe tbody tr th {\n",
       "        vertical-align: top;\n",
       "    }\n",
       "\n",
       "    .dataframe thead th {\n",
       "        text-align: right;\n",
       "    }\n",
       "</style>\n",
       "<table border=\"1\" class=\"dataframe\">\n",
       "  <thead>\n",
       "    <tr style=\"text-align: right;\">\n",
       "      <th></th>\n",
       "      <th>brand</th>\n",
       "      <th>total_x</th>\n",
       "      <th>total_y</th>\n",
       "      <th>diffirence</th>\n",
       "    </tr>\n",
       "  </thead>\n",
       "  <tbody>\n",
       "    <tr>\n",
       "      <th>146</th>\n",
       "      <td>Goyard</td>\n",
       "      <td>611.456926</td>\n",
       "      <td>202.661941</td>\n",
       "      <td>408.794985</td>\n",
       "    </tr>\n",
       "  </tbody>\n",
       "</table>\n",
       "</div>"
      ],
      "text/plain": [
       "      brand     total_x     total_y  diffirence\n",
       "146  Goyard  611.456926  202.661941  408.794985"
      ]
     },
     "execution_count": 59,
     "metadata": {},
     "output_type": "execute_result"
    }
   ],
   "source": [
    "international_domestic.sort_values(by = 'diffirence', ascending= False).head(1)"
   ]
  },
  {
   "cell_type": "code",
   "execution_count": 58,
   "id": "0b55f29f-c5e2-465b-bb9d-570df6771d17",
   "metadata": {},
   "outputs": [
    {
     "data": {
      "text/html": [
       "<div>\n",
       "<style scoped>\n",
       "    .dataframe tbody tr th:only-of-type {\n",
       "        vertical-align: middle;\n",
       "    }\n",
       "\n",
       "    .dataframe tbody tr th {\n",
       "        vertical-align: top;\n",
       "    }\n",
       "\n",
       "    .dataframe thead th {\n",
       "        text-align: right;\n",
       "    }\n",
       "</style>\n",
       "<table border=\"1\" class=\"dataframe\">\n",
       "  <thead>\n",
       "    <tr style=\"text-align: right;\">\n",
       "      <th></th>\n",
       "      <th>brand</th>\n",
       "      <th>total_x</th>\n",
       "      <th>total_y</th>\n",
       "      <th>diffirence</th>\n",
       "    </tr>\n",
       "  </thead>\n",
       "  <tbody>\n",
       "    <tr>\n",
       "      <th>146</th>\n",
       "      <td>Goyard</td>\n",
       "      <td>611.456926</td>\n",
       "      <td>202.661941</td>\n",
       "      <td>408.794985</td>\n",
       "    </tr>\n",
       "  </tbody>\n",
       "</table>\n",
       "</div>"
      ],
      "text/plain": [
       "      brand     total_x     total_y  diffirence\n",
       "146  Goyard  611.456926  202.661941  408.794985"
      ]
     },
     "execution_count": 58,
     "metadata": {},
     "output_type": "execute_result"
    }
   ],
   "source": [
    "international_domestic[international_domestic.diffirence == international_domestic.diffirence.max()]"
   ]
  },
  {
   "cell_type": "code",
   "execution_count": null,
   "id": "a1ae6b50-94da-4c84-80b6-25cf5c4a4a89",
   "metadata": {},
   "outputs": [],
   "source": []
  },
  {
   "cell_type": "code",
   "execution_count": null,
   "id": "2aa4d438-2ebc-41e2-a04b-32a208cc127f",
   "metadata": {},
   "outputs": [],
   "source": []
  },
  {
   "cell_type": "code",
   "execution_count": null,
   "id": "e886d174-f387-4266-ae9f-1ee6692d202a",
   "metadata": {},
   "outputs": [],
   "source": []
  }
 ],
 "metadata": {
  "kernelspec": {
   "display_name": "Python 3 (ipykernel)",
   "language": "python",
   "name": "python3"
  },
  "language_info": {
   "codemirror_mode": {
    "name": "ipython",
    "version": 3
   },
   "file_extension": ".py",
   "mimetype": "text/x-python",
   "name": "python",
   "nbconvert_exporter": "python",
   "pygments_lexer": "ipython3",
   "version": "3.8.3"
  }
 },
 "nbformat": 4,
 "nbformat_minor": 5
}
