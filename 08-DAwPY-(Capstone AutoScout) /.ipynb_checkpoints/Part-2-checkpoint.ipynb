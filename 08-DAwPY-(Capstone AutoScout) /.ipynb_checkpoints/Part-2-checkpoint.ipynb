{
 "cells": [
  {
   "cell_type": "markdown",
   "id": "005d8a97-a440-4b04-87f6-bb0913028b4e",
   "metadata": {},
   "source": [
    "# WELCOME!"
   ]
  },
  {
   "cell_type": "markdown",
   "id": "afeaf72d-a453-44cd-bff1-bcf05c6c2181",
   "metadata": {},
   "source": [
    "## Introduction\n",
    "Welcome to \"***AutoScout Data Analysis Project***\". This is the capstone project of ***Data Analysis*** Module. **Auto Scout** data which using for this project, scraped from the on-line car trading company in 2019, contains many features of 9 different car models. In this project, you will have the opportunity to apply many commonly used algorithms for Data Cleaning and Exploratory Data Analysis by using many Python libraries such as Numpy, Pandas, Matplotlib, Seaborn, Scipy you will analyze clean dataset.\n",
    "\n",
    "The project consists of 3 parts:\n",
    "* First part is related with 'data cleaning'. It deals ed with 'handling outliers of data' via Visualisation libraries. Some insights are extracted.\n",
    "with Incorrect Headers, Incorrect Format, Anomalies, Dropping useless columns.\n",
    "* Second part is related with 'filling data'. It deals with Missing Values. Categorical to numeric transformation is done.\n",
    "* Third part is relat"
   ]
  },
  {
   "cell_type": "markdown",
   "id": "504d14be-6004-4c05-b331-9b5ced691ca4",
   "metadata": {},
   "source": [
    "# PART- 2 `( Handling Missing Values )`"
   ]
  },
  {
   "cell_type": "markdown",
   "id": "4e6db23f-0ac9-4d25-923b-b20979e4650b",
   "metadata": {},
   "source": [
    "# Missing Values & Outliers"
   ]
  },
  {
   "cell_type": "markdown",
   "id": "192279b0-76dd-4a7f-b99f-cda5f6810570",
   "metadata": {},
   "source": [
    "- # Handling with Missing Values"
   ]
  },
  {
   "cell_type": "markdown",
   "id": "8f8eafc7-ca41-4cae-a481-255dd1d7a33c",
   "metadata": {},
   "source": [
    "**Missing value handling methods**\n",
    "\n",
    " 1. <b>Deleting Rows</b> ----->if it has more than 70-75% of missing values\n",
    "    \n",
    " 2. <b>Replacing With Mean/Median/Mode (Imputation)</b>--->can be applied on a feature which has numeric data\n",
    "\n",
    " 3. <b> Assigning An Unique Category</b>--->If a categorical feature has definite number of classes, we can assign another class\n",
    "    \n",
    " 4. <b>Predicting The Missing Values</b>---> we can predict the nulls with the help of a machine learning algorithm like linear regression\n",
    "\n",
    " 5. <b>Using Algorithms Which Support Missing Values</b>--->KNN is a machine learning algorithm which works on the principle of distance measure.  This algorithm can be used when there are nulls present in the dataset.  KNN considers the missing values by taking the majority of the K nearest values"
   ]
  },
  {
   "cell_type": "markdown",
   "id": "439d52c0-8d40-4b87-84b1-22587736f941",
   "metadata": {},
   "source": [
    "NaN, standing for not a number, is a numeric data type used to represent any value that is undefined or unpresentable.\n",
    "\n",
    "For example, 0/0 is undefined as a real number and is, therefore, represented by NaN. The square root of a negative number is an imaginary number that cannot be represented as a real number, so, it is represented by NaN.\n",
    "\n",
    "NaN is also assigned to variables, in a computation, that do not have values and have yet to be computed."
   ]
  },
  {
   "cell_type": "code",
   "execution_count": 97,
   "id": "0bb8c786-1210-4e28-b162-8ad90e887f4b",
   "metadata": {},
   "outputs": [],
   "source": [
    "import pandas as pd\n",
    "import numpy as np\n",
    "import statistics as stat\n",
    "import matplotlib.pyplot as plt\n",
    "import seaborn as sns\n",
    "from scipy import stats\n",
    "from scipy.stats.mstats import winsorize\n",
    "import re\n",
    "\n",
    "import warnings\n",
    "warnings.filterwarnings(\"ignore\")\n",
    "warnings.warn(\"this will not show\")\n",
    "\n",
    "%matplotlib inline\n",
    "# %matplotlib notebook\n",
    "\n",
    "pd.set_option('display.max_rows',1000)\n",
    "pd.set_option('display.max_columns', 1000)\n",
    "\n",
    "# pd.options.display.float_format = '{:.2f}'.format\n",
    "pd.set_option('display.float_format', lambda x: '%.3f' % x)\n",
    "\n",
    "plt.rcParams[\"figure.figsize\"] = (10,6)"
   ]
  },
  {
   "cell_type": "code",
   "execution_count": 98,
   "id": "5204ec1c-dbcb-436a-b650-35902868753c",
   "metadata": {},
   "outputs": [],
   "source": [
    "df = pd.read_csv(\"clean_scout.csv\")"
   ]
  },
  {
   "cell_type": "code",
   "execution_count": 99,
   "id": "4cf14b22-2e94-442c-9f4e-6b80918aa552",
   "metadata": {},
   "outputs": [
    {
     "data": {
      "text/plain": [
       "(15919, 36)"
      ]
     },
     "execution_count": 99,
     "metadata": {},
     "output_type": "execute_result"
    }
   ],
   "source": [
    "df.shape"
   ]
  },
  {
   "cell_type": "code",
   "execution_count": 100,
   "id": "d0a856d1-6ea4-443c-af64-762908b17d8c",
   "metadata": {},
   "outputs": [
    {
     "data": {
      "text/html": [
       "<div>\n",
       "<style scoped>\n",
       "    .dataframe tbody tr th:only-of-type {\n",
       "        vertical-align: middle;\n",
       "    }\n",
       "\n",
       "    .dataframe tbody tr th {\n",
       "        vertical-align: top;\n",
       "    }\n",
       "\n",
       "    .dataframe thead th {\n",
       "        text-align: right;\n",
       "    }\n",
       "</style>\n",
       "<table border=\"1\" class=\"dataframe\">\n",
       "  <thead>\n",
       "    <tr style=\"text-align: right;\">\n",
       "      <th></th>\n",
       "      <th>0</th>\n",
       "      <th>1</th>\n",
       "      <th>2</th>\n",
       "      <th>3</th>\n",
       "      <th>4</th>\n",
       "    </tr>\n",
       "  </thead>\n",
       "  <tbody>\n",
       "    <tr>\n",
       "      <th>make_model</th>\n",
       "      <td>Audi A1</td>\n",
       "      <td>Audi A1</td>\n",
       "      <td>Audi A1</td>\n",
       "      <td>Audi A1</td>\n",
       "      <td>Audi A1</td>\n",
       "    </tr>\n",
       "    <tr>\n",
       "      <th>body_type</th>\n",
       "      <td>Sedans</td>\n",
       "      <td>Sedans</td>\n",
       "      <td>Sedans</td>\n",
       "      <td>Sedans</td>\n",
       "      <td>Sedans</td>\n",
       "    </tr>\n",
       "    <tr>\n",
       "      <th>price</th>\n",
       "      <td>15770</td>\n",
       "      <td>14500</td>\n",
       "      <td>14640</td>\n",
       "      <td>14500</td>\n",
       "      <td>16790</td>\n",
       "    </tr>\n",
       "    <tr>\n",
       "      <th>vat</th>\n",
       "      <td>VAT deductible</td>\n",
       "      <td>Price negotiable</td>\n",
       "      <td>VAT deductible</td>\n",
       "      <td>NaN</td>\n",
       "      <td>NaN</td>\n",
       "    </tr>\n",
       "    <tr>\n",
       "      <th>km</th>\n",
       "      <td>56013.000</td>\n",
       "      <td>80000.000</td>\n",
       "      <td>83450.000</td>\n",
       "      <td>73000.000</td>\n",
       "      <td>16200.000</td>\n",
       "    </tr>\n",
       "    <tr>\n",
       "      <th>hp</th>\n",
       "      <td>66.000</td>\n",
       "      <td>141.000</td>\n",
       "      <td>85.000</td>\n",
       "      <td>66.000</td>\n",
       "      <td>66.000</td>\n",
       "    </tr>\n",
       "    <tr>\n",
       "      <th>type</th>\n",
       "      <td>Used</td>\n",
       "      <td>Used</td>\n",
       "      <td>Used</td>\n",
       "      <td>Used</td>\n",
       "      <td>Used</td>\n",
       "    </tr>\n",
       "    <tr>\n",
       "      <th>previous_owners</th>\n",
       "      <td>2.000</td>\n",
       "      <td>NaN</td>\n",
       "      <td>1.000</td>\n",
       "      <td>1.000</td>\n",
       "      <td>1.000</td>\n",
       "    </tr>\n",
       "    <tr>\n",
       "      <th>inspection_new</th>\n",
       "      <td>Yes</td>\n",
       "      <td>NaN</td>\n",
       "      <td>NaN</td>\n",
       "      <td>NaN</td>\n",
       "      <td>Yes</td>\n",
       "    </tr>\n",
       "    <tr>\n",
       "      <th>warranty</th>\n",
       "      <td>NaN</td>\n",
       "      <td>NaN</td>\n",
       "      <td>NaN</td>\n",
       "      <td>NaN</td>\n",
       "      <td>NaN</td>\n",
       "    </tr>\n",
       "    <tr>\n",
       "      <th>make</th>\n",
       "      <td>Audi</td>\n",
       "      <td>Audi</td>\n",
       "      <td>Audi</td>\n",
       "      <td>Audi</td>\n",
       "      <td>Audi</td>\n",
       "    </tr>\n",
       "    <tr>\n",
       "      <th>model</th>\n",
       "      <td>A1</td>\n",
       "      <td>A1</td>\n",
       "      <td>A1</td>\n",
       "      <td>A1</td>\n",
       "      <td>A1</td>\n",
       "    </tr>\n",
       "    <tr>\n",
       "      <th>body_color</th>\n",
       "      <td>Black</td>\n",
       "      <td>Red</td>\n",
       "      <td>Black</td>\n",
       "      <td>Brown</td>\n",
       "      <td>Black</td>\n",
       "    </tr>\n",
       "    <tr>\n",
       "      <th>paint_type</th>\n",
       "      <td>Metallic</td>\n",
       "      <td>NaN</td>\n",
       "      <td>Metallic</td>\n",
       "      <td>Metallic</td>\n",
       "      <td>Metallic</td>\n",
       "    </tr>\n",
       "    <tr>\n",
       "      <th>nr_of_doors</th>\n",
       "      <td>5.000</td>\n",
       "      <td>3.000</td>\n",
       "      <td>4.000</td>\n",
       "      <td>3.000</td>\n",
       "      <td>5.000</td>\n",
       "    </tr>\n",
       "    <tr>\n",
       "      <th>nr_of_seats</th>\n",
       "      <td>5.000</td>\n",
       "      <td>4.000</td>\n",
       "      <td>4.000</td>\n",
       "      <td>4.000</td>\n",
       "      <td>5.000</td>\n",
       "    </tr>\n",
       "    <tr>\n",
       "      <th>gearing_type</th>\n",
       "      <td>Automatic</td>\n",
       "      <td>Automatic</td>\n",
       "      <td>Automatic</td>\n",
       "      <td>Automatic</td>\n",
       "      <td>Automatic</td>\n",
       "    </tr>\n",
       "    <tr>\n",
       "      <th>displacement</th>\n",
       "      <td>1422.000</td>\n",
       "      <td>1798.000</td>\n",
       "      <td>1598.000</td>\n",
       "      <td>1422.000</td>\n",
       "      <td>1422.000</td>\n",
       "    </tr>\n",
       "    <tr>\n",
       "      <th>cylinders</th>\n",
       "      <td>3.000</td>\n",
       "      <td>4.000</td>\n",
       "      <td>NaN</td>\n",
       "      <td>3.000</td>\n",
       "      <td>3.000</td>\n",
       "    </tr>\n",
       "    <tr>\n",
       "      <th>weight</th>\n",
       "      <td>1220.000</td>\n",
       "      <td>1255.000</td>\n",
       "      <td>NaN</td>\n",
       "      <td>1195.000</td>\n",
       "      <td>NaN</td>\n",
       "    </tr>\n",
       "    <tr>\n",
       "      <th>drive_chain</th>\n",
       "      <td>front</td>\n",
       "      <td>front</td>\n",
       "      <td>front</td>\n",
       "      <td>NaN</td>\n",
       "      <td>front</td>\n",
       "    </tr>\n",
       "    <tr>\n",
       "      <th>fuel</th>\n",
       "      <td>Diesel (Particulate Filter)</td>\n",
       "      <td>Benzine</td>\n",
       "      <td>Diesel (Particulate Filter)</td>\n",
       "      <td>Diesel (Particulate Filter)</td>\n",
       "      <td>Diesel (Particulate Filter)</td>\n",
       "    </tr>\n",
       "    <tr>\n",
       "      <th>co2_emission</th>\n",
       "      <td>99.000</td>\n",
       "      <td>129.000</td>\n",
       "      <td>99.000</td>\n",
       "      <td>99.000</td>\n",
       "      <td>109.000</td>\n",
       "    </tr>\n",
       "    <tr>\n",
       "      <th>emission_class</th>\n",
       "      <td>Euro 6</td>\n",
       "      <td>Euro 6</td>\n",
       "      <td>Euro 6</td>\n",
       "      <td>Euro 6</td>\n",
       "      <td>Euro 6</td>\n",
       "    </tr>\n",
       "    <tr>\n",
       "      <th>comfort_convenience</th>\n",
       "      <td>Air conditioning,Armrest,Automatic climate con...</td>\n",
       "      <td>Air conditioning,Automatic climate control,Hil...</td>\n",
       "      <td>Air conditioning,Cruise control,Electrical sid...</td>\n",
       "      <td>Air suspension,Armrest,Auxiliary heating,Elect...</td>\n",
       "      <td>Air conditioning,Armrest,Automatic climate con...</td>\n",
       "    </tr>\n",
       "    <tr>\n",
       "      <th>entertainment_media</th>\n",
       "      <td>Bluetooth,Hands-free equipment,On-board comput...</td>\n",
       "      <td>Bluetooth,Hands-free equipment,On-board comput...</td>\n",
       "      <td>MP3,On-board computer</td>\n",
       "      <td>Bluetooth,CD player,Hands-free equipment,MP3,O...</td>\n",
       "      <td>Bluetooth,CD player,Hands-free equipment,MP3,O...</td>\n",
       "    </tr>\n",
       "    <tr>\n",
       "      <th>extras</th>\n",
       "      <td>Alloy wheels,Catalytic Converter,Voice Control</td>\n",
       "      <td>Alloy wheels,Sport seats,Sport suspension,Voic...</td>\n",
       "      <td>Alloy wheels,Voice Control</td>\n",
       "      <td>Alloy wheels,Sport seats,Voice Control</td>\n",
       "      <td>Alloy wheels,Sport package,Sport suspension,Vo...</td>\n",
       "    </tr>\n",
       "    <tr>\n",
       "      <th>safety_security</th>\n",
       "      <td>ABS,Central door lock,Daytime running lights,D...</td>\n",
       "      <td>ABS,Central door lock,Central door lock with r...</td>\n",
       "      <td>ABS,Central door lock,Daytime running lights,D...</td>\n",
       "      <td>ABS,Alarm system,Central door lock with remote...</td>\n",
       "      <td>ABS,Central door lock,Driver-side airbag,Elect...</td>\n",
       "    </tr>\n",
       "    <tr>\n",
       "      <th>gears</th>\n",
       "      <td>NaN</td>\n",
       "      <td>7.000</td>\n",
       "      <td>NaN</td>\n",
       "      <td>6.000</td>\n",
       "      <td>NaN</td>\n",
       "    </tr>\n",
       "    <tr>\n",
       "      <th>country_version</th>\n",
       "      <td>NaN</td>\n",
       "      <td>NaN</td>\n",
       "      <td>NaN</td>\n",
       "      <td>NaN</td>\n",
       "      <td>Germany</td>\n",
       "    </tr>\n",
       "    <tr>\n",
       "      <th>age</th>\n",
       "      <td>3.000</td>\n",
       "      <td>2.000</td>\n",
       "      <td>3.000</td>\n",
       "      <td>3.000</td>\n",
       "      <td>3.000</td>\n",
       "    </tr>\n",
       "    <tr>\n",
       "      <th>upholstery_type</th>\n",
       "      <td>Cloth</td>\n",
       "      <td>Cloth</td>\n",
       "      <td>Cloth</td>\n",
       "      <td>NaN</td>\n",
       "      <td>Cloth</td>\n",
       "    </tr>\n",
       "    <tr>\n",
       "      <th>upholstery_color</th>\n",
       "      <td>Black</td>\n",
       "      <td>Grey</td>\n",
       "      <td>Black</td>\n",
       "      <td>NaN</td>\n",
       "      <td>Black</td>\n",
       "    </tr>\n",
       "    <tr>\n",
       "      <th>cons_comb</th>\n",
       "      <td>3.800</td>\n",
       "      <td>5.600</td>\n",
       "      <td>3.800</td>\n",
       "      <td>3.800</td>\n",
       "      <td>4.100</td>\n",
       "    </tr>\n",
       "    <tr>\n",
       "      <th>cons_city</th>\n",
       "      <td>3.800</td>\n",
       "      <td>5.600</td>\n",
       "      <td>3.800</td>\n",
       "      <td>3.800</td>\n",
       "      <td>4.100</td>\n",
       "    </tr>\n",
       "    <tr>\n",
       "      <th>cons_country</th>\n",
       "      <td>3.800</td>\n",
       "      <td>5.600</td>\n",
       "      <td>3.800</td>\n",
       "      <td>3.800</td>\n",
       "      <td>4.100</td>\n",
       "    </tr>\n",
       "  </tbody>\n",
       "</table>\n",
       "</div>"
      ],
      "text/plain": [
       "                                                                     0  \\\n",
       "make_model                                                     Audi A1   \n",
       "body_type                                                       Sedans   \n",
       "price                                                            15770   \n",
       "vat                                                     VAT deductible   \n",
       "km                                                           56013.000   \n",
       "hp                                                              66.000   \n",
       "type                                                              Used   \n",
       "previous_owners                                                  2.000   \n",
       "inspection_new                                                     Yes   \n",
       "warranty                                                           NaN   \n",
       "make                                                              Audi   \n",
       "model                                                               A1   \n",
       "body_color                                                       Black   \n",
       "paint_type                                                    Metallic   \n",
       "nr_of_doors                                                      5.000   \n",
       "nr_of_seats                                                      5.000   \n",
       "gearing_type                                                 Automatic   \n",
       "displacement                                                  1422.000   \n",
       "cylinders                                                        3.000   \n",
       "weight                                                        1220.000   \n",
       "drive_chain                                                      front   \n",
       "fuel                                       Diesel (Particulate Filter)   \n",
       "co2_emission                                                    99.000   \n",
       "emission_class                                                  Euro 6   \n",
       "comfort_convenience  Air conditioning,Armrest,Automatic climate con...   \n",
       "entertainment_media  Bluetooth,Hands-free equipment,On-board comput...   \n",
       "extras                  Alloy wheels,Catalytic Converter,Voice Control   \n",
       "safety_security      ABS,Central door lock,Daytime running lights,D...   \n",
       "gears                                                              NaN   \n",
       "country_version                                                    NaN   \n",
       "age                                                              3.000   \n",
       "upholstery_type                                                  Cloth   \n",
       "upholstery_color                                                 Black   \n",
       "cons_comb                                                        3.800   \n",
       "cons_city                                                        3.800   \n",
       "cons_country                                                     3.800   \n",
       "\n",
       "                                                                     1  \\\n",
       "make_model                                                     Audi A1   \n",
       "body_type                                                       Sedans   \n",
       "price                                                            14500   \n",
       "vat                                                   Price negotiable   \n",
       "km                                                           80000.000   \n",
       "hp                                                             141.000   \n",
       "type                                                              Used   \n",
       "previous_owners                                                    NaN   \n",
       "inspection_new                                                     NaN   \n",
       "warranty                                                           NaN   \n",
       "make                                                              Audi   \n",
       "model                                                               A1   \n",
       "body_color                                                         Red   \n",
       "paint_type                                                         NaN   \n",
       "nr_of_doors                                                      3.000   \n",
       "nr_of_seats                                                      4.000   \n",
       "gearing_type                                                 Automatic   \n",
       "displacement                                                  1798.000   \n",
       "cylinders                                                        4.000   \n",
       "weight                                                        1255.000   \n",
       "drive_chain                                                      front   \n",
       "fuel                                                           Benzine   \n",
       "co2_emission                                                   129.000   \n",
       "emission_class                                                  Euro 6   \n",
       "comfort_convenience  Air conditioning,Automatic climate control,Hil...   \n",
       "entertainment_media  Bluetooth,Hands-free equipment,On-board comput...   \n",
       "extras               Alloy wheels,Sport seats,Sport suspension,Voic...   \n",
       "safety_security      ABS,Central door lock,Central door lock with r...   \n",
       "gears                                                            7.000   \n",
       "country_version                                                    NaN   \n",
       "age                                                              2.000   \n",
       "upholstery_type                                                  Cloth   \n",
       "upholstery_color                                                  Grey   \n",
       "cons_comb                                                        5.600   \n",
       "cons_city                                                        5.600   \n",
       "cons_country                                                     5.600   \n",
       "\n",
       "                                                                     2  \\\n",
       "make_model                                                     Audi A1   \n",
       "body_type                                                       Sedans   \n",
       "price                                                            14640   \n",
       "vat                                                     VAT deductible   \n",
       "km                                                           83450.000   \n",
       "hp                                                              85.000   \n",
       "type                                                              Used   \n",
       "previous_owners                                                  1.000   \n",
       "inspection_new                                                     NaN   \n",
       "warranty                                                           NaN   \n",
       "make                                                              Audi   \n",
       "model                                                               A1   \n",
       "body_color                                                       Black   \n",
       "paint_type                                                    Metallic   \n",
       "nr_of_doors                                                      4.000   \n",
       "nr_of_seats                                                      4.000   \n",
       "gearing_type                                                 Automatic   \n",
       "displacement                                                  1598.000   \n",
       "cylinders                                                          NaN   \n",
       "weight                                                             NaN   \n",
       "drive_chain                                                      front   \n",
       "fuel                                       Diesel (Particulate Filter)   \n",
       "co2_emission                                                    99.000   \n",
       "emission_class                                                  Euro 6   \n",
       "comfort_convenience  Air conditioning,Cruise control,Electrical sid...   \n",
       "entertainment_media                              MP3,On-board computer   \n",
       "extras                                      Alloy wheels,Voice Control   \n",
       "safety_security      ABS,Central door lock,Daytime running lights,D...   \n",
       "gears                                                              NaN   \n",
       "country_version                                                    NaN   \n",
       "age                                                              3.000   \n",
       "upholstery_type                                                  Cloth   \n",
       "upholstery_color                                                 Black   \n",
       "cons_comb                                                        3.800   \n",
       "cons_city                                                        3.800   \n",
       "cons_country                                                     3.800   \n",
       "\n",
       "                                                                     3  \\\n",
       "make_model                                                     Audi A1   \n",
       "body_type                                                       Sedans   \n",
       "price                                                            14500   \n",
       "vat                                                                NaN   \n",
       "km                                                           73000.000   \n",
       "hp                                                              66.000   \n",
       "type                                                              Used   \n",
       "previous_owners                                                  1.000   \n",
       "inspection_new                                                     NaN   \n",
       "warranty                                                           NaN   \n",
       "make                                                              Audi   \n",
       "model                                                               A1   \n",
       "body_color                                                       Brown   \n",
       "paint_type                                                    Metallic   \n",
       "nr_of_doors                                                      3.000   \n",
       "nr_of_seats                                                      4.000   \n",
       "gearing_type                                                 Automatic   \n",
       "displacement                                                  1422.000   \n",
       "cylinders                                                        3.000   \n",
       "weight                                                        1195.000   \n",
       "drive_chain                                                        NaN   \n",
       "fuel                                       Diesel (Particulate Filter)   \n",
       "co2_emission                                                    99.000   \n",
       "emission_class                                                  Euro 6   \n",
       "comfort_convenience  Air suspension,Armrest,Auxiliary heating,Elect...   \n",
       "entertainment_media  Bluetooth,CD player,Hands-free equipment,MP3,O...   \n",
       "extras                          Alloy wheels,Sport seats,Voice Control   \n",
       "safety_security      ABS,Alarm system,Central door lock with remote...   \n",
       "gears                                                            6.000   \n",
       "country_version                                                    NaN   \n",
       "age                                                              3.000   \n",
       "upholstery_type                                                    NaN   \n",
       "upholstery_color                                                   NaN   \n",
       "cons_comb                                                        3.800   \n",
       "cons_city                                                        3.800   \n",
       "cons_country                                                     3.800   \n",
       "\n",
       "                                                                     4  \n",
       "make_model                                                     Audi A1  \n",
       "body_type                                                       Sedans  \n",
       "price                                                            16790  \n",
       "vat                                                                NaN  \n",
       "km                                                           16200.000  \n",
       "hp                                                              66.000  \n",
       "type                                                              Used  \n",
       "previous_owners                                                  1.000  \n",
       "inspection_new                                                     Yes  \n",
       "warranty                                                           NaN  \n",
       "make                                                              Audi  \n",
       "model                                                               A1  \n",
       "body_color                                                       Black  \n",
       "paint_type                                                    Metallic  \n",
       "nr_of_doors                                                      5.000  \n",
       "nr_of_seats                                                      5.000  \n",
       "gearing_type                                                 Automatic  \n",
       "displacement                                                  1422.000  \n",
       "cylinders                                                        3.000  \n",
       "weight                                                             NaN  \n",
       "drive_chain                                                      front  \n",
       "fuel                                       Diesel (Particulate Filter)  \n",
       "co2_emission                                                   109.000  \n",
       "emission_class                                                  Euro 6  \n",
       "comfort_convenience  Air conditioning,Armrest,Automatic climate con...  \n",
       "entertainment_media  Bluetooth,CD player,Hands-free equipment,MP3,O...  \n",
       "extras               Alloy wheels,Sport package,Sport suspension,Vo...  \n",
       "safety_security      ABS,Central door lock,Driver-side airbag,Elect...  \n",
       "gears                                                              NaN  \n",
       "country_version                                                Germany  \n",
       "age                                                              3.000  \n",
       "upholstery_type                                                  Cloth  \n",
       "upholstery_color                                                 Black  \n",
       "cons_comb                                                        4.100  \n",
       "cons_city                                                        4.100  \n",
       "cons_country                                                     4.100  "
      ]
     },
     "execution_count": 100,
     "metadata": {},
     "output_type": "execute_result"
    }
   ],
   "source": [
    "df.head().T"
   ]
  },
  {
   "cell_type": "code",
   "execution_count": 101,
   "id": "c12a2770-f603-419e-8851-aed95ca6bebc",
   "metadata": {},
   "outputs": [
    {
     "data": {
      "text/plain": [
       "inspection_new        75.300\n",
       "warranty              69.514\n",
       "country_version       52.346\n",
       "weight                43.809\n",
       "drive_chain           43.081\n",
       "previous_owners       41.711\n",
       "paint_type            36.259\n",
       "cylinders             35.681\n",
       "upholstery_color      31.899\n",
       "upholstery_type       30.599\n",
       "gears                 29.600\n",
       "vat                   28.350\n",
       "emission_class        22.790\n",
       "extras                18.607\n",
       "cons_city             15.302\n",
       "co2_emission          15.302\n",
       "cons_country          14.926\n",
       "cons_comb             12.771\n",
       "age                   10.032\n",
       "entertainment_media    8.631\n",
       "km                     6.433\n",
       "safety_security        6.169\n",
       "nr_of_seats            6.137\n",
       "comfort_convenience    5.779\n",
       "body_color             3.750\n",
       "displacement           3.116\n",
       "nr_of_doors            1.332\n",
       "hp                     0.553\n",
       "body_type              0.377\n",
       "type                   0.013\n",
       "price                  0.000\n",
       "model                  0.000\n",
       "make                   0.000\n",
       "fuel                   0.000\n",
       "gearing_type           0.000\n",
       "make_model             0.000\n",
       "dtype: float64"
      ]
     },
     "execution_count": 101,
     "metadata": {},
     "output_type": "execute_result"
    }
   ],
   "source": [
    "(df.isnull().sum()/df.isnull().count()*100).sort_values(ascending=False)"
   ]
  },
  {
   "cell_type": "code",
   "execution_count": 102,
   "id": "2368fd5d-8b1d-41d6-8ad9-6312e6fed185",
   "metadata": {},
   "outputs": [
    {
     "name": "stdout",
     "output_type": "stream",
     "text": [
      "<class 'pandas.core.frame.DataFrame'>\n",
      "RangeIndex: 15919 entries, 0 to 15918\n",
      "Data columns (total 36 columns):\n",
      " #   Column               Non-Null Count  Dtype  \n",
      "---  ------               --------------  -----  \n",
      " 0   make_model           15919 non-null  object \n",
      " 1   body_type            15859 non-null  object \n",
      " 2   price                15919 non-null  int64  \n",
      " 3   vat                  11406 non-null  object \n",
      " 4   km                   14895 non-null  float64\n",
      " 5   hp                   15831 non-null  float64\n",
      " 6   type                 15917 non-null  object \n",
      " 7   previous_owners      9279 non-null   float64\n",
      " 8   inspection_new       3932 non-null   object \n",
      " 9   warranty             4853 non-null   float64\n",
      " 10  make                 15919 non-null  object \n",
      " 11  model                15919 non-null  object \n",
      " 12  body_color           15322 non-null  object \n",
      " 13  paint_type           10147 non-null  object \n",
      " 14  nr_of_doors          15707 non-null  float64\n",
      " 15  nr_of_seats          14942 non-null  float64\n",
      " 16  gearing_type         15919 non-null  object \n",
      " 17  displacement         15423 non-null  float64\n",
      " 18  cylinders            10239 non-null  float64\n",
      " 19  weight               8945 non-null   float64\n",
      " 20  drive_chain          9061 non-null   object \n",
      " 21  fuel                 15919 non-null  object \n",
      " 22  co2_emission         13483 non-null  float64\n",
      " 23  emission_class       12291 non-null  object \n",
      " 24  comfort_convenience  14999 non-null  object \n",
      " 25  entertainment_media  14545 non-null  object \n",
      " 26  extras               12957 non-null  object \n",
      " 27  safety_security      14937 non-null  object \n",
      " 28  gears                11207 non-null  float64\n",
      " 29  country_version      7586 non-null   object \n",
      " 30  age                  14322 non-null  float64\n",
      " 31  upholstery_type      11048 non-null  object \n",
      " 32  upholstery_color     10841 non-null  object \n",
      " 33  cons_comb            13886 non-null  float64\n",
      " 34  cons_city            13483 non-null  float64\n",
      " 35  cons_country         13543 non-null  float64\n",
      "dtypes: float64(15), int64(1), object(20)\n",
      "memory usage: 4.4+ MB\n"
     ]
    }
   ],
   "source": [
    "df.info()"
   ]
  },
  {
   "cell_type": "code",
   "execution_count": 103,
   "id": "8cf26af3-d161-4fb4-bd27-798417b725aa",
   "metadata": {},
   "outputs": [
    {
     "data": {
      "text/plain": [
       "30"
      ]
     },
     "execution_count": 103,
     "metadata": {},
     "output_type": "execute_result"
    }
   ],
   "source": [
    "miss_val = []\n",
    "[miss_val.append(i) for i in df.columns if df[i].isnull().any()]\n",
    "len(miss_val)\n"
   ]
  },
  {
   "cell_type": "code",
   "execution_count": 104,
   "id": "92ffbe59-1291-4c58-8f25-acdcd3b10449",
   "metadata": {},
   "outputs": [
    {
     "data": {
      "text/plain": [
       "['body_type',\n",
       " 'vat',\n",
       " 'km',\n",
       " 'hp',\n",
       " 'type',\n",
       " 'previous_owners',\n",
       " 'inspection_new',\n",
       " 'warranty',\n",
       " 'body_color',\n",
       " 'paint_type',\n",
       " 'nr_of_doors',\n",
       " 'nr_of_seats',\n",
       " 'displacement',\n",
       " 'cylinders',\n",
       " 'weight',\n",
       " 'drive_chain',\n",
       " 'co2_emission',\n",
       " 'emission_class',\n",
       " 'comfort_convenience',\n",
       " 'entertainment_media',\n",
       " 'extras',\n",
       " 'safety_security',\n",
       " 'gears',\n",
       " 'country_version',\n",
       " 'age',\n",
       " 'upholstery_type',\n",
       " 'upholstery_color',\n",
       " 'cons_comb',\n",
       " 'cons_city',\n",
       " 'cons_country']"
      ]
     },
     "execution_count": 104,
     "metadata": {},
     "output_type": "execute_result"
    }
   ],
   "source": [
    "miss_val"
   ]
  },
  {
   "cell_type": "code",
   "execution_count": 105,
   "id": "361e5517-7216-4620-a025-89a08326a510",
   "metadata": {},
   "outputs": [
    {
     "data": {
      "text/html": [
       "<div>\n",
       "<style scoped>\n",
       "    .dataframe tbody tr th:only-of-type {\n",
       "        vertical-align: middle;\n",
       "    }\n",
       "\n",
       "    .dataframe tbody tr th {\n",
       "        vertical-align: top;\n",
       "    }\n",
       "\n",
       "    .dataframe thead th {\n",
       "        text-align: right;\n",
       "    }\n",
       "</style>\n",
       "<table border=\"1\" class=\"dataframe\">\n",
       "  <thead>\n",
       "    <tr style=\"text-align: right;\">\n",
       "      <th></th>\n",
       "      <th>Missing_Number</th>\n",
       "      <th>Missing_Percent</th>\n",
       "    </tr>\n",
       "  </thead>\n",
       "  <tbody>\n",
       "    <tr>\n",
       "      <th>inspection_new</th>\n",
       "      <td>11987</td>\n",
       "      <td>75.300</td>\n",
       "    </tr>\n",
       "    <tr>\n",
       "      <th>warranty</th>\n",
       "      <td>11066</td>\n",
       "      <td>69.514</td>\n",
       "    </tr>\n",
       "    <tr>\n",
       "      <th>country_version</th>\n",
       "      <td>8333</td>\n",
       "      <td>52.346</td>\n",
       "    </tr>\n",
       "    <tr>\n",
       "      <th>weight</th>\n",
       "      <td>6974</td>\n",
       "      <td>43.809</td>\n",
       "    </tr>\n",
       "    <tr>\n",
       "      <th>drive_chain</th>\n",
       "      <td>6858</td>\n",
       "      <td>43.081</td>\n",
       "    </tr>\n",
       "    <tr>\n",
       "      <th>previous_owners</th>\n",
       "      <td>6640</td>\n",
       "      <td>41.711</td>\n",
       "    </tr>\n",
       "    <tr>\n",
       "      <th>paint_type</th>\n",
       "      <td>5772</td>\n",
       "      <td>36.259</td>\n",
       "    </tr>\n",
       "    <tr>\n",
       "      <th>cylinders</th>\n",
       "      <td>5680</td>\n",
       "      <td>35.681</td>\n",
       "    </tr>\n",
       "    <tr>\n",
       "      <th>upholstery_color</th>\n",
       "      <td>5078</td>\n",
       "      <td>31.899</td>\n",
       "    </tr>\n",
       "    <tr>\n",
       "      <th>upholstery_type</th>\n",
       "      <td>4871</td>\n",
       "      <td>30.599</td>\n",
       "    </tr>\n",
       "    <tr>\n",
       "      <th>gears</th>\n",
       "      <td>4712</td>\n",
       "      <td>29.600</td>\n",
       "    </tr>\n",
       "    <tr>\n",
       "      <th>vat</th>\n",
       "      <td>4513</td>\n",
       "      <td>28.350</td>\n",
       "    </tr>\n",
       "    <tr>\n",
       "      <th>emission_class</th>\n",
       "      <td>3628</td>\n",
       "      <td>22.790</td>\n",
       "    </tr>\n",
       "    <tr>\n",
       "      <th>extras</th>\n",
       "      <td>2962</td>\n",
       "      <td>18.607</td>\n",
       "    </tr>\n",
       "    <tr>\n",
       "      <th>cons_city</th>\n",
       "      <td>2436</td>\n",
       "      <td>15.302</td>\n",
       "    </tr>\n",
       "    <tr>\n",
       "      <th>co2_emission</th>\n",
       "      <td>2436</td>\n",
       "      <td>15.302</td>\n",
       "    </tr>\n",
       "    <tr>\n",
       "      <th>cons_country</th>\n",
       "      <td>2376</td>\n",
       "      <td>14.926</td>\n",
       "    </tr>\n",
       "    <tr>\n",
       "      <th>cons_comb</th>\n",
       "      <td>2033</td>\n",
       "      <td>12.771</td>\n",
       "    </tr>\n",
       "    <tr>\n",
       "      <th>age</th>\n",
       "      <td>1597</td>\n",
       "      <td>10.032</td>\n",
       "    </tr>\n",
       "    <tr>\n",
       "      <th>entertainment_media</th>\n",
       "      <td>1374</td>\n",
       "      <td>8.631</td>\n",
       "    </tr>\n",
       "    <tr>\n",
       "      <th>km</th>\n",
       "      <td>1024</td>\n",
       "      <td>6.433</td>\n",
       "    </tr>\n",
       "    <tr>\n",
       "      <th>safety_security</th>\n",
       "      <td>982</td>\n",
       "      <td>6.169</td>\n",
       "    </tr>\n",
       "    <tr>\n",
       "      <th>nr_of_seats</th>\n",
       "      <td>977</td>\n",
       "      <td>6.137</td>\n",
       "    </tr>\n",
       "    <tr>\n",
       "      <th>comfort_convenience</th>\n",
       "      <td>920</td>\n",
       "      <td>5.779</td>\n",
       "    </tr>\n",
       "    <tr>\n",
       "      <th>body_color</th>\n",
       "      <td>597</td>\n",
       "      <td>3.750</td>\n",
       "    </tr>\n",
       "    <tr>\n",
       "      <th>displacement</th>\n",
       "      <td>496</td>\n",
       "      <td>3.116</td>\n",
       "    </tr>\n",
       "    <tr>\n",
       "      <th>nr_of_doors</th>\n",
       "      <td>212</td>\n",
       "      <td>1.332</td>\n",
       "    </tr>\n",
       "    <tr>\n",
       "      <th>hp</th>\n",
       "      <td>88</td>\n",
       "      <td>0.553</td>\n",
       "    </tr>\n",
       "    <tr>\n",
       "      <th>body_type</th>\n",
       "      <td>60</td>\n",
       "      <td>0.377</td>\n",
       "    </tr>\n",
       "    <tr>\n",
       "      <th>type</th>\n",
       "      <td>2</td>\n",
       "      <td>0.013</td>\n",
       "    </tr>\n",
       "  </tbody>\n",
       "</table>\n",
       "</div>"
      ],
      "text/plain": [
       "                     Missing_Number  Missing_Percent\n",
       "inspection_new                11987           75.300\n",
       "warranty                      11066           69.514\n",
       "country_version                8333           52.346\n",
       "weight                         6974           43.809\n",
       "drive_chain                    6858           43.081\n",
       "previous_owners                6640           41.711\n",
       "paint_type                     5772           36.259\n",
       "cylinders                      5680           35.681\n",
       "upholstery_color               5078           31.899\n",
       "upholstery_type                4871           30.599\n",
       "gears                          4712           29.600\n",
       "vat                            4513           28.350\n",
       "emission_class                 3628           22.790\n",
       "extras                         2962           18.607\n",
       "cons_city                      2436           15.302\n",
       "co2_emission                   2436           15.302\n",
       "cons_country                   2376           14.926\n",
       "cons_comb                      2033           12.771\n",
       "age                            1597           10.032\n",
       "entertainment_media            1374            8.631\n",
       "km                             1024            6.433\n",
       "safety_security                 982            6.169\n",
       "nr_of_seats                     977            6.137\n",
       "comfort_convenience             920            5.779\n",
       "body_color                      597            3.750\n",
       "displacement                    496            3.116\n",
       "nr_of_doors                     212            1.332\n",
       "hp                               88            0.553\n",
       "body_type                        60            0.377\n",
       "type                              2            0.013"
      ]
     },
     "execution_count": 105,
     "metadata": {},
     "output_type": "execute_result"
    }
   ],
   "source": [
    "def missing_values(df):\n",
    "    missing_number = df.isnull().sum().sort_values(ascending=False)\n",
    "    missing_percent = (df.isnull().sum()/df.isnull().count()*100).sort_values(ascending=False)\n",
    "    missing_values = pd.concat([missing_number, missing_percent], axis=1, keys=['Missing_Number', 'Missing_Percent'])\n",
    "    return missing_values[missing_values['Missing_Number']>0]\n",
    "missing_values(df)"
   ]
  },
  {
   "cell_type": "markdown",
   "id": "e567f5f2-10ad-4b01-85c6-d70bfbe3b684",
   "metadata": {},
   "source": [
    "\n",
    "<div class=\"alert alert-warning\" role=\"alert\">\n",
    " Function for first looking to the columns :\n",
    "</div>\n"
   ]
  },
  {
   "cell_type": "code",
   "execution_count": 106,
   "id": "6bf9060e-7c94-46bb-9958-90432489f73d",
   "metadata": {},
   "outputs": [],
   "source": [
    "def first_looking_col(col):\n",
    "    print(\"column name    : \", col)\n",
    "    print(\"--------------------------------\")\n",
    "    print(\"per_of_nulls   : \", \"%\", round(df[col].isnull().sum()/df.shape[0]*100, 2))\n",
    "    print(\"num_of_nulls   : \", df[col].isnull().sum())\n",
    "    print(\"num_of_uniques : \", df[col].nunique())\n",
    "    print(df[col].value_counts(dropna = False))"
   ]
  },
  {
   "cell_type": "markdown",
   "id": "e008e345-0dd1-42cf-8cd8-4c6e83ee13a7",
   "metadata": {},
   "source": [
    "<div class=\"alert alert-warning\" role=\"alert\">\n",
    " Functions to fill the missing values :\n",
    "</div>\n"
   ]
  },
  {
   "cell_type": "code",
   "execution_count": 107,
   "id": "b674a65f-58ab-498d-a77d-fb663e5d8297",
   "metadata": {},
   "outputs": [],
   "source": [
    "def fill_most(df, group_col, col_name):\n",
    "    '''Fills the missing values with the most existing value (mode) in the relevant column according to single-stage grouping'''\n",
    "    for group in list(df[group_col].unique()):\n",
    "        cond = df[group_col]==group\n",
    "        mode = list(df[cond][col_name].mode())\n",
    "        if mode != []:\n",
    "            df.loc[cond, col_name] = df.loc[cond, col_name].fillna(df[cond][col_name].mode()[0])\n",
    "        else:\n",
    "            df.loc[cond, col_name] = df.loc[cond, col_name].fillna(df[col_name].mode()[0])\n",
    "    print(\"Number of NaN : \",df[col_name].isnull().sum())\n",
    "    print(\"------------------\")\n",
    "    print(df[col_name].value_counts(dropna=False))"
   ]
  },
  {
   "cell_type": "code",
   "execution_count": 108,
   "id": "38cbaea4-2cdb-400e-b254-04fd3671107c",
   "metadata": {},
   "outputs": [],
   "source": [
    "def fill_prop(df, group_col, col_name):\n",
    "    '''Fills the missing values with \"ffill and bfill method\" according to single-stage grouping'''\n",
    "    for group in list(df[group_col].unique()):\n",
    "        cond = df[group_col]==group\n",
    "        df.loc[cond, col_name] = df.loc[cond, col_name].fillna(method=\"ffill\").fillna(method=\"bfill\")\n",
    "    df[col_name] = df[col_name].fillna(method=\"ffill\").fillna(method=\"bfill\")\n",
    "    print(\"Number of NaN : \",df[col_name].isnull().sum())\n",
    "    print(\"------------------\")\n",
    "    print(df[col_name].value_counts(dropna=False))"
   ]
  },
  {
   "cell_type": "code",
   "execution_count": 109,
   "id": "58286451-60a8-48d5-a76d-225d9faf1b80",
   "metadata": {},
   "outputs": [],
   "source": [
    "def fill(df, group_col1, group_col2, col_name, method): # method can be \"mode\" or \"median\" or \"ffill\"\n",
    "    if method == \"mode\":\n",
    "        for group1 in list(df[group_col1].unique()):\n",
    "            for group2 in list(df[group_col2].unique()):\n",
    "                cond1 = df[group_col1]==group1\n",
    "                cond2 = (df[group_col1]==group1) & (df[group_col2]==group2)\n",
    "                mode1 = list(df[cond1][col_name].mode())\n",
    "                mode2 = list(df[cond2][col_name].mode())\n",
    "                if mode2 != []:\n",
    "                    df.loc[cond2, col_name] = df.loc[cond2, col_name].fillna(df[cond2][col_name].mode()[0])\n",
    "                elif mode1 != []:\n",
    "                    df.loc[cond2, col_name] = df.loc[cond2, col_name].fillna(df[cond1][col_name].mode()[0])\n",
    "                else:\n",
    "                    df.loc[cond2, col_name] = df.loc[cond2, col_name].fillna(df[col_name].mode()[0])\n",
    "                \n",
    "    elif method == \"median\":\n",
    "        for group1 in list(df[group_col1].unique()):\n",
    "            for group2 in list(df[group_col2].unique()):\n",
    "                cond1 = df[group_col1]==group1\n",
    "                cond2 = (df[group_col1]==group1) & (df[group_col2]==group2)\n",
    "                df.loc[cond2, col_name] = df.loc[cond2, col_name].fillna(df[cond2][col_name].median()).fillna(df[cond1][col_name].median()).fillna(df[col_name].median())\n",
    "                \n",
    "    elif method == \"ffill\":           \n",
    "        for group1 in list(df[group_col1].unique()):\n",
    "            for group2 in list(df[group_col2].unique()):\n",
    "                cond2 = (df[group_col1]==group1) & (df[group_col2]==group2)\n",
    "                df.loc[cond2, col_name] = df.loc[cond2, col_name].fillna(method=\"ffill\").fillna(method=\"bfill\")\n",
    "                \n",
    "        for group1 in list(df[group_col1].unique()):\n",
    "            cond1 = df[group_col1]==group1\n",
    "            df.loc[cond1, col_name] = df.loc[cond1, col_name].fillna(method=\"ffill\").fillna(method=\"bfill\")            \n",
    "           \n",
    "        df[col_name] = df[col_name].fillna(method=\"ffill\").fillna(method=\"bfill\")\n",
    "    \n",
    "    print(\"Number of NaN : \",df[col_name].isnull().sum())\n",
    "    print(\"------------------\")\n",
    "    print(df[col_name].value_counts(dropna=False))"
   ]
  },
  {
   "cell_type": "markdown",
   "id": "24e6aee9-2c14-4117-bf33-399d37c93547",
   "metadata": {},
   "source": [
    "# 1 - vat"
   ]
  },
  {
   "cell_type": "code",
   "execution_count": 110,
   "id": "42dd29b3-a7b6-41da-8c70-e93b69298a68",
   "metadata": {},
   "outputs": [
    {
     "name": "stdout",
     "output_type": "stream",
     "text": [
      "column name    :  vat\n",
      "--------------------------------\n",
      "per_of_nulls   :  % 28.35\n",
      "num_of_nulls   :  4513\n",
      "num_of_uniques :  2\n",
      "VAT deductible      10980\n",
      "NaN                  4513\n",
      "Price negotiable      426\n",
      "Name: vat, dtype: int64\n"
     ]
    }
   ],
   "source": [
    "first_looking_col(\"vat\")"
   ]
  },
  {
   "cell_type": "code",
   "execution_count": 111,
   "id": "116db253-494e-4212-a689-eca112c879f5",
   "metadata": {},
   "outputs": [],
   "source": [
    "df.vat = df.vat.fillna(method=\"ffill\").fillna(method=\"bfill\")"
   ]
  },
  {
   "cell_type": "code",
   "execution_count": 112,
   "id": "f3e69e9f-dca5-4a9d-921f-889d681bb818",
   "metadata": {},
   "outputs": [
    {
     "data": {
      "text/plain": [
       "VAT deductible      15048\n",
       "Price negotiable      871\n",
       "Name: vat, dtype: int64"
      ]
     },
     "execution_count": 112,
     "metadata": {},
     "output_type": "execute_result"
    }
   ],
   "source": [
    " df.vat.fillna(method=\"ffill\").fillna(method=\"bfill\").value_counts(dropna=False)"
   ]
  },
  {
   "cell_type": "code",
   "execution_count": 113,
   "id": "a92a088e-22f2-4f5e-a2f2-a6f7b7ae07e8",
   "metadata": {},
   "outputs": [
    {
     "data": {
      "text/plain": [
       "VAT deductible      15048\n",
       "Price negotiable      871\n",
       "Name: vat, dtype: int64"
      ]
     },
     "execution_count": 113,
     "metadata": {},
     "output_type": "execute_result"
    }
   ],
   "source": [
    "df.vat.fillna(method=\"ffill\").value_counts(dropna=False)"
   ]
  },
  {
   "cell_type": "code",
   "execution_count": 18,
   "id": "3b23338e-efbb-4fa6-9399-6de595c213b6",
   "metadata": {},
   "outputs": [
    {
     "data": {
      "text/plain": [
       "VAT deductible      15048\n",
       "Price negotiable      871\n",
       "Name: vat, dtype: int64"
      ]
     },
     "execution_count": 18,
     "metadata": {},
     "output_type": "execute_result"
    }
   ],
   "source": [
    "df.vat.fillna(method=\"bfill\").value_counts(dropna=False)"
   ]
  },
  {
   "cell_type": "code",
   "execution_count": 19,
   "id": "159bdf1e-3351-4eca-95f7-9bc6f4682e58",
   "metadata": {},
   "outputs": [
    {
     "data": {
      "text/plain": [
       "VAT deductible      15048\n",
       "Price negotiable      871\n",
       "Name: vat, dtype: int64"
      ]
     },
     "execution_count": 19,
     "metadata": {},
     "output_type": "execute_result"
    }
   ],
   "source": [
    "df.vat.value_counts(dropna=False)"
   ]
  },
  {
   "cell_type": "markdown",
   "id": "6f30f248-18e9-4d80-8128-f677d6f334db",
   "metadata": {},
   "source": [
    "\n",
    "<div class=\"alert alert-success\" role=\"alert\">\n",
    "   There is no relationship between vat and other columns, and we can use fill..\n",
    "</div>"
   ]
  },
  {
   "cell_type": "markdown",
   "id": "edd4bd04-f9e6-4fe0-837d-ca79d835eb2c",
   "metadata": {},
   "source": [
    "# 2 - age"
   ]
  },
  {
   "cell_type": "code",
   "execution_count": 20,
   "id": "77b21b2d-3607-40a4-9e4c-6a4814a59197",
   "metadata": {},
   "outputs": [
    {
     "name": "stdout",
     "output_type": "stream",
     "text": [
      "column name    :  age\n",
      "--------------------------------\n",
      "per_of_nulls   :  % 10.03\n",
      "num_of_nulls   :  1597\n",
      "num_of_uniques :  4\n",
      "1.000    4522\n",
      "3.000    3674\n",
      "2.000    3273\n",
      "0.000    2853\n",
      "NaN      1597\n",
      "Name: age, dtype: int64\n"
     ]
    }
   ],
   "source": [
    "first_looking_col(\"age\")"
   ]
  },
  {
   "cell_type": "code",
   "execution_count": 21,
   "id": "39834727-d98c-42d4-8a2a-8084e13e52e8",
   "metadata": {},
   "outputs": [],
   "source": [
    "df.age.fillna(\"-\", inplace=True)"
   ]
  },
  {
   "cell_type": "code",
   "execution_count": 22,
   "id": "d1eb0919-aae8-4205-86a9-780cd5b3e6c4",
   "metadata": {},
   "outputs": [
    {
     "data": {
      "text/plain": [
       "1.0    4522\n",
       "3.0    3674\n",
       "2.0    3273\n",
       "0.0    2853\n",
       "-      1597\n",
       "Name: age, dtype: int64"
      ]
     },
     "execution_count": 22,
     "metadata": {},
     "output_type": "execute_result"
    }
   ],
   "source": [
    "df.age.value_counts(dropna=False)"
   ]
  },
  {
   "cell_type": "code",
   "execution_count": 23,
   "id": "ed2cf7e1-626e-4d12-81f1-a900ac1340bb",
   "metadata": {},
   "outputs": [
    {
     "data": {
      "text/html": [
       "<div>\n",
       "<style scoped>\n",
       "    .dataframe tbody tr th:only-of-type {\n",
       "        vertical-align: middle;\n",
       "    }\n",
       "\n",
       "    .dataframe tbody tr th {\n",
       "        vertical-align: top;\n",
       "    }\n",
       "\n",
       "    .dataframe thead th {\n",
       "        text-align: right;\n",
       "    }\n",
       "</style>\n",
       "<table border=\"1\" class=\"dataframe\">\n",
       "  <thead>\n",
       "    <tr style=\"text-align: right;\">\n",
       "      <th></th>\n",
       "      <th>count</th>\n",
       "      <th>mean</th>\n",
       "      <th>std</th>\n",
       "      <th>min</th>\n",
       "      <th>25%</th>\n",
       "      <th>50%</th>\n",
       "      <th>75%</th>\n",
       "      <th>max</th>\n",
       "    </tr>\n",
       "    <tr>\n",
       "      <th>age</th>\n",
       "      <th></th>\n",
       "      <th></th>\n",
       "      <th></th>\n",
       "      <th></th>\n",
       "      <th></th>\n",
       "      <th></th>\n",
       "      <th></th>\n",
       "      <th></th>\n",
       "    </tr>\n",
       "  </thead>\n",
       "  <tbody>\n",
       "    <tr>\n",
       "      <th>0.0</th>\n",
       "      <td>2706.000</td>\n",
       "      <td>2085.355</td>\n",
       "      <td>5365.881</td>\n",
       "      <td>1.000</td>\n",
       "      <td>10.000</td>\n",
       "      <td>50.000</td>\n",
       "      <td>3000.000</td>\n",
       "      <td>127022.000</td>\n",
       "    </tr>\n",
       "    <tr>\n",
       "      <th>1.0</th>\n",
       "      <td>4484.000</td>\n",
       "      <td>18035.239</td>\n",
       "      <td>11052.524</td>\n",
       "      <td>1.000</td>\n",
       "      <td>9990.000</td>\n",
       "      <td>17872.000</td>\n",
       "      <td>25078.500</td>\n",
       "      <td>136000.000</td>\n",
       "    </tr>\n",
       "    <tr>\n",
       "      <th>2.0</th>\n",
       "      <td>3272.000</td>\n",
       "      <td>41754.941</td>\n",
       "      <td>28295.748</td>\n",
       "      <td>1.000</td>\n",
       "      <td>21541.750</td>\n",
       "      <td>34752.000</td>\n",
       "      <td>54805.500</td>\n",
       "      <td>317000.000</td>\n",
       "    </tr>\n",
       "    <tr>\n",
       "      <th>3.0</th>\n",
       "      <td>3674.000</td>\n",
       "      <td>77442.521</td>\n",
       "      <td>39170.143</td>\n",
       "      <td>10.000</td>\n",
       "      <td>48000.000</td>\n",
       "      <td>72914.500</td>\n",
       "      <td>99950.000</td>\n",
       "      <td>291800.000</td>\n",
       "    </tr>\n",
       "    <tr>\n",
       "      <th>-</th>\n",
       "      <td>759.000</td>\n",
       "      <td>934.497</td>\n",
       "      <td>7416.244</td>\n",
       "      <td>0.000</td>\n",
       "      <td>5.000</td>\n",
       "      <td>10.000</td>\n",
       "      <td>10.000</td>\n",
       "      <td>89982.000</td>\n",
       "    </tr>\n",
       "  </tbody>\n",
       "</table>\n",
       "</div>"
      ],
      "text/plain": [
       "       count      mean       std    min       25%       50%       75%  \\\n",
       "age                                                                     \n",
       "0.0 2706.000  2085.355  5365.881  1.000    10.000    50.000  3000.000   \n",
       "1.0 4484.000 18035.239 11052.524  1.000  9990.000 17872.000 25078.500   \n",
       "2.0 3272.000 41754.941 28295.748  1.000 21541.750 34752.000 54805.500   \n",
       "3.0 3674.000 77442.521 39170.143 10.000 48000.000 72914.500 99950.000   \n",
       "-    759.000   934.497  7416.244  0.000     5.000    10.000    10.000   \n",
       "\n",
       "           max  \n",
       "age             \n",
       "0.0 127022.000  \n",
       "1.0 136000.000  \n",
       "2.0 317000.000  \n",
       "3.0 291800.000  \n",
       "-    89982.000  "
      ]
     },
     "execution_count": 23,
     "metadata": {},
     "output_type": "execute_result"
    }
   ],
   "source": [
    "df.groupby(\"age\").km.describe()"
   ]
  },
  {
   "cell_type": "code",
   "execution_count": 91,
   "id": "289c1e41-2839-4f18-884b-3dc81b9dc248",
   "metadata": {},
   "outputs": [],
   "source": [
    "#df[df.age == \"-\"][\"km\"].value_counts(dropna=False)"
   ]
  },
  {
   "cell_type": "code",
   "execution_count": 25,
   "id": "3f66ae9a-25cd-4f51-bdf3-acbb91eb5399",
   "metadata": {},
   "outputs": [
    {
     "data": {
      "text/html": [
       "<div>\n",
       "<style scoped>\n",
       "    .dataframe tbody tr th:only-of-type {\n",
       "        vertical-align: middle;\n",
       "    }\n",
       "\n",
       "    .dataframe tbody tr th {\n",
       "        vertical-align: top;\n",
       "    }\n",
       "\n",
       "    .dataframe thead th {\n",
       "        text-align: right;\n",
       "    }\n",
       "</style>\n",
       "<table border=\"1\" class=\"dataframe\">\n",
       "  <thead>\n",
       "    <tr style=\"text-align: right;\">\n",
       "      <th></th>\n",
       "      <th>km</th>\n",
       "      <th>age</th>\n",
       "    </tr>\n",
       "  </thead>\n",
       "  <tbody>\n",
       "    <tr>\n",
       "      <th>13094</th>\n",
       "      <td>3744.000</td>\n",
       "      <td>2.000</td>\n",
       "    </tr>\n",
       "    <tr>\n",
       "      <th>14362</th>\n",
       "      <td>1600.000</td>\n",
       "      <td>1.000</td>\n",
       "    </tr>\n",
       "    <tr>\n",
       "      <th>3399</th>\n",
       "      <td>4300.000</td>\n",
       "      <td>2.000</td>\n",
       "    </tr>\n",
       "    <tr>\n",
       "      <th>5050</th>\n",
       "      <td>45.000</td>\n",
       "      <td>0.000</td>\n",
       "    </tr>\n",
       "    <tr>\n",
       "      <th>4551</th>\n",
       "      <td>7860.000</td>\n",
       "      <td>1.000</td>\n",
       "    </tr>\n",
       "    <tr>\n",
       "      <th>5401</th>\n",
       "      <td>10.000</td>\n",
       "      <td>0.000</td>\n",
       "    </tr>\n",
       "    <tr>\n",
       "      <th>12584</th>\n",
       "      <td>1.000</td>\n",
       "      <td>0.000</td>\n",
       "    </tr>\n",
       "    <tr>\n",
       "      <th>2090</th>\n",
       "      <td>5660.000</td>\n",
       "      <td>0.000</td>\n",
       "    </tr>\n",
       "    <tr>\n",
       "      <th>14270</th>\n",
       "      <td>5.000</td>\n",
       "      <td>-</td>\n",
       "    </tr>\n",
       "    <tr>\n",
       "      <th>15820</th>\n",
       "      <td>1550.000</td>\n",
       "      <td>0.000</td>\n",
       "    </tr>\n",
       "  </tbody>\n",
       "</table>\n",
       "</div>"
      ],
      "text/plain": [
       "            km   age\n",
       "13094 3744.000 2.000\n",
       "14362 1600.000 1.000\n",
       "3399  4300.000 2.000\n",
       "5050    45.000 0.000\n",
       "4551  7860.000 1.000\n",
       "5401    10.000 0.000\n",
       "12584    1.000 0.000\n",
       "2090  5660.000 0.000\n",
       "14270    5.000     -\n",
       "15820 1550.000 0.000"
      ]
     },
     "execution_count": 25,
     "metadata": {},
     "output_type": "execute_result"
    }
   ],
   "source": [
    "df.loc[df.km < 10000, [\"km\",\"age\"]].sample(10)"
   ]
  },
  {
   "cell_type": "code",
   "execution_count": 26,
   "id": "91193a18-c71c-4e01-aac9-3b0cd9550743",
   "metadata": {},
   "outputs": [
    {
     "data": {
      "text/plain": [
       "16      1.000\n",
       "23      1.000\n",
       "24      1.000\n",
       "68      2.000\n",
       "69      1.000\n",
       "         ... \n",
       "15911   0.000\n",
       "15913   0.000\n",
       "15915   0.000\n",
       "15916   0.000\n",
       "15917   0.000\n",
       "Name: age, Length: 4711, dtype: float64"
      ]
     },
     "execution_count": 26,
     "metadata": {},
     "output_type": "execute_result"
    }
   ],
   "source": [
    "# if age value is \"-\" replace them as 0 (zero)\n",
    "\n",
    "df.loc[df.km < 10000,'age'].replace('-', 0)"
   ]
  },
  {
   "cell_type": "markdown",
   "id": "1df85f16-fe32-4385-b733-22863859d26b",
   "metadata": {},
   "source": [
    "\n",
    "<div class=\"alert alert-success\" role=\"alert\">\n",
    "   Fill in our nan age values column according to the \"km\" value status..\n",
    "</div>\n",
    "   "
   ]
  },
  {
   "cell_type": "code",
   "execution_count": 27,
   "id": "09e53b8d-e540-4448-9648-c6986c796345",
   "metadata": {},
   "outputs": [],
   "source": [
    "cond1 = (df['km'] < 10000)\n",
    "cond2 = ((df['km'] >= 10000) & (df['km'] < 28000))\n",
    "cond3 = ((df['km'] >= 28000) & (df['km'] < 50000))\n",
    "cond4 = (df['km'] >= 50000)"
   ]
  },
  {
   "cell_type": "code",
   "execution_count": 28,
   "id": "44b1a09f-edc1-48ed-a276-4cc7c1b3591b",
   "metadata": {},
   "outputs": [],
   "source": [
    "df.loc[cond1,'age'] = df.loc[cond1,'age'].replace('-', 0)\n",
    "df.loc[cond2,'age'] = df.loc[cond2,'age'].replace('-', 1)\n",
    "df.loc[cond3,'age'] = df.loc[cond3,'age'].replace('-', 2)\n",
    "df.loc[cond4,'age'] = df.loc[cond4,'age'].replace('-', 3)"
   ]
  },
  {
   "cell_type": "code",
   "execution_count": 29,
   "id": "81b12a5c-58bc-4bb8-8390-ec28d9f8f7ca",
   "metadata": {},
   "outputs": [
    {
     "data": {
      "text/plain": [
       "age\n",
       "0.0    1647.363\n",
       "1.0   18035.130\n",
       "2.0   41748.577\n",
       "3.0   77450.063\n",
       "-           NaN\n",
       "Name: km, dtype: float64"
      ]
     },
     "execution_count": 29,
     "metadata": {},
     "output_type": "execute_result"
    }
   ],
   "source": [
    "df.groupby('age').km.mean()"
   ]
  },
  {
   "cell_type": "code",
   "execution_count": 30,
   "id": "3294074e-13c1-4821-9884-770a4f611489",
   "metadata": {},
   "outputs": [
    {
     "data": {
      "text/plain": [
       "1024"
      ]
     },
     "execution_count": 30,
     "metadata": {},
     "output_type": "execute_result"
    }
   ],
   "source": [
    "df[\"km\"].isnull().sum()  "
   ]
  },
  {
   "cell_type": "markdown",
   "id": "419393cf-3725-45a4-88d1-c09d05ee7bc9",
   "metadata": {},
   "source": [
    "\n",
    "<div class=\"alert alert-success\" role=\"alert\">\n",
    "   Used \"km\" column to fill nan values of \"age\" column, but we have nan values for \"km\".\n",
    "</div>"
   ]
  },
  {
   "cell_type": "code",
   "execution_count": 31,
   "id": "241569e5-8b94-4b27-8b70-eb67c9c097b1",
   "metadata": {},
   "outputs": [
    {
     "data": {
      "text/plain": [
       "1.0    4528\n",
       "3.0    3679\n",
       "0.0    3597\n",
       "2.0    3277\n",
       "-       838\n",
       "Name: age, dtype: int64"
      ]
     },
     "execution_count": 31,
     "metadata": {},
     "output_type": "execute_result"
    }
   ],
   "source": [
    "df.age.value_counts(dropna=False)"
   ]
  },
  {
   "cell_type": "markdown",
   "id": "a750e6fe-362e-4fa2-8cd5-f5c1cbf4fe6a",
   "metadata": {},
   "source": [
    "<div class=\"alert alert-success\" role=\"alert\">\n",
    "   No missing value of \"age\" --> when we are talking about \"km\"\n",
    "</div>"
   ]
  },
  {
   "cell_type": "code",
   "execution_count": 90,
   "id": "f04f59f3-e2d7-4913-9e3e-0ff131fe3f5d",
   "metadata": {},
   "outputs": [],
   "source": [
    "#df.groupby(['make_model', 'age']).km.describe()"
   ]
  },
  {
   "cell_type": "markdown",
   "id": "2fd5d7f7-b55a-4f24-a391-88ad7b39a6db",
   "metadata": {},
   "source": [
    "<div class=\"alert alert-success\" role=\"alert\">\n",
    "   If we check price, we have missing values for \"age\"\n",
    "</div>"
   ]
  },
  {
   "cell_type": "code",
   "execution_count": 89,
   "id": "844b33a8-d5f6-45e7-b8ad-f1881bc4ee71",
   "metadata": {},
   "outputs": [],
   "source": [
    "#df.groupby(['make_model',\"body_type\", 'age']).price.describe()"
   ]
  },
  {
   "cell_type": "markdown",
   "id": "84c84208-856f-465b-b1d3-b3bebeff0aad",
   "metadata": {},
   "source": [
    "<div class=\"alert alert-success\" role=\"alert\">\n",
    "   Okayi let's fill all missing values of \"age\" columns' as 0\n",
    "</div>"
   ]
  },
  {
   "cell_type": "code",
   "execution_count": 34,
   "id": "b60d8581-d2b1-48b4-bb1e-0b7b8144d213",
   "metadata": {},
   "outputs": [],
   "source": [
    "df['age'].replace('-',0, inplace=True) "
   ]
  },
  {
   "cell_type": "code",
   "execution_count": 35,
   "id": "68fcde90-84cd-4abd-999f-6a2bd5c32058",
   "metadata": {},
   "outputs": [
    {
     "data": {
      "text/plain": [
       "age\n",
       "0.000    1647.363\n",
       "1.000   18035.130\n",
       "2.000   41748.577\n",
       "3.000   77450.063\n",
       "Name: km, dtype: float64"
      ]
     },
     "execution_count": 35,
     "metadata": {},
     "output_type": "execute_result"
    }
   ],
   "source": [
    "df.groupby('age').km.mean()"
   ]
  },
  {
   "cell_type": "code",
   "execution_count": null,
   "id": "7289fabb-0421-4335-b86a-a411526d364e",
   "metadata": {},
   "outputs": [],
   "source": []
  },
  {
   "cell_type": "code",
   "execution_count": 36,
   "id": "5ea1cbd2-ce9d-415f-b545-53e3022e2e49",
   "metadata": {},
   "outputs": [
    {
     "data": {
      "text/plain": [
       "1.000    4528\n",
       "0.000    4435\n",
       "3.000    3679\n",
       "2.000    3277\n",
       "Name: age, dtype: int64"
      ]
     },
     "execution_count": 36,
     "metadata": {},
     "output_type": "execute_result"
    }
   ],
   "source": [
    "df[\"age\"].value_counts(dropna=False)"
   ]
  },
  {
   "cell_type": "markdown",
   "id": "409a8e08-6e6d-433f-9bfd-d99bf1f77157",
   "metadata": {},
   "source": [
    "# 3 - upholstery_type"
   ]
  },
  {
   "cell_type": "code",
   "execution_count": 37,
   "id": "c4ed563e-4365-468c-80f0-2bb471915b63",
   "metadata": {},
   "outputs": [
    {
     "name": "stdout",
     "output_type": "stream",
     "text": [
      "column name    :  upholstery_type\n",
      "--------------------------------\n",
      "per_of_nulls   :  % 30.6\n",
      "num_of_nulls   :  4871\n",
      "num_of_uniques :  5\n",
      "Cloth           8423\n",
      "NaN             4871\n",
      "Part leather    1499\n",
      "Full leather    1009\n",
      "Velour            60\n",
      "alcantara         57\n",
      "Name: upholstery_type, dtype: int64\n"
     ]
    }
   ],
   "source": [
    "first_looking_col(\"upholstery_type\")"
   ]
  },
  {
   "cell_type": "code",
   "execution_count": 38,
   "id": "13964466-273d-4106-90c9-42533ce10392",
   "metadata": {},
   "outputs": [],
   "source": [
    "df.upholstery_type.replace([\"Velour\", \"alcantara\", \"Part leather\", \"Full leather\"], [\"Cloth\", \"Part/Full Leather\", \"Part/Full Leather\", \"Part/Full Leather\"], inplace=True)"
   ]
  },
  {
   "cell_type": "code",
   "execution_count": 39,
   "id": "2912c809-32a3-42ba-a423-3509ef54eb3d",
   "metadata": {},
   "outputs": [
    {
     "data": {
      "text/plain": [
       "Cloth                8483\n",
       "NaN                  4871\n",
       "Part/Full Leather    2565\n",
       "Name: upholstery_type, dtype: int64"
      ]
     },
     "execution_count": 39,
     "metadata": {},
     "output_type": "execute_result"
    }
   ],
   "source": [
    "df.upholstery_type.value_counts(dropna=False)"
   ]
  },
  {
   "cell_type": "code",
   "execution_count": 88,
   "id": "fdc85afc-1faa-44be-83eb-aae4369cbc49",
   "metadata": {},
   "outputs": [],
   "source": [
    "#df.groupby([\"make_model\", \"body_type\", \"upholstery_type\"])[\"make_model\", \"body_type\", \"upholstery_type\"].head()"
   ]
  },
  {
   "cell_type": "code",
   "execution_count": 41,
   "id": "ee421967-82d1-4d30-9fc9-bb10c3d50b18",
   "metadata": {},
   "outputs": [
    {
     "name": "stdout",
     "output_type": "stream",
     "text": [
      "Number of NaN :  0\n",
      "------------------\n",
      "Cloth                12267\n",
      "Part/Full Leather     3652\n",
      "Name: upholstery_type, dtype: int64\n"
     ]
    }
   ],
   "source": [
    "fill(df, \"make_model\", \"body_type\", \"upholstery_type\", \"ffill\")"
   ]
  },
  {
   "cell_type": "markdown",
   "id": "de9b6513-ba23-4dcf-8c0b-b62a8886b04a",
   "metadata": {},
   "source": [
    "# 4 - upholstery_color"
   ]
  },
  {
   "cell_type": "code",
   "execution_count": 42,
   "id": "c275ce6a-6486-4d45-a2ed-08c5ac6f8f48",
   "metadata": {},
   "outputs": [],
   "source": [
    "# df.drop(\"upholstery_color\", axis=1, inplace=True)"
   ]
  },
  {
   "cell_type": "markdown",
   "id": "6e3c1754-ccee-49f5-9b1e-94cf0c37495b",
   "metadata": {},
   "source": [
    "# 5 - cons_comb"
   ]
  },
  {
   "cell_type": "code",
   "execution_count": 87,
   "id": "bbf27298-5664-41cb-ac61-dca2d0aaacf9",
   "metadata": {},
   "outputs": [],
   "source": [
    "# first_looking_col(\"cons_comb\")"
   ]
  },
  {
   "cell_type": "code",
   "execution_count": 44,
   "id": "397789d3-3e01-4453-b275-5603d7b252f4",
   "metadata": {},
   "outputs": [],
   "source": [
    "cons_comb = (df[\"cons_country\"] + df[\"cons_city\"])/2"
   ]
  },
  {
   "cell_type": "code",
   "execution_count": 45,
   "id": "e47fe17f-768a-428a-b708-d8964a721e31",
   "metadata": {},
   "outputs": [],
   "source": [
    "df[\"cons_comb\"] = df[\"cons_comb\"].fillna(cons_comb)"
   ]
  },
  {
   "cell_type": "code",
   "execution_count": 86,
   "id": "45011459-f4f6-4919-8dc5-b68dc086eae3",
   "metadata": {},
   "outputs": [],
   "source": [
    "# df[\"cons_comb\"].value_counts(dropna=False)"
   ]
  },
  {
   "cell_type": "code",
   "execution_count": 47,
   "id": "c9586f41-f03e-420a-aeb8-b86d28a650c5",
   "metadata": {},
   "outputs": [],
   "source": [
    "df[\"cons_comb\"].fillna(\"-\", inplace=True)"
   ]
  },
  {
   "cell_type": "code",
   "execution_count": 85,
   "id": "1a2d6c3e-a246-458c-a664-ace3ec0f939d",
   "metadata": {},
   "outputs": [],
   "source": [
    "# df.groupby([\"make_model\", \"body_type\",\"cons_comb\"]).price.describe()"
   ]
  },
  {
   "cell_type": "code",
   "execution_count": 49,
   "id": "02992c68-21f8-483f-a01c-c42779dbdfce",
   "metadata": {},
   "outputs": [],
   "source": [
    "df[\"cons_comb\"].replace([0.0, 1.0, 1.2, 1.6, 10, 11, 13.8, 32.0, 33.0, 38.0, 40.0, 43.0, 46.0, 50.0, 51.0, 54.0, 55.0, \"-\"], np.nan, inplace=True)"
   ]
  },
  {
   "cell_type": "code",
   "execution_count": 83,
   "id": "c21664ff-653d-46ec-b339-8b009b7f66dc",
   "metadata": {},
   "outputs": [],
   "source": [
    "# df[\"cons_comb\"].value_counts(dropna=False)"
   ]
  },
  {
   "cell_type": "code",
   "execution_count": 84,
   "id": "29e6644d-e74d-466a-a011-427a546ee9ff",
   "metadata": {},
   "outputs": [],
   "source": [
    "# df.groupby([\"make_model\", \"body_type\", \"cons_comb\"])[\"make_model\", \"body_type\", \"cons_comb\"].head()"
   ]
  },
  {
   "cell_type": "code",
   "execution_count": 82,
   "id": "d3a179e5-2df1-4368-a1fb-c6afdd598b16",
   "metadata": {},
   "outputs": [],
   "source": [
    "# fill(df, \"make_model\", \"body_type\", \"cons_comb\", \"median\")"
   ]
  },
  {
   "cell_type": "markdown",
   "id": "c0add3d0-2a51-4f61-a841-b7dfdbfec94f",
   "metadata": {},
   "source": [
    "# 6 - cons_country"
   ]
  },
  {
   "cell_type": "code",
   "execution_count": 53,
   "id": "c2df34c1-4a64-4f1d-9ff5-b03002c639b9",
   "metadata": {},
   "outputs": [],
   "source": [
    "# df.drop(\"cons_country\", axis = 1, inplace = True)"
   ]
  },
  {
   "cell_type": "markdown",
   "id": "8fdc70ff-0b26-4015-904a-f261a9fd83d5",
   "metadata": {},
   "source": [
    "# 7 - cons_city "
   ]
  },
  {
   "cell_type": "code",
   "execution_count": 54,
   "id": "c9b2584b-220c-4f8e-a9b8-11e772ab0a2f",
   "metadata": {},
   "outputs": [],
   "source": [
    "# df.drop(\"cons_city\", axis = 1, inplace = True)"
   ]
  },
  {
   "cell_type": "markdown",
   "id": "4bc0121b-53b8-4903-a553-b058beb22976",
   "metadata": {},
   "source": [
    "# 8 - body_type"
   ]
  },
  {
   "cell_type": "code",
   "execution_count": 56,
   "id": "a99eee7b-050a-4d2a-bef3-4e2dde643c63",
   "metadata": {},
   "outputs": [
    {
     "data": {
      "text/plain": [
       "False    15859\n",
       "True        60\n",
       "Name: body_type, dtype: int64"
      ]
     },
     "execution_count": 56,
     "metadata": {},
     "output_type": "execute_result"
    }
   ],
   "source": [
    "df[\"body_type\"].isna().value_counts()"
   ]
  },
  {
   "cell_type": "code",
   "execution_count": 55,
   "id": "50fc0247-106a-4ca5-b75e-4dfb970ec5d6",
   "metadata": {},
   "outputs": [
    {
     "data": {
      "text/plain": [
       "Sedans           7903\n",
       "Station wagon    3553\n",
       "Compact          3153\n",
       "Van               783\n",
       "Other             290\n",
       "Transporter        88\n",
       "NaN                60\n",
       "Off-Road           56\n",
       "Coupe              25\n",
       "Convertible         8\n",
       "Name: body_type, dtype: int64"
      ]
     },
     "execution_count": 55,
     "metadata": {},
     "output_type": "execute_result"
    }
   ],
   "source": [
    "df.body_type.value_counts(dropna=False)"
   ]
  },
  {
   "cell_type": "code",
   "execution_count": 81,
   "id": "89aba78e-81e0-473c-bdfe-374e4f7c8753",
   "metadata": {},
   "outputs": [],
   "source": [
    "# df.groupby([\"body_type\", \"make_model\"]).price.describe()"
   ]
  },
  {
   "cell_type": "code",
   "execution_count": 58,
   "id": "9e905868-e7dc-440f-90e6-55c501733c72",
   "metadata": {},
   "outputs": [],
   "source": [
    "for model in df['make_model'].unique():\n",
    "    cond = df['make_model']==model\n",
    "    mode = list(df[cond]['body_type'].mode())\n",
    "    if mode != []:\n",
    "        df.loc[cond, 'body_type'] = df.loc[cond, 'body_type'].fillna(df[cond]['body_type'].mode()[0])\n",
    "    else:\n",
    "        df.loc[cond, 'body_type'] = df.loc[cond, 'body_type'].fillna(df['body_type'].mode()[0])"
   ]
  },
  {
   "cell_type": "code",
   "execution_count": 59,
   "id": "4f1abce0-43c2-4593-ab78-0ebbf85a3dfb",
   "metadata": {},
   "outputs": [
    {
     "data": {
      "text/plain": [
       "Sedans           7925\n",
       "Station wagon    3563\n",
       "Compact          3155\n",
       "Van               809\n",
       "Other             290\n",
       "Transporter        88\n",
       "Off-Road           56\n",
       "Coupe              25\n",
       "Convertible         8\n",
       "Name: body_type, dtype: int64"
      ]
     },
     "execution_count": 59,
     "metadata": {},
     "output_type": "execute_result"
    }
   ],
   "source": [
    "df.body_type.value_counts(dropna=False)"
   ]
  },
  {
   "cell_type": "markdown",
   "id": "3de49457-e06c-4132-819e-58aada9f36c7",
   "metadata": {},
   "source": [
    "# 9 - km"
   ]
  },
  {
   "cell_type": "code",
   "execution_count": 60,
   "id": "9a865b1c-1903-4a7e-a421-a70fceb26ddc",
   "metadata": {},
   "outputs": [
    {
     "data": {
      "text/plain": [
       "10.000       1045\n",
       "NaN          1024\n",
       "1.000         367\n",
       "5.000         170\n",
       "50.000        148\n",
       "             ... \n",
       "67469.000       1\n",
       "43197.000       1\n",
       "10027.000       1\n",
       "35882.000       1\n",
       "57.000          1\n",
       "Name: km, Length: 6690, dtype: int64"
      ]
     },
     "execution_count": 60,
     "metadata": {},
     "output_type": "execute_result"
    }
   ],
   "source": [
    "df.km.value_counts(dropna=False)"
   ]
  },
  {
   "cell_type": "code",
   "execution_count": 61,
   "id": "dc6ff776-cd19-4902-8d08-0e9b93fbb5f8",
   "metadata": {},
   "outputs": [
    {
     "data": {
      "text/plain": [
       "age\n",
       "0.000    1647.363\n",
       "1.000   18035.130\n",
       "2.000   41748.577\n",
       "3.000   77450.063\n",
       "Name: km, dtype: float64"
      ]
     },
     "execution_count": 61,
     "metadata": {},
     "output_type": "execute_result"
    }
   ],
   "source": [
    "df.groupby(\"age\").km.mean()"
   ]
  },
  {
   "cell_type": "code",
   "execution_count": null,
   "id": "479a6b75-ce6b-4f09-9c25-19ff3cf5eb7a",
   "metadata": {},
   "outputs": [],
   "source": [
    "df.groupby(\"Age\").Km.transform(\"mean\").sample(10)"
   ]
  },
  {
   "cell_type": "code",
   "execution_count": 62,
   "id": "ac0c8c95-7c23-49ee-9ed4-24ef84619f2f",
   "metadata": {},
   "outputs": [],
   "source": [
    "df[\"km\"].fillna(df.groupby(\"age\").km.transform(\"mean\"), inplace=True)"
   ]
  },
  {
   "cell_type": "code",
   "execution_count": 63,
   "id": "c06e133c-f429-4ea6-bae3-4e3c07888622",
   "metadata": {},
   "outputs": [
    {
     "data": {
      "text/plain": [
       "10.000       1045\n",
       "1647.363      985\n",
       "1.000         367\n",
       "5.000         170\n",
       "50.000        148\n",
       "             ... \n",
       "67469.000       1\n",
       "43197.000       1\n",
       "10027.000       1\n",
       "35882.000       1\n",
       "57.000          1\n",
       "Name: km, Length: 6692, dtype: int64"
      ]
     },
     "execution_count": 63,
     "metadata": {},
     "output_type": "execute_result"
    }
   ],
   "source": [
    "df[\"km\"].value_counts(dropna=False)"
   ]
  },
  {
   "cell_type": "code",
   "execution_count": null,
   "id": "887e84ae-03d3-4871-8c08-0ea83c792719",
   "metadata": {},
   "outputs": [],
   "source": [
    "df[\"Km\"].fillna(df.groupby(\"Age\").Km.transform(\"mean\"), inplace=True)"
   ]
  },
  {
   "cell_type": "code",
   "execution_count": null,
   "id": "daaa4941-9e4a-434e-8ae5-cfc1547200b7",
   "metadata": {},
   "outputs": [],
   "source": [
    ".km.fillna(method=\"ffill\").fillna(method=\"bfill\")   # Hala nan değer çıkınca böyle doldurdum. Pek mantıklı gelmedi ama başka bi şey yapamadım."
   ]
  },
  {
   "cell_type": "code",
   "execution_count": null,
   "id": "a8c7c322-732f-4a28-91d5-728600d7a9b2",
   "metadata": {},
   "outputs": [],
   "source": [
    "# df.km.fillna(method=\"ffill\").fillna(method=\"bfill\").value_counts(dropna=False)"
   ]
  },
  {
   "cell_type": "code",
   "execution_count": 64,
   "id": "adb0f780-e61c-4b70-800b-e6ba1d39db6b",
   "metadata": {},
   "outputs": [
    {
     "data": {
      "text/plain": [
       "False"
      ]
     },
     "execution_count": 64,
     "metadata": {},
     "output_type": "execute_result"
    }
   ],
   "source": [
    "df.km.isnull().any()"
   ]
  },
  {
   "cell_type": "code",
   "execution_count": null,
   "id": "b0921a9e-bd8a-4662-b4c7-9b143f6b7fb7",
   "metadata": {},
   "outputs": [],
   "source": [
    "# fill(df, \"age\", \"type\", \"km\", \"mode\")"
   ]
  },
  {
   "cell_type": "code",
   "execution_count": null,
   "id": "c503dc4f-c221-4e0d-a1dc-fed11e25e99d",
   "metadata": {},
   "outputs": [],
   "source": [
    "# df.groupby(['make_model',\"age\", \"type\"]).km.describe()"
   ]
  },
  {
   "cell_type": "code",
   "execution_count": null,
   "id": "085cb0ca-f615-4b4d-b926-e1c22aaae25b",
   "metadata": {},
   "outputs": [],
   "source": [
    "# df.groupby(['make_model',\"age\", 'km'])['make_model',\"age\", 'km'].head(100)"
   ]
  },
  {
   "cell_type": "code",
   "execution_count": null,
   "id": "bd55f961-332f-422c-bc0d-93b32b16e991",
   "metadata": {},
   "outputs": [],
   "source": [
    "# df.km.value_counts(dropna=False)"
   ]
  },
  {
   "cell_type": "code",
   "execution_count": null,
   "id": "41051581-6b8e-4e32-8b86-28b4fbbc639a",
   "metadata": {},
   "outputs": [],
   "source": [
    "# cond = (df.km == '-') & (df.age == 0) & (df.type == \"\")\n",
    "# df.loc[cond, 'km'] = df.loc[cond, 'km'].map({'-':'15000.0'})"
   ]
  },
  {
   "cell_type": "code",
   "execution_count": null,
   "id": "74df6f4c-d86e-4171-9d72-197f28f43284",
   "metadata": {},
   "outputs": [],
   "source": [
    "# cond = (df.km == '-') & (df.age == 1)\n",
    "# df.loc[cond, 'km'] = df.loc[cond, 'km'].map({'-':'40000.0'})"
   ]
  },
  {
   "cell_type": "code",
   "execution_count": null,
   "id": "82aca434-86a6-493d-88ed-15ac3435d6e6",
   "metadata": {},
   "outputs": [],
   "source": [
    "# cond = df.km == '-'\n",
    "# df.loc[cond, 'km'] = df.loc[cond, 'km'].map({'-':'01/2016'})      #başarısız denemelerim"
   ]
  },
  {
   "cell_type": "markdown",
   "id": "97f54539-c0c3-4796-b2b6-8bae5fa7fc7a",
   "metadata": {},
   "source": [
    "# 10 - hp"
   ]
  },
  {
   "cell_type": "code",
   "execution_count": 80,
   "id": "b02f978a-6183-468b-8201-ad68a4da1876",
   "metadata": {},
   "outputs": [],
   "source": [
    "# df.hp.value_counts(dropna=False)"
   ]
  },
  {
   "cell_type": "code",
   "execution_count": null,
   "id": "47698734-4923-45e9-9fac-112864b54b21",
   "metadata": {},
   "outputs": [],
   "source": [
    "# df.groupby([\"make_model\",\"body_type\", \"hp\"]).price.describe()"
   ]
  },
  {
   "cell_type": "code",
   "execution_count": null,
   "id": "fd3246be-af63-43c5-b158-1d2dfddeb4f7",
   "metadata": {},
   "outputs": [],
   "source": [
    "# fill(df, \"make_model\", \"body_type\", \"hp\", \"mode\")    # Bu bende hata veriyor. Nedenini anlayamadım."
   ]
  },
  {
   "cell_type": "code",
   "execution_count": null,
   "id": "f0bb3b49-53a1-4be3-8b23-e1779df18e27",
   "metadata": {},
   "outputs": [],
   "source": [
    "# df.hp.isnull().any()"
   ]
  },
  {
   "cell_type": "markdown",
   "id": "0fa87ed8-9bfd-4ea9-977f-5cc7d951a91e",
   "metadata": {},
   "source": [
    "# 11 - type"
   ]
  },
  {
   "cell_type": "code",
   "execution_count": 66,
   "id": "401b1bc0-844d-4bbb-9e7c-01a3d4808b19",
   "metadata": {},
   "outputs": [
    {
     "data": {
      "text/plain": [
       "Used              11096\n",
       "New                1650\n",
       "Pre-registered     1364\n",
       "Employee's car     1011\n",
       "Demonstration       796\n",
       "NaN                   2\n",
       "Name: type, dtype: int64"
      ]
     },
     "execution_count": 66,
     "metadata": {},
     "output_type": "execute_result"
    }
   ],
   "source": [
    "df.type.value_counts(dropna=False)"
   ]
  },
  {
   "cell_type": "code",
   "execution_count": null,
   "id": "af75c0f0-53d2-42e7-930b-869a67538ecd",
   "metadata": {},
   "outputs": [],
   "source": [
    "df.groupby([\"Type\",\"Make_Model\",\"Age\"])[\"Price\"].describe()"
   ]
  },
  {
   "cell_type": "code",
   "execution_count": 67,
   "id": "58a52025-4b69-4b34-8337-c397ad6f4ef8",
   "metadata": {},
   "outputs": [],
   "source": [
    "df.type=df.type.fillna(method='ffill')"
   ]
  },
  {
   "cell_type": "code",
   "execution_count": 68,
   "id": "f626b38d-8805-4ea4-94d9-3fd8b383ce0f",
   "metadata": {},
   "outputs": [
    {
     "data": {
      "text/plain": [
       "Used              11097\n",
       "New                1650\n",
       "Pre-registered     1365\n",
       "Employee's car     1011\n",
       "Demonstration       796\n",
       "Name: type, dtype: int64"
      ]
     },
     "execution_count": 68,
     "metadata": {},
     "output_type": "execute_result"
    }
   ],
   "source": [
    "df.type.value_counts(dropna=False)"
   ]
  },
  {
   "cell_type": "markdown",
   "id": "c9a9d7ce-66ad-4775-a431-2bbdd2090436",
   "metadata": {},
   "source": [
    "# 12 - previous_owners"
   ]
  },
  {
   "cell_type": "code",
   "execution_count": 92,
   "id": "9da64774-e7d6-4f96-9ae4-a8c226325e9a",
   "metadata": {},
   "outputs": [
    {
     "data": {
      "text/plain": [
       "1.000    8294\n",
       "NaN      6640\n",
       "2.000     778\n",
       "0.000     188\n",
       "3.000      17\n",
       "4.000       2\n",
       "Name: previous_owners, dtype: int64"
      ]
     },
     "execution_count": 92,
     "metadata": {},
     "output_type": "execute_result"
    }
   ],
   "source": [
    "df.previous_owners.value_counts(dropna=False)"
   ]
  },
  {
   "cell_type": "code",
   "execution_count": 93,
   "id": "4ba17967-7611-42db-98b6-c91bf5a81597",
   "metadata": {},
   "outputs": [],
   "source": [
    "df['Previous_Owners'] = df['previous_owners']"
   ]
  },
  {
   "cell_type": "code",
   "execution_count": 94,
   "id": "d0298926-a8bd-435e-8f27-8bbbebb5467f",
   "metadata": {},
   "outputs": [
    {
     "data": {
      "text/plain": [
       "1.000    4528\n",
       "0.000    4435\n",
       "3.000    3679\n",
       "2.000    3277\n",
       "Name: age, dtype: int64"
      ]
     },
     "execution_count": 94,
     "metadata": {},
     "output_type": "execute_result"
    }
   ],
   "source": [
    "df.age.value_counts(dropna=False)"
   ]
  },
  {
   "cell_type": "code",
   "execution_count": 96,
   "id": "21e0dd05-aceb-4c71-a171-9a1b7fcbd8e8",
   "metadata": {},
   "outputs": [
    {
     "ename": "KeyError",
     "evalue": "'Age'",
     "output_type": "error",
     "traceback": [
      "\u001b[0;31m---------------------------------------------------------------------------\u001b[0m",
      "\u001b[0;31mKeyError\u001b[0m                                  Traceback (most recent call last)",
      "\u001b[0;32m/opt/anaconda3/lib/python3.8/site-packages/pandas/core/indexes/base.py\u001b[0m in \u001b[0;36mget_loc\u001b[0;34m(self, key, method, tolerance)\u001b[0m\n\u001b[1;32m   3360\u001b[0m             \u001b[0;32mtry\u001b[0m\u001b[0;34m:\u001b[0m\u001b[0;34m\u001b[0m\u001b[0;34m\u001b[0m\u001b[0m\n\u001b[0;32m-> 3361\u001b[0;31m                 \u001b[0;32mreturn\u001b[0m \u001b[0mself\u001b[0m\u001b[0;34m.\u001b[0m\u001b[0m_engine\u001b[0m\u001b[0;34m.\u001b[0m\u001b[0mget_loc\u001b[0m\u001b[0;34m(\u001b[0m\u001b[0mcasted_key\u001b[0m\u001b[0;34m)\u001b[0m\u001b[0;34m\u001b[0m\u001b[0;34m\u001b[0m\u001b[0m\n\u001b[0m\u001b[1;32m   3362\u001b[0m             \u001b[0;32mexcept\u001b[0m \u001b[0mKeyError\u001b[0m \u001b[0;32mas\u001b[0m \u001b[0merr\u001b[0m\u001b[0;34m:\u001b[0m\u001b[0;34m\u001b[0m\u001b[0;34m\u001b[0m\u001b[0m\n",
      "\u001b[0;32m/opt/anaconda3/lib/python3.8/site-packages/pandas/_libs/index.pyx\u001b[0m in \u001b[0;36mpandas._libs.index.IndexEngine.get_loc\u001b[0;34m()\u001b[0m\n",
      "\u001b[0;32m/opt/anaconda3/lib/python3.8/site-packages/pandas/_libs/index.pyx\u001b[0m in \u001b[0;36mpandas._libs.index.IndexEngine.get_loc\u001b[0;34m()\u001b[0m\n",
      "\u001b[0;32mpandas/_libs/hashtable_class_helper.pxi\u001b[0m in \u001b[0;36mpandas._libs.hashtable.PyObjectHashTable.get_item\u001b[0;34m()\u001b[0m\n",
      "\u001b[0;32mpandas/_libs/hashtable_class_helper.pxi\u001b[0m in \u001b[0;36mpandas._libs.hashtable.PyObjectHashTable.get_item\u001b[0;34m()\u001b[0m\n",
      "\u001b[0;31mKeyError\u001b[0m: 'Age'",
      "\nThe above exception was the direct cause of the following exception:\n",
      "\u001b[0;31mKeyError\u001b[0m                                  Traceback (most recent call last)",
      "\u001b[0;32m/var/folders/vf/6xt_s_s92t3b9rl97pwrhffh0000gn/T/ipykernel_22056/3710912702.py\u001b[0m in \u001b[0;36m<module>\u001b[0;34m\u001b[0m\n\u001b[0;32m----> 1\u001b[0;31m \u001b[0;32mfor\u001b[0m \u001b[0mage\u001b[0m \u001b[0;32min\u001b[0m \u001b[0mlist\u001b[0m\u001b[0;34m(\u001b[0m\u001b[0mdf\u001b[0m\u001b[0;34m[\u001b[0m\u001b[0;34m\"Age\"\u001b[0m\u001b[0;34m]\u001b[0m\u001b[0;34m.\u001b[0m\u001b[0munique\u001b[0m\u001b[0;34m(\u001b[0m\u001b[0;34m)\u001b[0m\u001b[0;34m)\u001b[0m\u001b[0;34m:\u001b[0m \u001b[0;31m# if your age is one of your unique age values\u001b[0m\u001b[0;34m\u001b[0m\u001b[0;34m\u001b[0m\u001b[0m\n\u001b[0m\u001b[1;32m      2\u001b[0m     \u001b[0mcond\u001b[0m \u001b[0;34m=\u001b[0m \u001b[0mdf\u001b[0m\u001b[0;34m[\u001b[0m\u001b[0;34m\"Age\"\u001b[0m\u001b[0;34m]\u001b[0m\u001b[0;34m==\u001b[0m\u001b[0mage\u001b[0m\u001b[0;34m\u001b[0m\u001b[0;34m\u001b[0m\u001b[0m\n\u001b[1;32m      3\u001b[0m     \u001b[0mdf\u001b[0m\u001b[0;34m.\u001b[0m\u001b[0mloc\u001b[0m\u001b[0;34m[\u001b[0m\u001b[0mcond\u001b[0m\u001b[0;34m,\u001b[0m \u001b[0;34m\"Previous_Owners\"\u001b[0m\u001b[0;34m]\u001b[0m \u001b[0;34m=\u001b[0m \u001b[0mdf\u001b[0m\u001b[0;34m.\u001b[0m\u001b[0mloc\u001b[0m\u001b[0;34m[\u001b[0m\u001b[0mcond\u001b[0m\u001b[0;34m,\u001b[0m \u001b[0;34m\"Previous_Owners\"\u001b[0m\u001b[0;34m]\u001b[0m\u001b[0;34m.\u001b[0m\u001b[0mfillna\u001b[0m\u001b[0;34m(\u001b[0m\u001b[0mmethod\u001b[0m\u001b[0;34m=\u001b[0m\u001b[0;34m\"ffill\"\u001b[0m\u001b[0;34m)\u001b[0m\u001b[0;34m.\u001b[0m\u001b[0mfillna\u001b[0m\u001b[0;34m(\u001b[0m\u001b[0mmethod\u001b[0m\u001b[0;34m=\u001b[0m\u001b[0;34m\"bfill\"\u001b[0m\u001b[0;34m)\u001b[0m\u001b[0;34m\u001b[0m\u001b[0;34m\u001b[0m\u001b[0m\n",
      "\u001b[0;32m/opt/anaconda3/lib/python3.8/site-packages/pandas/core/frame.py\u001b[0m in \u001b[0;36m__getitem__\u001b[0;34m(self, key)\u001b[0m\n\u001b[1;32m   3456\u001b[0m             \u001b[0;32mif\u001b[0m \u001b[0mself\u001b[0m\u001b[0;34m.\u001b[0m\u001b[0mcolumns\u001b[0m\u001b[0;34m.\u001b[0m\u001b[0mnlevels\u001b[0m \u001b[0;34m>\u001b[0m \u001b[0;36m1\u001b[0m\u001b[0;34m:\u001b[0m\u001b[0;34m\u001b[0m\u001b[0;34m\u001b[0m\u001b[0m\n\u001b[1;32m   3457\u001b[0m                 \u001b[0;32mreturn\u001b[0m \u001b[0mself\u001b[0m\u001b[0;34m.\u001b[0m\u001b[0m_getitem_multilevel\u001b[0m\u001b[0;34m(\u001b[0m\u001b[0mkey\u001b[0m\u001b[0;34m)\u001b[0m\u001b[0;34m\u001b[0m\u001b[0;34m\u001b[0m\u001b[0m\n\u001b[0;32m-> 3458\u001b[0;31m             \u001b[0mindexer\u001b[0m \u001b[0;34m=\u001b[0m \u001b[0mself\u001b[0m\u001b[0;34m.\u001b[0m\u001b[0mcolumns\u001b[0m\u001b[0;34m.\u001b[0m\u001b[0mget_loc\u001b[0m\u001b[0;34m(\u001b[0m\u001b[0mkey\u001b[0m\u001b[0;34m)\u001b[0m\u001b[0;34m\u001b[0m\u001b[0;34m\u001b[0m\u001b[0m\n\u001b[0m\u001b[1;32m   3459\u001b[0m             \u001b[0;32mif\u001b[0m \u001b[0mis_integer\u001b[0m\u001b[0;34m(\u001b[0m\u001b[0mindexer\u001b[0m\u001b[0;34m)\u001b[0m\u001b[0;34m:\u001b[0m\u001b[0;34m\u001b[0m\u001b[0;34m\u001b[0m\u001b[0m\n\u001b[1;32m   3460\u001b[0m                 \u001b[0mindexer\u001b[0m \u001b[0;34m=\u001b[0m \u001b[0;34m[\u001b[0m\u001b[0mindexer\u001b[0m\u001b[0;34m]\u001b[0m\u001b[0;34m\u001b[0m\u001b[0;34m\u001b[0m\u001b[0m\n",
      "\u001b[0;32m/opt/anaconda3/lib/python3.8/site-packages/pandas/core/indexes/base.py\u001b[0m in \u001b[0;36mget_loc\u001b[0;34m(self, key, method, tolerance)\u001b[0m\n\u001b[1;32m   3361\u001b[0m                 \u001b[0;32mreturn\u001b[0m \u001b[0mself\u001b[0m\u001b[0;34m.\u001b[0m\u001b[0m_engine\u001b[0m\u001b[0;34m.\u001b[0m\u001b[0mget_loc\u001b[0m\u001b[0;34m(\u001b[0m\u001b[0mcasted_key\u001b[0m\u001b[0;34m)\u001b[0m\u001b[0;34m\u001b[0m\u001b[0;34m\u001b[0m\u001b[0m\n\u001b[1;32m   3362\u001b[0m             \u001b[0;32mexcept\u001b[0m \u001b[0mKeyError\u001b[0m \u001b[0;32mas\u001b[0m \u001b[0merr\u001b[0m\u001b[0;34m:\u001b[0m\u001b[0;34m\u001b[0m\u001b[0;34m\u001b[0m\u001b[0m\n\u001b[0;32m-> 3363\u001b[0;31m                 \u001b[0;32mraise\u001b[0m \u001b[0mKeyError\u001b[0m\u001b[0;34m(\u001b[0m\u001b[0mkey\u001b[0m\u001b[0;34m)\u001b[0m \u001b[0;32mfrom\u001b[0m \u001b[0merr\u001b[0m\u001b[0;34m\u001b[0m\u001b[0;34m\u001b[0m\u001b[0m\n\u001b[0m\u001b[1;32m   3364\u001b[0m \u001b[0;34m\u001b[0m\u001b[0m\n\u001b[1;32m   3365\u001b[0m         \u001b[0;32mif\u001b[0m \u001b[0mis_scalar\u001b[0m\u001b[0;34m(\u001b[0m\u001b[0mkey\u001b[0m\u001b[0;34m)\u001b[0m \u001b[0;32mand\u001b[0m \u001b[0misna\u001b[0m\u001b[0;34m(\u001b[0m\u001b[0mkey\u001b[0m\u001b[0;34m)\u001b[0m \u001b[0;32mand\u001b[0m \u001b[0;32mnot\u001b[0m \u001b[0mself\u001b[0m\u001b[0;34m.\u001b[0m\u001b[0mhasnans\u001b[0m\u001b[0;34m:\u001b[0m\u001b[0;34m\u001b[0m\u001b[0;34m\u001b[0m\u001b[0m\n",
      "\u001b[0;31mKeyError\u001b[0m: 'Age'"
     ]
    }
   ],
   "source": [
    "for age in list(df[\"Age\"].unique()): # if your age is one of your unique age values\n",
    "    cond = df[\"Age\"]==age\n",
    "    df.loc[cond, \"Previous_Owners\"] = df.loc[cond, \"Previous_Owners\"].fillna(method=\"ffill\").fillna(method=\"bfill\")"
   ]
  },
  {
   "cell_type": "code",
   "execution_count": null,
   "id": "fdfc10ab-2a7a-4717-867f-bb5f65b25313",
   "metadata": {},
   "outputs": [],
   "source": [
    "df.Previous_Owners.value_counts(dropna=False)"
   ]
  },
  {
   "cell_type": "markdown",
   "id": "a6b95558-dbad-408c-a260-ced6b688e1eb",
   "metadata": {},
   "source": [
    "# 13 - inspection_new\n"
   ]
  },
  {
   "cell_type": "code",
   "execution_count": null,
   "id": "44d0833c-3227-4f86-91e1-0f95c1ab229e",
   "metadata": {},
   "outputs": [],
   "source": [
    "df.inspection_new.value_counts(dropna=False)"
   ]
  },
  {
   "cell_type": "code",
   "execution_count": null,
   "id": "1e781460-56aa-4e02-9af6-927a11102f61",
   "metadata": {},
   "outputs": [],
   "source": [
    "df[\"inspection_new\"].fillna(value=\"No\",inplace=True)"
   ]
  },
  {
   "cell_type": "code",
   "execution_count": null,
   "id": "c4c4eefc-55fb-4124-b19b-b2aa95ad8ee3",
   "metadata": {},
   "outputs": [],
   "source": [
    "df.inspection_new.value_counts(dropna=False)"
   ]
  },
  {
   "cell_type": "code",
   "execution_count": null,
   "id": "51173079-e7fd-42d2-a67c-5dbcc35cc51b",
   "metadata": {},
   "outputs": [],
   "source": [
    "df.groupby([\"make_model\", \"body_type\", \"age\", \"inspection_new\"]).price.describe()"
   ]
  },
  {
   "cell_type": "code",
   "execution_count": null,
   "id": "6dd89f22-4554-4e0a-ac94-dd79d1ad09e4",
   "metadata": {},
   "outputs": [],
   "source": [
    "df.inspection_new.replace([\"Yes\", \"No\"], [1,0], inplace=True)"
   ]
  },
  {
   "cell_type": "code",
   "execution_count": null,
   "id": "70e5a758-0a75-4bdb-b094-b2ddae3b961d",
   "metadata": {},
   "outputs": [],
   "source": [
    "df.inspection_new.value_counts(dropna=False)"
   ]
  },
  {
   "cell_type": "markdown",
   "id": "9fe41a88-9215-469a-a744-0f5acc8d48f8",
   "metadata": {},
   "source": [
    "# 14 - warranty"
   ]
  },
  {
   "cell_type": "code",
   "execution_count": null,
   "id": "09b37b1c-f884-4a9c-8845-2a0372e1cb8a",
   "metadata": {},
   "outputs": [],
   "source": [
    "df.warranty.value_counts(dropna=False)"
   ]
  },
  {
   "cell_type": "code",
   "execution_count": null,
   "id": "bc97964d-97c8-44c2-a3a9-2a3e3934fa21",
   "metadata": {},
   "outputs": [],
   "source": [
    "df.warranty.replace(np.nan, '-', inplace = True)"
   ]
  },
  {
   "cell_type": "code",
   "execution_count": null,
   "id": "31bfaa91-0434-4eee-802e-821382619767",
   "metadata": {},
   "outputs": [],
   "source": [
    "df.groupby(['make_model', 'age', 'warranty']).price.describe()"
   ]
  },
  {
   "cell_type": "code",
   "execution_count": null,
   "id": "2a3f1b8a-c96c-4cf3-8448-b8ce02e87efb",
   "metadata": {},
   "outputs": [],
   "source": [
    "df.warranty.isnull().sum()/len(df.warranty)*100"
   ]
  },
  {
   "cell_type": "code",
   "execution_count": null,
   "id": "a8fe5505-bce3-4bbb-9186-5e92557f95d4",
   "metadata": {},
   "outputs": [],
   "source": [
    "df.loc[df.make == 'Audi', 'warranty'] = df.loc[df.make == 'Audi', 'warranty'].replace('-', 24)"
   ]
  },
  {
   "cell_type": "code",
   "execution_count": null,
   "id": "e3dced14-3c80-46dc-8f42-28cadd6dc943",
   "metadata": {},
   "outputs": [],
   "source": [
    "df.Warranty.isnull().sum()/len(df.Warranty)*100"
   ]
  },
  {
   "cell_type": "code",
   "execution_count": null,
   "id": "e32edea5-71fd-4d92-a9c8-095f96769184",
   "metadata": {},
   "outputs": [],
   "source": [
    "# df.drop(\"Warranty\", axis =1 , inplace=True)"
   ]
  },
  {
   "cell_type": "markdown",
   "id": "eaeb85db-95eb-450a-8406-87df80266ce2",
   "metadata": {},
   "source": [
    "# 15 - body_color"
   ]
  },
  {
   "cell_type": "code",
   "execution_count": 70,
   "id": "00bb5396-81d6-467c-a862-98c6ce994077",
   "metadata": {},
   "outputs": [
    {
     "data": {
      "text/plain": [
       "Black     3745\n",
       "Grey      3505\n",
       "White     3406\n",
       "Silver    1647\n",
       "Blue      1431\n",
       "Red        957\n",
       "NaN        597\n",
       "Brown      289\n",
       "Green      154\n",
       "Beige      108\n",
       "Yellow      51\n",
       "Violet      18\n",
       "Bronze       6\n",
       "Orange       3\n",
       "Gold         2\n",
       "Name: body_color, dtype: int64"
      ]
     },
     "execution_count": 70,
     "metadata": {},
     "output_type": "execute_result"
    }
   ],
   "source": [
    "df.body_color.value_counts(dropna=False)"
   ]
  },
  {
   "cell_type": "code",
   "execution_count": null,
   "id": "c2e39525-42fe-4e12-8f23-ce2e6697ed30",
   "metadata": {},
   "outputs": [],
   "source": [
    "df[\"body_color\"].fillna(\"-\", inplace = True)"
   ]
  },
  {
   "cell_type": "code",
   "execution_count": null,
   "id": "15bca9c1-b9da-4cd9-9e13-4fabd9973363",
   "metadata": {},
   "outputs": [],
   "source": [
    "df.groupby([\"make_model\", \"body_type\", 'body_color']).price.describe()"
   ]
  },
  {
   "cell_type": "code",
   "execution_count": null,
   "id": "1bc8b705-8a47-4b60-a3e4-a6d697f6ea2c",
   "metadata": {},
   "outputs": [],
   "source": [
    "df[\"body_color\"].value_counts(dropna=False)"
   ]
  },
  {
   "cell_type": "code",
   "execution_count": null,
   "id": "91e0d4d4-de6a-499c-baf0-d1a6c8c76f27",
   "metadata": {},
   "outputs": [],
   "source": [
    "df['body_color'].replace('-', np.nan, inplace = True)"
   ]
  },
  {
   "cell_type": "code",
   "execution_count": null,
   "id": "926a9015-f4bd-4706-a74d-660842f7df47",
   "metadata": {},
   "outputs": [],
   "source": [
    "fill(df, \"make_model\", \"body_type\", \"body_color\", \"ffill\")"
   ]
  },
  {
   "cell_type": "code",
   "execution_count": null,
   "id": "e64c3514-b673-4699-843d-9ce490a3ea8d",
   "metadata": {},
   "outputs": [],
   "source": [
    "# df.drop(\"body_color\", axis=1, inplace=True)"
   ]
  },
  {
   "cell_type": "markdown",
   "id": "5432e74c-15b7-40fc-aa65-8143fd9e6979",
   "metadata": {},
   "source": [
    "# 16 - paint_type"
   ]
  },
  {
   "cell_type": "code",
   "execution_count": null,
   "id": "777aa7bb-8f70-4ed4-8fd4-6fe3d4815471",
   "metadata": {},
   "outputs": [],
   "source": [
    "df[\"paint_type\"].value_counts(dropna=False)"
   ]
  },
  {
   "cell_type": "code",
   "execution_count": null,
   "id": "db534dee-32b4-4c13-b3f3-1a38fe86ea3b",
   "metadata": {},
   "outputs": [],
   "source": [
    "df[\"paint_type\"].fillna(\"-\", inplace = True)"
   ]
  },
  {
   "cell_type": "code",
   "execution_count": null,
   "id": "dc1072f8-4c68-4b69-979f-e2637a39f0f1",
   "metadata": {},
   "outputs": [],
   "source": [
    "df.groupby([\"make_model\", \"body_type\", \"age\", 'paint_type']).price.describe()"
   ]
  },
  {
   "cell_type": "code",
   "execution_count": null,
   "id": "35b94e1f-99f4-478c-b137-f904e4e3945e",
   "metadata": {},
   "outputs": [],
   "source": [
    "fill(df, \"make_model\", \"body_type\", \"paint_type\", \"ffill\")"
   ]
  },
  {
   "cell_type": "markdown",
   "id": "1dd37121-b5b5-4dbb-bb7d-56809ec9f39a",
   "metadata": {},
   "source": [
    "# 17 - nr_of_doors"
   ]
  },
  {
   "cell_type": "code",
   "execution_count": null,
   "id": "98b8ffa8-7ed8-41ca-bd05-3e9c72f4c112",
   "metadata": {},
   "outputs": [],
   "source": [
    "df.nr_of_doors.value_counts(dropna=False)"
   ]
  },
  {
   "cell_type": "code",
   "execution_count": null,
   "id": "6d511418-3577-44ef-94eb-fce679afe82e",
   "metadata": {},
   "outputs": [],
   "source": [
    "fill(df, \"make_model\", \"body_type\", \"nr_of_doors\", \"mode\")"
   ]
  },
  {
   "cell_type": "markdown",
   "id": "183c851b-62f6-4dde-bb20-453eaf97d70e",
   "metadata": {},
   "source": [
    "# 18 - nr_of_seats"
   ]
  },
  {
   "cell_type": "code",
   "execution_count": null,
   "id": "85951dbc-44e7-4863-b57a-d375e859e2eb",
   "metadata": {},
   "outputs": [],
   "source": [
    "df.nr_of_seats.value_counts(dropna=False)"
   ]
  },
  {
   "cell_type": "code",
   "execution_count": null,
   "id": "482099c1-9801-439e-8f00-81b53c5f52fc",
   "metadata": {},
   "outputs": [],
   "source": [
    "fill(df, \"make_model\", \"body_type\", \"nr_of_seats\", \"mode\")"
   ]
  },
  {
   "cell_type": "code",
   "execution_count": null,
   "id": "72b658fc-1dda-4ad1-a169-16a18692ea65",
   "metadata": {},
   "outputs": [],
   "source": [
    "df.nr_of_seats.value_counts(dropna=False)"
   ]
  },
  {
   "cell_type": "code",
   "execution_count": null,
   "id": "ab8a4a89-1bd4-45f9-b1a9-e06042d27e82",
   "metadata": {},
   "outputs": [],
   "source": []
  },
  {
   "cell_type": "markdown",
   "id": "08d9ee41-df89-4b9e-8e64-9a1b526aa06f",
   "metadata": {},
   "source": [
    "# 19 - make_model "
   ]
  },
  {
   "cell_type": "code",
   "execution_count": 72,
   "id": "4c253606-23a0-4344-b7d1-c359a6f6c02d",
   "metadata": {},
   "outputs": [
    {
     "data": {
      "text/plain": [
       "<bound method IndexOpsMixin.value_counts of 0               Audi A1\n",
       "1               Audi A1\n",
       "2               Audi A1\n",
       "3               Audi A1\n",
       "4               Audi A1\n",
       "              ...      \n",
       "15914    Renault Espace\n",
       "15915    Renault Espace\n",
       "15916    Renault Espace\n",
       "15917    Renault Espace\n",
       "15918    Renault Espace\n",
       "Name: make_model, Length: 15919, dtype: object>"
      ]
     },
     "execution_count": 72,
     "metadata": {},
     "output_type": "execute_result"
    }
   ],
   "source": [
    "df.make_model.value_counts"
   ]
  },
  {
   "cell_type": "markdown",
   "id": "e63ac095-206a-4351-b71c-6e4cd9f9fefe",
   "metadata": {},
   "source": [
    "# 20 - price "
   ]
  },
  {
   "cell_type": "code",
   "execution_count": 75,
   "id": "4ca59b8b-5bb1-40d5-951d-df2b1c15d7c8",
   "metadata": {},
   "outputs": [
    {
     "data": {
      "text/plain": [
       "14990    154\n",
       "15990    151\n",
       "10990    139\n",
       "15900    106\n",
       "17990    102\n",
       "        ... \n",
       "17559      1\n",
       "17560      1\n",
       "17570      1\n",
       "17575      1\n",
       "39875      1\n",
       "Name: price, Length: 2956, dtype: int64"
      ]
     },
     "execution_count": 75,
     "metadata": {},
     "output_type": "execute_result"
    }
   ],
   "source": [
    "df.price.value_counts()"
   ]
  },
  {
   "cell_type": "code",
   "execution_count": null,
   "id": "c6785616-5a01-498a-ae35-f24254a95521",
   "metadata": {},
   "outputs": [],
   "source": [
    "df.groupby(\"make_model\")[[\"price\"]].mean()"
   ]
  },
  {
   "cell_type": "code",
   "execution_count": null,
   "id": "591bc901-550a-4826-8e24-524468a61b7f",
   "metadata": {},
   "outputs": [],
   "source": [
    "df.groupby(\"make_model\").body_type.value_counts()"
   ]
  },
  {
   "cell_type": "markdown",
   "id": "e7105793-8a3e-41d7-91da-60beee86fb30",
   "metadata": {},
   "source": [
    "# 21 - displacement"
   ]
  },
  {
   "cell_type": "code",
   "execution_count": null,
   "id": "62d1c166-6afd-46d5-bdd4-4aca47cecc81",
   "metadata": {},
   "outputs": [],
   "source": [
    "df.displacement.value_counts(dropna=False)"
   ]
  },
  {
   "cell_type": "code",
   "execution_count": null,
   "id": "cb6b1f27-63a6-4bdf-9f78-2a7ce28f014d",
   "metadata": {},
   "outputs": [],
   "source": [
    "df.displacement.sample(10)"
   ]
  },
  {
   "cell_type": "code",
   "execution_count": null,
   "id": "524a6859-4d3f-4e8e-9cc8-4330dad1e4f9",
   "metadata": {},
   "outputs": [],
   "source": [
    "df.displacement.isnull().sum()"
   ]
  },
  {
   "cell_type": "code",
   "execution_count": null,
   "id": "d3362026-56f2-4de7-87d3-36e5feb53e4c",
   "metadata": {},
   "outputs": [],
   "source": [
    "df.displacement.mean()"
   ]
  },
  {
   "cell_type": "code",
   "execution_count": null,
   "id": "ac8d58c6-b55f-4660-b913-6deae3554c9a",
   "metadata": {},
   "outputs": [],
   "source": [
    "df.groupby([\"make_model\",\"body_type\",\"displacement\"]).price.describe()"
   ]
  },
  {
   "cell_type": "code",
   "execution_count": null,
   "id": "91f3a23c-7cd5-477a-bfa2-07b7db6eb062",
   "metadata": {},
   "outputs": [],
   "source": [
    "fill(df,\"make_model\",\"body_type\",\"displacement\",\"mode\")"
   ]
  },
  {
   "cell_type": "markdown",
   "id": "24deb849-0c63-4b8b-8c66-7dac5b021208",
   "metadata": {},
   "source": [
    "# 22 - cylinders"
   ]
  },
  {
   "cell_type": "code",
   "execution_count": null,
   "id": "0542ebc4-4091-459d-8826-a6a29064c3a3",
   "metadata": {},
   "outputs": [],
   "source": [
    "df.Cylinders.value_counts(dropna=False)"
   ]
  },
  {
   "cell_type": "code",
   "execution_count": null,
   "id": "46fdf466-8a2a-46b7-bd6c-e3d860f6d1b8",
   "metadata": {},
   "outputs": [],
   "source": [
    "fill(df, \"Make_Model\", \"Body_Type\", \"Cylinders\", \"mode\")  "
   ]
  },
  {
   "cell_type": "code",
   "execution_count": null,
   "id": "ad2d200b-7b2a-46eb-bd77-88e1bd4acb5e",
   "metadata": {},
   "outputs": [],
   "source": [
    "# df.drop(\"Cylinders\", axis = 1, inplace = True)"
   ]
  },
  {
   "cell_type": "code",
   "execution_count": null,
   "id": "2820dd25-7336-4973-aece-d2550628e721",
   "metadata": {},
   "outputs": [],
   "source": []
  },
  {
   "cell_type": "markdown",
   "id": "cf467546-fdf0-4216-8e8d-cf4a9375d715",
   "metadata": {},
   "source": [
    "# 23 - weight"
   ]
  },
  {
   "cell_type": "code",
   "execution_count": null,
   "id": "8ae4856c-61b7-4dda-8271-a14cc76ba845",
   "metadata": {},
   "outputs": [],
   "source": [
    "df.Weight.value_counts(dropna=False)"
   ]
  },
  {
   "cell_type": "code",
   "execution_count": null,
   "id": "2b905bcb-857d-476c-89a9-a343d51d76e7",
   "metadata": {},
   "outputs": [],
   "source": [
    "df.groupby([\"Make_Model\", \"Body_Type\",\"Weight\"]).Price.describe()"
   ]
  },
  {
   "cell_type": "code",
   "execution_count": null,
   "id": "9681d1cb-544e-407b-9183-f2fc678673cd",
   "metadata": {},
   "outputs": [],
   "source": [
    "fill(df, \"Make_Model\", \"Body_Type\", \"Weight\", \"mode\")"
   ]
  },
  {
   "cell_type": "code",
   "execution_count": null,
   "id": "e6161a9d-4489-4498-85ab-4524c850a7db",
   "metadata": {},
   "outputs": [],
   "source": []
  },
  {
   "cell_type": "code",
   "execution_count": null,
   "id": "d780a5d7-c0aa-4757-b708-f00f6f19ccc2",
   "metadata": {},
   "outputs": [],
   "source": []
  },
  {
   "cell_type": "markdown",
   "id": "81433f57-53db-4e2b-a021-b384520f1769",
   "metadata": {},
   "source": [
    "# 24 - drive_chain"
   ]
  },
  {
   "cell_type": "code",
   "execution_count": null,
   "id": "1529135b-9371-4c46-80ac-d1bd2c799ede",
   "metadata": {},
   "outputs": [],
   "source": [
    "df.Drive_Chain.value_counts(dropna=False)"
   ]
  },
  {
   "cell_type": "code",
   "execution_count": null,
   "id": "73c8489b-ab69-4d50-b40b-503d80879db6",
   "metadata": {},
   "outputs": [],
   "source": [
    "df.groupby([\"Make_Model\", \"Body_Type\", \"Drive_Chain\"]).Price.describe()"
   ]
  },
  {
   "cell_type": "code",
   "execution_count": null,
   "id": "734e6af6-ccec-4b89-a67b-5c1581a75778",
   "metadata": {},
   "outputs": [],
   "source": [
    "fill(df, \"Make_Model\", \"Body_Type\", \"Drive_Chain\", \"mode\")"
   ]
  },
  {
   "cell_type": "code",
   "execution_count": null,
   "id": "01a8462f-c9e8-4c7c-a41e-3c012db3bbea",
   "metadata": {},
   "outputs": [],
   "source": [
    "df.Drive_Chain.value_counts(dropna=False)"
   ]
  },
  {
   "cell_type": "markdown",
   "id": "1dab67da-5402-467a-adf4-1c1b30fde8f7",
   "metadata": {},
   "source": [
    "# 25 - fuel"
   ]
  },
  {
   "cell_type": "code",
   "execution_count": 78,
   "id": "c9d48ca1-d283-49be-83b0-6a4abf2e0153",
   "metadata": {},
   "outputs": [
    {
     "data": {
      "text/plain": [
       "Benzine                              8198\n",
       "Diesel (Particulate Filter)          4315\n",
       "Diesel                               2984\n",
       "Super 95 (Particulate Filter)         268\n",
       "Gasoline (Particulate Filter)          77\n",
       "LPG/CNG                                51\n",
       "Liquid petroleum gas (LPG)             10\n",
       "Super E10 95 (Particulate Filter)       7\n",
       "Electric                                5\n",
       "CNG (Particulate Filter)                3\n",
       "Others (Particulate Filter)             1\n",
       "Name: fuel, dtype: int64"
      ]
     },
     "execution_count": 78,
     "metadata": {},
     "output_type": "execute_result"
    }
   ],
   "source": [
    "df.fuel.value_counts()"
   ]
  },
  {
   "cell_type": "code",
   "execution_count": null,
   "id": "673b26b9-23c8-4c37-a519-a8b5f631b7d5",
   "metadata": {},
   "outputs": [],
   "source": []
  },
  {
   "cell_type": "code",
   "execution_count": null,
   "id": "dcd9f9d7-edeb-4e05-b60d-d17fa9704123",
   "metadata": {},
   "outputs": [],
   "source": []
  },
  {
   "cell_type": "markdown",
   "id": "df5619bd-2dea-4f60-aa89-af60a808bba1",
   "metadata": {},
   "source": [
    "# 26 - co2_emission"
   ]
  },
  {
   "cell_type": "code",
   "execution_count": null,
   "id": "fef7b98b-0060-4cb3-91d9-101c2e8d8fa6",
   "metadata": {},
   "outputs": [],
   "source": [
    "df.Co2_Emission.value_counts(dropna=False)"
   ]
  },
  {
   "cell_type": "code",
   "execution_count": null,
   "id": "983680a7-0229-42c8-9598-eb67c1cc9576",
   "metadata": {},
   "outputs": [],
   "source": [
    "df.groupby([\"Make_Model\",\"Body_Type\", \"Co2_Emission\"]).Price.describe()"
   ]
  },
  {
   "cell_type": "code",
   "execution_count": null,
   "id": "dc97673c-fd78-4b73-8c28-56da1db46175",
   "metadata": {},
   "outputs": [],
   "source": [
    "fill(df,\"Make_Model\",\"Body_Type\",\"Co2_Emission\", \"median\")"
   ]
  },
  {
   "cell_type": "code",
   "execution_count": null,
   "id": "7a600071-1474-4401-a45f-59c12c6a504b",
   "metadata": {},
   "outputs": [],
   "source": [
    "# df.drop(\"Co2_Emission\", axis=1, inplace=True)"
   ]
  },
  {
   "cell_type": "markdown",
   "id": "9d86d007-5110-4be1-88dd-ead469ec4cbf",
   "metadata": {},
   "source": [
    "# 27 - comfort_convenience"
   ]
  },
  {
   "cell_type": "code",
   "execution_count": null,
   "id": "acf8ae31-2b71-4385-a7f8-5ef2b1b9adce",
   "metadata": {},
   "outputs": [],
   "source": [
    "df.comfort_convenience.value_counts(dropna=False)"
   ]
  },
  {
   "cell_type": "code",
   "execution_count": null,
   "id": "3d667c12-6371-4281-97cd-f6372be27bf2",
   "metadata": {},
   "outputs": [],
   "source": [
    "fill(df,\"Make_Model\", \"Body_Type\", \"Comfort_Convenience\", \"mode\")"
   ]
  },
  {
   "cell_type": "code",
   "execution_count": null,
   "id": "a20e0aeb-c6dd-4ef5-a815-b85976317707",
   "metadata": {},
   "outputs": [],
   "source": []
  },
  {
   "cell_type": "markdown",
   "id": "c093f900-2faf-4099-9366-2564e5b95d35",
   "metadata": {},
   "source": [
    "# 28 - entertainment_media"
   ]
  },
  {
   "cell_type": "code",
   "execution_count": null,
   "id": "2334e911-20d5-4fe7-9ea2-9e61f0b5b934",
   "metadata": {},
   "outputs": [],
   "source": [
    "df.Entertainment_Media.value_counts(dropna=False).head(20)"
   ]
  },
  {
   "cell_type": "code",
   "execution_count": null,
   "id": "e5483c06-3131-45ea-b7d9-52f5560b08a7",
   "metadata": {},
   "outputs": [],
   "source": [
    "fill(df, \"Make_Model\", \"Body_Type\",\"Entertainment_Media\", \"mode\")"
   ]
  },
  {
   "cell_type": "code",
   "execution_count": null,
   "id": "ebdde77a-a979-4477-8847-d52238b79eb8",
   "metadata": {},
   "outputs": [],
   "source": []
  },
  {
   "cell_type": "code",
   "execution_count": null,
   "id": "1f7f1b86-d9e4-4618-9472-87ee2c2fc527",
   "metadata": {},
   "outputs": [],
   "source": []
  },
  {
   "cell_type": "markdown",
   "id": "ecde8664-0005-44b3-a209-09c8476a5cef",
   "metadata": {},
   "source": [
    "# 29 - extras"
   ]
  },
  {
   "cell_type": "code",
   "execution_count": null,
   "id": "38b27a36-f14e-4154-983d-85e65d3f5b6b",
   "metadata": {},
   "outputs": [],
   "source": [
    "df.Extras.value_counts(dropna=False)"
   ]
  },
  {
   "cell_type": "code",
   "execution_count": null,
   "id": "68dc4b6b-0f6a-4e30-83d2-cc30e68397bd",
   "metadata": {},
   "outputs": [],
   "source": [
    "fill(df,\"Make_Model\",\"Body_Type\",\"Extras\", \"mode\")"
   ]
  },
  {
   "cell_type": "markdown",
   "id": "1396c494-cf90-4fd1-898b-4e21723a9319",
   "metadata": {},
   "source": [
    "# 30 - safety_security"
   ]
  },
  {
   "cell_type": "code",
   "execution_count": null,
   "id": "07ac55f1-2d16-43b2-9b0e-93ed8c2b106e",
   "metadata": {},
   "outputs": [],
   "source": [
    "df.Safety_Security.value_counts(dropna=False)"
   ]
  },
  {
   "cell_type": "code",
   "execution_count": null,
   "id": "26dc0318-8c16-42bb-8512-a8d69fa2f541",
   "metadata": {},
   "outputs": [],
   "source": [
    "fill(df, \"Make_Model\", \"Body_Type\", \"Safety_Security\",\"mode\")"
   ]
  },
  {
   "cell_type": "code",
   "execution_count": null,
   "id": "40d06234-b0fd-4de2-a23d-97fc4c431c98",
   "metadata": {},
   "outputs": [],
   "source": []
  },
  {
   "cell_type": "markdown",
   "id": "314dc5a9-c533-460b-9aee-28310c6a7dde",
   "metadata": {},
   "source": [
    "# 31 - gears"
   ]
  },
  {
   "cell_type": "code",
   "execution_count": null,
   "id": "8bf4eeb5-cb20-4e0d-99bd-543fa95bfeac",
   "metadata": {},
   "outputs": [],
   "source": [
    "df.Gears.value_counts(dropna=False)"
   ]
  },
  {
   "cell_type": "code",
   "execution_count": null,
   "id": "e043e533-80e0-49e8-851d-9aea0209b30c",
   "metadata": {},
   "outputs": [],
   "source": [
    "df.groupby([\"Make_Model\", \"Body_Type\", \"Gearing_Type\", \"Gears\"]).Price.describe()"
   ]
  },
  {
   "cell_type": "code",
   "execution_count": null,
   "id": "a148e4f6-492f-41df-84f2-d58143e9ed20",
   "metadata": {},
   "outputs": [],
   "source": [
    "df[\"Gears\"].replace([1,2,3,4,9,50,\"-\"], np.nan, inplace=True)  # most rare value_counts"
   ]
  },
  {
   "cell_type": "code",
   "execution_count": null,
   "id": "683754f6-f011-4378-9595-84c8b75517a4",
   "metadata": {},
   "outputs": [],
   "source": [
    "# Our created fil function is only taking 2 grouping parameter, but we have 3 here\n",
    "\n",
    "# df.groupby([\"make_model\", \"body_type\", \"gearing_type\", \"gears\"]).price.describe()\n"
   ]
  },
  {
   "cell_type": "code",
   "execution_count": null,
   "id": "4b15dabd-6af5-4014-98fb-5552fc073b3d",
   "metadata": {},
   "outputs": [],
   "source": [
    "df[(df[\"Make_Model\"]==\"Renault Clio\") & (df[\"Body_Type\"]==\"Sedans\") & (df[\"Gearing_Type\"]==\"Automatic\")][\"Gears\"].mode()"
   ]
  },
  {
   "cell_type": "code",
   "execution_count": null,
   "id": "2c728083-e3f8-46b0-83c4-5a1e11c0c54c",
   "metadata": {},
   "outputs": [],
   "source": [
    "df[(df[\"Make_Model\"]==\"Renault Clio\") & (df[\"Body_Type\"]==\"Sedans\") & (df[\"Gearing_Type\"]==\"Automatic\")][\"Gears\"].mode()"
   ]
  },
  {
   "cell_type": "code",
   "execution_count": null,
   "id": "ff94955e-7d75-4667-bcf3-7c5a0d8aa1f9",
   "metadata": {},
   "outputs": [],
   "source": [
    "for group1 in list(df[\"Make_Model\"].unique()):\n",
    "    for group2 in list(df[\"Body_Type\"].unique()):\n",
    "        for group3 in list(df[\"Gearing_Type\"].unique()):\n",
    "            cond1 = df[\"Make_Model\"]==group1\n",
    "            cond2 = (df[\"Make_Model\"]==group1) & (df[\"Body_Type\"]==group2)\n",
    "            cond3 = (df[\"Make_Model\"]==group1) & (df[\"Body_Type\"]==group2) & (df[\"Gearing_Type\"]==group3)\n",
    "            mode1 = list(df[cond1][\"Gears\"].mode())\n",
    "            mode2 = list(df[cond2][\"Gears\"].mode())\n",
    "            mode3 = list(df[cond3][\"Gears\"].mode())\n",
    "            if mode3 != []:\n",
    "                df.loc[cond3, \"Gears\"] = df.loc[cond3, \"Gears\"].fillna(df[cond3][\"Gears\"].mode()[0])\n",
    "            elif mode2 != []:\n",
    "                df.loc[cond3, \"Gears\"] = df.loc[cond3, \"Gears\"].fillna(df[cond2][\"Gears\"].mode()[0])\n",
    "            elif mode1 != []:\n",
    "                df.loc[cond3, \"Gears\"] = df.loc[cond3, \"Gears\"].fillna(df[cond1][\"Gears\"].mode()[0])\n",
    "            else:\n",
    "                df.loc[cond3, \"Gears\"] = df.loc[cond3, \"Gears\"].fillna(df[\"Gears\"].mode()[0])"
   ]
  },
  {
   "cell_type": "code",
   "execution_count": null,
   "id": "25456f47-db64-4887-a5af-c1e0aa8d8ea1",
   "metadata": {},
   "outputs": [],
   "source": [
    "df[\"Gears\"].value_counts(dropna=False)"
   ]
  },
  {
   "cell_type": "markdown",
   "id": "89ff1147-3a4f-45c4-9b75-db52bbb38e06",
   "metadata": {},
   "source": [
    "# 32 - country_version"
   ]
  },
  {
   "cell_type": "code",
   "execution_count": null,
   "id": "a36cb267-b42e-4f2f-bbad-1f0b61528cb2",
   "metadata": {},
   "outputs": [],
   "source": []
  },
  {
   "cell_type": "markdown",
   "id": "b17990b9-1744-4088-b4eb-e1d84b2343c8",
   "metadata": {},
   "source": [
    "# 33 - emission_class"
   ]
  },
  {
   "cell_type": "code",
   "execution_count": null,
   "id": "a5c5e253-3c8c-4451-a5c4-bb226899ad64",
   "metadata": {},
   "outputs": [],
   "source": [
    "df.Emission_Class.value_counts(dropna=False)"
   ]
  },
  {
   "cell_type": "code",
   "execution_count": null,
   "id": "4a12843c-66d7-46c0-a3ba-a5d424307083",
   "metadata": {},
   "outputs": [],
   "source": [
    "df.groupby([\"Make_Model\",\"Age\",\"Emission_Class\"]).Price.describe()"
   ]
  },
  {
   "cell_type": "code",
   "execution_count": null,
   "id": "347b70a8-f0f5-4685-bf1e-aac9fe5fe798",
   "metadata": {},
   "outputs": [],
   "source": [
    "fill(df, \"Age\", \"Fuel\", \"Emission_Class\", \"ffill\")"
   ]
  },
  {
   "cell_type": "code",
   "execution_count": null,
   "id": "24c17d22-8456-4403-99f1-290f8083fa7c",
   "metadata": {},
   "outputs": [],
   "source": [
    "df.drop(\"Emission_Class\", axis=1, inplace=True)"
   ]
  },
  {
   "cell_type": "markdown",
   "id": "33cde489-1edc-4f34-9492-c970c3eec791",
   "metadata": {},
   "source": [
    "# 34 - make"
   ]
  },
  {
   "cell_type": "code",
   "execution_count": 76,
   "id": "57af56d7-bebf-4680-a222-967b719729d1",
   "metadata": {},
   "outputs": [
    {
     "data": {
      "text/plain": [
       "A3          3097\n",
       "A1          2614\n",
       "Insignia    2598\n",
       "Astra       2526\n",
       "Corsa       2219\n",
       "Clio        1839\n",
       "Espace       991\n",
       "Duster        34\n",
       "A2             1\n",
       "Name: model, dtype: int64"
      ]
     },
     "execution_count": 76,
     "metadata": {},
     "output_type": "execute_result"
    }
   ],
   "source": [
    "df.model.value_counts()"
   ]
  },
  {
   "cell_type": "code",
   "execution_count": null,
   "id": "2d656540-aa3f-4f77-a7a6-ad189b5bc3fc",
   "metadata": {},
   "outputs": [],
   "source": [
    "# df.drop(\"model\", axis = 1, inplace = True) "
   ]
  },
  {
   "cell_type": "markdown",
   "id": "732e6b47-2e64-4155-98c8-57266b7b8032",
   "metadata": {},
   "source": [
    "# 35 - model"
   ]
  },
  {
   "cell_type": "code",
   "execution_count": 77,
   "id": "d06b0c02-5b1b-415f-897e-f74e927fe0e8",
   "metadata": {},
   "outputs": [
    {
     "data": {
      "text/plain": [
       "A3          3097\n",
       "A1          2614\n",
       "Insignia    2598\n",
       "Astra       2526\n",
       "Corsa       2219\n",
       "Clio        1839\n",
       "Espace       991\n",
       "Duster        34\n",
       "A2             1\n",
       "Name: model, dtype: int64"
      ]
     },
     "execution_count": 77,
     "metadata": {},
     "output_type": "execute_result"
    }
   ],
   "source": [
    "df.model.value_counts()"
   ]
  },
  {
   "cell_type": "code",
   "execution_count": null,
   "id": "280a5ecf-63d0-470a-ba33-8c66eba4180b",
   "metadata": {},
   "outputs": [],
   "source": [
    "# df.drop(\"model\", axis = 1, inplace = True) "
   ]
  },
  {
   "cell_type": "markdown",
   "id": "3c0efa2e-1554-45e6-ad28-598ca12c3523",
   "metadata": {},
   "source": [
    "# 36 - gearing_type"
   ]
  },
  {
   "cell_type": "code",
   "execution_count": 79,
   "id": "2ee0125b-5cba-43a2-9044-1d6396ca67fe",
   "metadata": {},
   "outputs": [
    {
     "data": {
      "text/plain": [
       "Manual            8153\n",
       "Automatic         7297\n",
       "Semi-automatic     469\n",
       "Name: gearing_type, dtype: int64"
      ]
     },
     "execution_count": 79,
     "metadata": {},
     "output_type": "execute_result"
    }
   ],
   "source": [
    "df.gearing_type.value_counts()"
   ]
  },
  {
   "cell_type": "code",
   "execution_count": null,
   "id": "88d75dae-4179-40f8-b289-12f659176849",
   "metadata": {},
   "outputs": [],
   "source": []
  },
  {
   "cell_type": "code",
   "execution_count": null,
   "id": "7c8c6f03-3cc1-4a8b-9814-3fed1bc23e5d",
   "metadata": {},
   "outputs": [],
   "source": [
    "df.shape"
   ]
  },
  {
   "cell_type": "code",
   "execution_count": null,
   "id": "7c8d2992-d1ca-4b6f-b44b-a17903b3a843",
   "metadata": {},
   "outputs": [],
   "source": [
    "df.isnull().sum()/df.shape[0]*100"
   ]
  },
  {
   "cell_type": "code",
   "execution_count": null,
   "id": "0b327c87-0fef-4c68-b13c-b5a3841f90f5",
   "metadata": {},
   "outputs": [],
   "source": [
    "# df.to_csv(\"filled_scout.csv\", index=False)"
   ]
  },
  {
   "cell_type": "code",
   "execution_count": null,
   "id": "f81963c9-53c8-40b1-8c34-f1d8d5abc5ae",
   "metadata": {},
   "outputs": [],
   "source": []
  }
 ],
 "metadata": {
  "kernelspec": {
   "display_name": "Python 3 (ipykernel)",
   "language": "python",
   "name": "python3"
  },
  "language_info": {
   "codemirror_mode": {
    "name": "ipython",
    "version": 3
   },
   "file_extension": ".py",
   "mimetype": "text/x-python",
   "name": "python",
   "nbconvert_exporter": "python",
   "pygments_lexer": "ipython3",
   "version": "3.8.3"
  }
 },
 "nbformat": 4,
 "nbformat_minor": 5
}
