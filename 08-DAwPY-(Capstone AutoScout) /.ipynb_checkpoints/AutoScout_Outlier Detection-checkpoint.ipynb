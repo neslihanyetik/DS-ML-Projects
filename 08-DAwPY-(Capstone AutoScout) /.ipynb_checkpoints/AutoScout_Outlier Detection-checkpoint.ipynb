{
 "cells": [
  {
   "cell_type": "markdown",
   "metadata": {},
   "source": [
    "# PART- 3 `( Detection of Outliers)`\n",
    "## Import libraries"
   ]
  },
  {
   "cell_type": "code",
   "execution_count": 1,
   "metadata": {},
   "outputs": [],
   "source": [
    "import pandas as pd\n",
    "import numpy as np\n",
    "import seaborn as sns\n",
    "import matplotlib.pyplot as plt"
   ]
  },
  {
   "cell_type": "code",
   "execution_count": 2,
   "metadata": {},
   "outputs": [],
   "source": [
    "df_car = pd.read_json(\"df_car_filled.json\")"
   ]
  },
  {
   "cell_type": "code",
   "execution_count": 3,
   "metadata": {},
   "outputs": [],
   "source": [
    "def groupby_mode2(group_col1, group_col2, fill_col):\n",
    "    for group1 in list(df_car[group_col1].unique()):\n",
    "        cond1 = (df_car[group_col1]==group1)\n",
    "        \n",
    "        for group2 in list(df_car[group_col2].unique()):\n",
    "            cond2 = (df_car[group_col2]==group2)\n",
    "            cond = (cond1 & cond2)\n",
    "            \n",
    "            mode2 = list(df_car[cond][fill_col].mode())\n",
    "            \n",
    "            if mode2 != []:\n",
    "                df_car.loc[cond,fill_col] = df_car.loc[cond,fill_col].fillna(mode2[0])\n",
    "            elif list(df_car[cond1][fill_col].mode()) != []:\n",
    "                df_car.loc[cond,fill_col] = df_car.loc[cond,fill_col].fillna(df_car[cond1][fill_col].mode()[0])\n",
    "            else:\n",
    "                df_car.loc[cond,fill_col] = df_car.loc[cond,fill_col].fillna(df_car[fill_col].mode()[0])\n",
    "\n",
    "\n",
    "def fill_most(df, group_col, col_name):\n",
    "    '''Fills the missing values with the most existing value (mode) in the relevant column according to single-stage grouping'''\n",
    "    for group in list(df[group_col].unique()):\n",
    "        cond = df[group_col]==group\n",
    "        mode = list(df[cond][col_name].mode())\n",
    "        if mode != []:\n",
    "            df.loc[cond, col_name] = df.loc[cond, col_name].fillna(df[cond][col_name].mode()[0])\n",
    "        else:\n",
    "            df.loc[cond, col_name] = df.loc[cond, col_name].fillna(df[col_name].mode()[0])\n",
    "    print(\"Number of NaN : \",df[col_name].isnull().sum())\n",
    "    print(\"------------------\")\n",
    "    print(df[col_name].value_counts(dropna=False))"
   ]
  },
  {
   "cell_type": "code",
   "execution_count": 4,
   "metadata": {},
   "outputs": [],
   "source": [
    "def fill(df, group_col1, group_col2, col_name, method): # method can be \"mode\" or \"median\" or \"ffill\"\n",
    "    if method == \"mode\":\n",
    "        for group1 in list(df[group_col1].unique()):\n",
    "            for group2 in list(df[group_col2].unique()):\n",
    "                cond1 = df[group_col1]==group1\n",
    "                cond2 = (df[group_col1]==group1) & (df[group_col2]==group2)\n",
    "                mode1 = list(df[cond1][col_name].mode())\n",
    "                mode2 = list(df[cond2][col_name].mode())\n",
    "                if mode2 != []:\n",
    "                    df.loc[cond2, col_name] = df.loc[cond2, col_name].fillna(df[cond2][col_name].mode()[0])\n",
    "                elif mode1 != []:\n",
    "                    df.loc[cond2, col_name] = df.loc[cond2, col_name].fillna(df[cond1][col_name].mode()[0])\n",
    "                else:\n",
    "                    df.loc[cond2, col_name] = df.loc[cond2, col_name].fillna(df[col_name].mode()[0])\n",
    "                \n",
    "    elif method == \"median\":\n",
    "        for group1 in list(df[group_col1].unique()):\n",
    "            for group2 in list(df[group_col2].unique()):\n",
    "                cond1 = df[group_col1]==group1\n",
    "                cond2 = (df[group_col1]==group1) & (df[group_col2]==group2)\n",
    "                df.loc[cond2, col_name] = df.loc[cond2, col_name].fillna(df[cond2][col_name].median()).fillna(df[cond1][col_name].median()).fillna(df[col_name].median())\n",
    "                \n",
    "    elif method == \"ffill\":           \n",
    "        for group1 in list(df[group_col1].unique()):\n",
    "            for group2 in list(df[group_col2].unique()):\n",
    "                cond2 = (df[group_col1]==group1) & (df[group_col2]==group2)\n",
    "                df.loc[cond2, col_name] = df.loc[cond2, col_name].fillna(method=\"ffill\").fillna(method=\"bfill\")\n",
    "                \n",
    "        for group1 in list(df[group_col1].unique()):\n",
    "            cond1 = df[group_col1]==group1\n",
    "            df.loc[cond1, col_name] = df.loc[cond1, col_name].fillna(method=\"ffill\").fillna(method=\"bfill\")            \n",
    "           \n",
    "        df[col_name] = df[col_name].fillna(method=\"ffill\").fillna(method=\"bfill\")\n",
    "    \n",
    "    print(\"Number of NaN : \",df[col_name].isnull().sum())\n",
    "    print(\"------------------\")\n",
    "    print(df[col_name].value_counts(dropna=False))"
   ]
  },
  {
   "cell_type": "code",
   "execution_count": 5,
   "metadata": {},
   "outputs": [
    {
     "data": {
      "text/html": [
       "<div>\n",
       "<style scoped>\n",
       "    .dataframe tbody tr th:only-of-type {\n",
       "        vertical-align: middle;\n",
       "    }\n",
       "\n",
       "    .dataframe tbody tr th {\n",
       "        vertical-align: top;\n",
       "    }\n",
       "\n",
       "    .dataframe thead th {\n",
       "        text-align: right;\n",
       "    }\n",
       "</style>\n",
       "<table border=\"1\" class=\"dataframe\">\n",
       "  <thead>\n",
       "    <tr style=\"text-align: right;\">\n",
       "      <th></th>\n",
       "      <th>0</th>\n",
       "      <th>1</th>\n",
       "      <th>2</th>\n",
       "      <th>3</th>\n",
       "      <th>4</th>\n",
       "    </tr>\n",
       "  </thead>\n",
       "  <tbody>\n",
       "    <tr>\n",
       "      <th>make_model</th>\n",
       "      <td>Audi A1</td>\n",
       "      <td>Audi A1</td>\n",
       "      <td>Audi A1</td>\n",
       "      <td>Audi A1</td>\n",
       "      <td>Audi A1</td>\n",
       "    </tr>\n",
       "    <tr>\n",
       "      <th>body_type</th>\n",
       "      <td>Sedans</td>\n",
       "      <td>Sedans</td>\n",
       "      <td>Sedans</td>\n",
       "      <td>Sedans</td>\n",
       "      <td>Sedans</td>\n",
       "    </tr>\n",
       "    <tr>\n",
       "      <th>price</th>\n",
       "      <td>15770</td>\n",
       "      <td>14500</td>\n",
       "      <td>14640</td>\n",
       "      <td>14500</td>\n",
       "      <td>16790</td>\n",
       "    </tr>\n",
       "    <tr>\n",
       "      <th>km</th>\n",
       "      <td>56013.0</td>\n",
       "      <td>80000.0</td>\n",
       "      <td>83450.0</td>\n",
       "      <td>73000.0</td>\n",
       "      <td>16200.0</td>\n",
       "    </tr>\n",
       "    <tr>\n",
       "      <th>car_age</th>\n",
       "      <td>3</td>\n",
       "      <td>2</td>\n",
       "      <td>3</td>\n",
       "      <td>3</td>\n",
       "      <td>3</td>\n",
       "    </tr>\n",
       "    <tr>\n",
       "      <th>prev_owner</th>\n",
       "      <td>2</td>\n",
       "      <td>1</td>\n",
       "      <td>1</td>\n",
       "      <td>1</td>\n",
       "      <td>1</td>\n",
       "    </tr>\n",
       "    <tr>\n",
       "      <th>horse_power</th>\n",
       "      <td>66</td>\n",
       "      <td>141</td>\n",
       "      <td>85</td>\n",
       "      <td>66</td>\n",
       "      <td>66</td>\n",
       "    </tr>\n",
       "    <tr>\n",
       "      <th>color</th>\n",
       "      <td>Black</td>\n",
       "      <td>Red</td>\n",
       "      <td>Black</td>\n",
       "      <td>Brown</td>\n",
       "      <td>Black</td>\n",
       "    </tr>\n",
       "    <tr>\n",
       "      <th>paint_type</th>\n",
       "      <td>Metallic</td>\n",
       "      <td>Metallic</td>\n",
       "      <td>Metallic</td>\n",
       "      <td>Metallic</td>\n",
       "      <td>Metallic</td>\n",
       "    </tr>\n",
       "    <tr>\n",
       "      <th>gears</th>\n",
       "      <td>7</td>\n",
       "      <td>7</td>\n",
       "      <td>7</td>\n",
       "      <td>6</td>\n",
       "      <td>7</td>\n",
       "    </tr>\n",
       "    <tr>\n",
       "      <th>safety_security</th>\n",
       "      <td>abs,central door lock,daytime running lights,d...</td>\n",
       "      <td>abs,central door lock,central door lock with r...</td>\n",
       "      <td>abs,central door lock,daytime running lights,d...</td>\n",
       "      <td>abs,alarm system,central door lock with remote...</td>\n",
       "      <td>abs,central door lock,driver-side airbag,elect...</td>\n",
       "    </tr>\n",
       "    <tr>\n",
       "      <th>type</th>\n",
       "      <td>Used</td>\n",
       "      <td>Used</td>\n",
       "      <td>Used</td>\n",
       "      <td>Used</td>\n",
       "      <td>Used</td>\n",
       "    </tr>\n",
       "    <tr>\n",
       "      <th>upholstery</th>\n",
       "      <td>loth</td>\n",
       "      <td>loth</td>\n",
       "      <td>loth</td>\n",
       "      <td>loth</td>\n",
       "      <td>loth</td>\n",
       "    </tr>\n",
       "    <tr>\n",
       "      <th>nr_of_doors</th>\n",
       "      <td>5</td>\n",
       "      <td>3</td>\n",
       "      <td>4</td>\n",
       "      <td>3</td>\n",
       "      <td>5</td>\n",
       "    </tr>\n",
       "    <tr>\n",
       "      <th>nr_of_seats</th>\n",
       "      <td>5</td>\n",
       "      <td>4</td>\n",
       "      <td>4</td>\n",
       "      <td>4</td>\n",
       "      <td>5</td>\n",
       "    </tr>\n",
       "    <tr>\n",
       "      <th>gearing_type</th>\n",
       "      <td>Automatic</td>\n",
       "      <td>Automatic</td>\n",
       "      <td>Automatic</td>\n",
       "      <td>Automatic</td>\n",
       "      <td>Automatic</td>\n",
       "    </tr>\n",
       "    <tr>\n",
       "      <th>displacement</th>\n",
       "      <td>1400</td>\n",
       "      <td>1800</td>\n",
       "      <td>1600</td>\n",
       "      <td>1400</td>\n",
       "      <td>1400</td>\n",
       "    </tr>\n",
       "    <tr>\n",
       "      <th>cylinders</th>\n",
       "      <td>3</td>\n",
       "      <td>4</td>\n",
       "      <td>4</td>\n",
       "      <td>3</td>\n",
       "      <td>3</td>\n",
       "    </tr>\n",
       "    <tr>\n",
       "      <th>weight_kg</th>\n",
       "      <td>1220</td>\n",
       "      <td>1255</td>\n",
       "      <td>1135</td>\n",
       "      <td>1195</td>\n",
       "      <td>1135</td>\n",
       "    </tr>\n",
       "    <tr>\n",
       "      <th>drive_chain</th>\n",
       "      <td>front</td>\n",
       "      <td>front</td>\n",
       "      <td>front</td>\n",
       "      <td>front</td>\n",
       "      <td>front</td>\n",
       "    </tr>\n",
       "    <tr>\n",
       "      <th>fuel</th>\n",
       "      <td>Diesel</td>\n",
       "      <td>Benzine</td>\n",
       "      <td>Diesel</td>\n",
       "      <td>Diesel</td>\n",
       "      <td>Diesel</td>\n",
       "    </tr>\n",
       "    <tr>\n",
       "      <th>consump_comb</th>\n",
       "      <td>3.8</td>\n",
       "      <td>5.6</td>\n",
       "      <td>3.8</td>\n",
       "      <td>3.8</td>\n",
       "      <td>4.1</td>\n",
       "    </tr>\n",
       "    <tr>\n",
       "      <th>consump_city</th>\n",
       "      <td>4.3</td>\n",
       "      <td>7.1</td>\n",
       "      <td>4.4</td>\n",
       "      <td>4.3</td>\n",
       "      <td>4.6</td>\n",
       "    </tr>\n",
       "    <tr>\n",
       "      <th>consump_country</th>\n",
       "      <td>3.5</td>\n",
       "      <td>4.7</td>\n",
       "      <td>3.4</td>\n",
       "      <td>3.5</td>\n",
       "      <td>3.8</td>\n",
       "    </tr>\n",
       "    <tr>\n",
       "      <th>co2_emission</th>\n",
       "      <td>99</td>\n",
       "      <td>129</td>\n",
       "      <td>99</td>\n",
       "      <td>99</td>\n",
       "      <td>109</td>\n",
       "    </tr>\n",
       "    <tr>\n",
       "      <th>comfort_convenience</th>\n",
       "      <td>Air conditioning,Armrest,Automatic climate con...</td>\n",
       "      <td>Air conditioning,Automatic climate control,Hil...</td>\n",
       "      <td>Air conditioning,Cruise control,Electrical sid...</td>\n",
       "      <td>Air suspension,Armrest,Auxiliary heating,Elect...</td>\n",
       "      <td>Air conditioning,Armrest,Automatic climate con...</td>\n",
       "    </tr>\n",
       "    <tr>\n",
       "      <th>media</th>\n",
       "      <td>Bluetooth,Hands-free equipment,On-board comput...</td>\n",
       "      <td>Bluetooth,Hands-free equipment,On-board comput...</td>\n",
       "      <td>MP3,On-board computer</td>\n",
       "      <td>Bluetooth,CD player,Hands-free equipment,MP3,O...</td>\n",
       "      <td>Bluetooth,CD player,Hands-free equipment,MP3,O...</td>\n",
       "    </tr>\n",
       "    <tr>\n",
       "      <th>extras</th>\n",
       "      <td>Alloy wheels,Catalytic Converter,Voice Control</td>\n",
       "      <td>Alloy wheels,Sport seats,Sport suspension,Voic...</td>\n",
       "      <td>Alloy wheels,Voice Control</td>\n",
       "      <td>Alloy wheels,Sport seats,Voice Control</td>\n",
       "      <td>Alloy wheels,Sport package,Sport suspension,Vo...</td>\n",
       "    </tr>\n",
       "  </tbody>\n",
       "</table>\n",
       "</div>"
      ],
      "text/plain": [
       "                                                                     0  \\\n",
       "make_model                                                     Audi A1   \n",
       "body_type                                                       Sedans   \n",
       "price                                                            15770   \n",
       "km                                                             56013.0   \n",
       "car_age                                                              3   \n",
       "prev_owner                                                           2   \n",
       "horse_power                                                         66   \n",
       "color                                                            Black   \n",
       "paint_type                                                    Metallic   \n",
       "gears                                                                7   \n",
       "safety_security      abs,central door lock,daytime running lights,d...   \n",
       "type                                                              Used   \n",
       "upholstery                                                        loth   \n",
       "nr_of_doors                                                          5   \n",
       "nr_of_seats                                                          5   \n",
       "gearing_type                                                 Automatic   \n",
       "displacement                                                      1400   \n",
       "cylinders                                                            3   \n",
       "weight_kg                                                         1220   \n",
       "drive_chain                                                      front   \n",
       "fuel                                                            Diesel   \n",
       "consump_comb                                                       3.8   \n",
       "consump_city                                                       4.3   \n",
       "consump_country                                                    3.5   \n",
       "co2_emission                                                        99   \n",
       "comfort_convenience  Air conditioning,Armrest,Automatic climate con...   \n",
       "media                Bluetooth,Hands-free equipment,On-board comput...   \n",
       "extras                  Alloy wheels,Catalytic Converter,Voice Control   \n",
       "\n",
       "                                                                     1  \\\n",
       "make_model                                                     Audi A1   \n",
       "body_type                                                       Sedans   \n",
       "price                                                            14500   \n",
       "km                                                             80000.0   \n",
       "car_age                                                              2   \n",
       "prev_owner                                                           1   \n",
       "horse_power                                                        141   \n",
       "color                                                              Red   \n",
       "paint_type                                                    Metallic   \n",
       "gears                                                                7   \n",
       "safety_security      abs,central door lock,central door lock with r...   \n",
       "type                                                              Used   \n",
       "upholstery                                                        loth   \n",
       "nr_of_doors                                                          3   \n",
       "nr_of_seats                                                          4   \n",
       "gearing_type                                                 Automatic   \n",
       "displacement                                                      1800   \n",
       "cylinders                                                            4   \n",
       "weight_kg                                                         1255   \n",
       "drive_chain                                                      front   \n",
       "fuel                                                           Benzine   \n",
       "consump_comb                                                       5.6   \n",
       "consump_city                                                       7.1   \n",
       "consump_country                                                    4.7   \n",
       "co2_emission                                                       129   \n",
       "comfort_convenience  Air conditioning,Automatic climate control,Hil...   \n",
       "media                Bluetooth,Hands-free equipment,On-board comput...   \n",
       "extras               Alloy wheels,Sport seats,Sport suspension,Voic...   \n",
       "\n",
       "                                                                     2  \\\n",
       "make_model                                                     Audi A1   \n",
       "body_type                                                       Sedans   \n",
       "price                                                            14640   \n",
       "km                                                             83450.0   \n",
       "car_age                                                              3   \n",
       "prev_owner                                                           1   \n",
       "horse_power                                                         85   \n",
       "color                                                            Black   \n",
       "paint_type                                                    Metallic   \n",
       "gears                                                                7   \n",
       "safety_security      abs,central door lock,daytime running lights,d...   \n",
       "type                                                              Used   \n",
       "upholstery                                                        loth   \n",
       "nr_of_doors                                                          4   \n",
       "nr_of_seats                                                          4   \n",
       "gearing_type                                                 Automatic   \n",
       "displacement                                                      1600   \n",
       "cylinders                                                            4   \n",
       "weight_kg                                                         1135   \n",
       "drive_chain                                                      front   \n",
       "fuel                                                            Diesel   \n",
       "consump_comb                                                       3.8   \n",
       "consump_city                                                       4.4   \n",
       "consump_country                                                    3.4   \n",
       "co2_emission                                                        99   \n",
       "comfort_convenience  Air conditioning,Cruise control,Electrical sid...   \n",
       "media                                            MP3,On-board computer   \n",
       "extras                                      Alloy wheels,Voice Control   \n",
       "\n",
       "                                                                     3  \\\n",
       "make_model                                                     Audi A1   \n",
       "body_type                                                       Sedans   \n",
       "price                                                            14500   \n",
       "km                                                             73000.0   \n",
       "car_age                                                              3   \n",
       "prev_owner                                                           1   \n",
       "horse_power                                                         66   \n",
       "color                                                            Brown   \n",
       "paint_type                                                    Metallic   \n",
       "gears                                                                6   \n",
       "safety_security      abs,alarm system,central door lock with remote...   \n",
       "type                                                              Used   \n",
       "upholstery                                                        loth   \n",
       "nr_of_doors                                                          3   \n",
       "nr_of_seats                                                          4   \n",
       "gearing_type                                                 Automatic   \n",
       "displacement                                                      1400   \n",
       "cylinders                                                            3   \n",
       "weight_kg                                                         1195   \n",
       "drive_chain                                                      front   \n",
       "fuel                                                            Diesel   \n",
       "consump_comb                                                       3.8   \n",
       "consump_city                                                       4.3   \n",
       "consump_country                                                    3.5   \n",
       "co2_emission                                                        99   \n",
       "comfort_convenience  Air suspension,Armrest,Auxiliary heating,Elect...   \n",
       "media                Bluetooth,CD player,Hands-free equipment,MP3,O...   \n",
       "extras                          Alloy wheels,Sport seats,Voice Control   \n",
       "\n",
       "                                                                     4  \n",
       "make_model                                                     Audi A1  \n",
       "body_type                                                       Sedans  \n",
       "price                                                            16790  \n",
       "km                                                             16200.0  \n",
       "car_age                                                              3  \n",
       "prev_owner                                                           1  \n",
       "horse_power                                                         66  \n",
       "color                                                            Black  \n",
       "paint_type                                                    Metallic  \n",
       "gears                                                                7  \n",
       "safety_security      abs,central door lock,driver-side airbag,elect...  \n",
       "type                                                              Used  \n",
       "upholstery                                                        loth  \n",
       "nr_of_doors                                                          5  \n",
       "nr_of_seats                                                          5  \n",
       "gearing_type                                                 Automatic  \n",
       "displacement                                                      1400  \n",
       "cylinders                                                            3  \n",
       "weight_kg                                                         1135  \n",
       "drive_chain                                                      front  \n",
       "fuel                                                            Diesel  \n",
       "consump_comb                                                       4.1  \n",
       "consump_city                                                       4.6  \n",
       "consump_country                                                    3.8  \n",
       "co2_emission                                                       109  \n",
       "comfort_convenience  Air conditioning,Armrest,Automatic climate con...  \n",
       "media                Bluetooth,CD player,Hands-free equipment,MP3,O...  \n",
       "extras               Alloy wheels,Sport package,Sport suspension,Vo...  "
      ]
     },
     "execution_count": 5,
     "metadata": {},
     "output_type": "execute_result"
    }
   ],
   "source": [
    "df_car.head().T"
   ]
  },
  {
   "cell_type": "markdown",
   "metadata": {},
   "source": [
    "#  `Price`"
   ]
  },
  {
   "cell_type": "code",
   "execution_count": 7,
   "metadata": {},
   "outputs": [
    {
     "data": {
      "image/png": "[encoded data removed]",
      "text/plain": [
       "<Figure size 432x288 with 1 Axes>"
      ]
     },
     "metadata": {
      "needs_background": "light"
     },
     "output_type": "display_data"
    }
   ],
   "source": [
    "sns.kdeplot(df_car.price);"
   ]
  },
  {
   "cell_type": "code",
   "execution_count": 9,
   "metadata": {},
   "outputs": [
    {
     "data": {
      "text/plain": [
       "3648     74600\n",
       "15826    68320\n",
       "3649     67600\n",
       "3587     64900\n",
       "15828    64332\n",
       "Name: price, dtype: int64"
      ]
     },
     "execution_count": 9,
     "metadata": {},
     "output_type": "execute_result"
    }
   ],
   "source": [
    "df_car.price.sort_values(ascending=False).head()"
   ]
  },
  {
   "cell_type": "code",
   "execution_count": 10,
   "metadata": {},
   "outputs": [
    {
     "name": "stderr",
     "output_type": "stream",
     "text": [
      "C:\\Users\\Bilgisayar\\anaconda3\\lib\\site-packages\\seaborn\\_decorators.py:36: FutureWarning: Pass the following variable as a keyword arg: x. From version 0.12, the only valid positional argument will be `data`, and passing other arguments without an explicit keyword will result in an error or misinterpretation.\n",
      "  warnings.warn(\n"
     ]
    },
    {
     "data": {
      "image/png": "[encoded data removed]",
      "text/plain": [
       "<Figure size 432x288 with 1 Axes>"
      ]
     },
     "metadata": {
      "needs_background": "light"
     },
     "output_type": "display_data"
    }
   ],
   "source": [
    "sns.boxplot(df_car.price);"
   ]
  },
  {
   "cell_type": "code",
   "execution_count": 14,
   "metadata": {},
   "outputs": [],
   "source": [
    "df_price_log = df_car['price']"
   ]
  },
  {
   "cell_type": "code",
   "execution_count": 15,
   "metadata": {},
   "outputs": [
    {
     "data": {
      "image/png": "[encoded data removed]",
      "text/plain": [
       "<Figure size 432x288 with 1 Axes>"
      ]
     },
     "metadata": {
      "needs_background": "light"
     },
     "output_type": "display_data"
    }
   ],
   "source": [
    "sns.boxplot(x = df_price_log);"
   ]
  },
  {
   "cell_type": "code",
   "execution_count": 16,
   "metadata": {},
   "outputs": [
    {
     "data": {
      "image/png": "[encoded data removed]",
      "text/plain": [
       "<Figure size 360x360 with 1 Axes>"
      ]
     },
     "metadata": {
      "needs_background": "light"
     },
     "output_type": "display_data"
    }
   ],
   "source": [
    "sns.displot(df_price_log,  bins = 30, kde = False);"
   ]
  },
  {
   "cell_type": "code",
   "execution_count": 17,
   "metadata": {},
   "outputs": [
    {
     "data": {
      "text/plain": [
       "8594      13\n",
       "8828     120\n",
       "6066     255\n",
       "8829     331\n",
       "8827    4950\n",
       "Name: price, dtype: int64"
      ]
     },
     "execution_count": 17,
     "metadata": {},
     "output_type": "execute_result"
    }
   ],
   "source": [
    "df_price.sort_values().head()"
   ]
  },
  {
   "cell_type": "code",
   "execution_count": 18,
   "metadata": {},
   "outputs": [
    {
     "data": {
      "text/plain": [
       "3648     74600\n",
       "15826    68320\n",
       "3649     67600\n",
       "3587     64900\n",
       "15828    64332\n",
       "Name: price, dtype: int64"
      ]
     },
     "execution_count": 18,
     "metadata": {},
     "output_type": "execute_result"
    }
   ],
   "source": [
    "df_price.sort_values(ascending=False).head()"
   ]
  },
  {
   "cell_type": "code",
   "execution_count": 19,
   "metadata": {},
   "outputs": [],
   "source": [
    "price_outlier = df_price.isin([13,120,255,331])"
   ]
  },
  {
   "cell_type": "code",
   "execution_count": 20,
   "metadata": {},
   "outputs": [],
   "source": [
    "df_car.drop(index = [8594,6066,8828,8829],axis=0,inplace = True)"
   ]
  },
  {
   "cell_type": "code",
   "execution_count": 21,
   "metadata": {},
   "outputs": [
    {
     "data": {
      "text/plain": [
       "8827     4950\n",
       "8825     4990\n",
       "8826     5250\n",
       "8824     5300\n",
       "13770    5445\n",
       "Name: price, dtype: int64"
      ]
     },
     "execution_count": 21,
     "metadata": {},
     "output_type": "execute_result"
    }
   ],
   "source": [
    "df_car.price.sort_values().head()"
   ]
  },
  {
   "cell_type": "markdown",
   "metadata": {},
   "source": [
    "#  `km`"
   ]
  },
  {
   "cell_type": "code",
   "execution_count": 23,
   "metadata": {},
   "outputs": [
    {
     "name": "stderr",
     "output_type": "stream",
     "text": [
      "C:\\Users\\Bilgisayar\\anaconda3\\lib\\site-packages\\seaborn\\_decorators.py:36: FutureWarning: Pass the following variable as a keyword arg: x. From version 0.12, the only valid positional argument will be `data`, and passing other arguments without an explicit keyword will result in an error or misinterpretation.\n",
      "  warnings.warn(\n"
     ]
    },
    {
     "data": {
      "text/plain": [
       "<AxesSubplot:xlabel='km'>"
      ]
     },
     "execution_count": 23,
     "metadata": {},
     "output_type": "execute_result"
    },
    {
     "data": {
      "image/png": "[encoded data removed]",
      "text/plain": [
       "<Figure size 432x288 with 1 Axes>"
      ]
     },
     "metadata": {
      "needs_background": "light"
     },
     "output_type": "display_data"
    }
   ],
   "source": [
    "sns.boxplot(df_car.km)"
   ]
  },
  {
   "cell_type": "markdown",
   "metadata": {},
   "source": [
    "#  `horse_power`"
   ]
  },
  {
   "cell_type": "code",
   "execution_count": 24,
   "metadata": {},
   "outputs": [
    {
     "data": {
      "text/plain": [
       "9292     1\n",
       "7016     1\n",
       "7014     1\n",
       "6946     1\n",
       "10468    1\n",
       "Name: horse_power, dtype: int64"
      ]
     },
     "execution_count": 24,
     "metadata": {},
     "output_type": "execute_result"
    }
   ],
   "source": [
    "df_car.horse_power.sort_values().head()"
   ]
  },
  {
   "cell_type": "code",
   "execution_count": 25,
   "metadata": {},
   "outputs": [
    {
     "data": {
      "text/plain": [
       "Int64Index([ 3913,  6005,  6034,  6946,  7014,  7016,  7018,  7019,  9285,\n",
       "             9287,  9288,  9289,  9290,  9292,  9299, 10468, 10579, 10580,\n",
       "            10610, 13885, 15155, 15156],\n",
       "           dtype='int64')"
      ]
     },
     "execution_count": 25,
     "metadata": {},
     "output_type": "execute_result"
    }
   ],
   "source": [
    "df_car[df_car.horse_power < 40].index"
   ]
  },
  {
   "cell_type": "code",
   "execution_count": 26,
   "metadata": {},
   "outputs": [],
   "source": [
    "df_car.loc[df_car.horse_power < 40,'horse_power'] = df_car.horse_power.mean()"
   ]
  },
  {
   "cell_type": "code",
   "execution_count": 27,
   "metadata": {},
   "outputs": [
    {
     "data": {
      "text/plain": [
       "Int64Index([], dtype='int64')"
      ]
     },
     "execution_count": 27,
     "metadata": {},
     "output_type": "execute_result"
    }
   ],
   "source": [
    "df_car[df_car.horse_power < 40].index"
   ]
  },
  {
   "cell_type": "code",
   "execution_count": 28,
   "metadata": {},
   "outputs": [
    {
     "data": {
      "text/plain": [
       "88.39183160540371"
      ]
     },
     "execution_count": 28,
     "metadata": {},
     "output_type": "execute_result"
    }
   ],
   "source": [
    "df_car.loc[6005,'horse_power']"
   ]
  },
  {
   "cell_type": "code",
   "execution_count": 29,
   "metadata": {},
   "outputs": [
    {
     "data": {
      "text/plain": [
       "13759     40.0\n",
       "8857      40.0\n",
       "8408      44.0\n",
       "10288     51.0\n",
       "9382      51.0\n",
       "         ...  \n",
       "3592     294.0\n",
       "3590     294.0\n",
       "3587     294.0\n",
       "3601     294.0\n",
       "3648     294.0\n",
       "Name: horse_power, Length: 15915, dtype: float64"
      ]
     },
     "execution_count": 29,
     "metadata": {},
     "output_type": "execute_result"
    }
   ],
   "source": [
    "df_car.horse_power.sort_values()"
   ]
  },
  {
   "cell_type": "markdown",
   "metadata": {},
   "source": [
    "#  `nr_of_doors`"
   ]
  },
  {
   "cell_type": "code",
   "execution_count": 30,
   "metadata": {},
   "outputs": [
    {
     "data": {
      "text/plain": [
       "13782    1\n",
       "9819     2\n",
       "8446     2\n",
       "1422     2\n",
       "9512     2\n",
       "        ..\n",
       "6172     5\n",
       "6173     5\n",
       "6174     5\n",
       "6176     5\n",
       "15202    7\n",
       "Name: nr_of_doors, Length: 15915, dtype: int64"
      ]
     },
     "execution_count": 30,
     "metadata": {},
     "output_type": "execute_result"
    }
   ],
   "source": [
    "df_car['nr_of_doors'].sort_values()"
   ]
  },
  {
   "cell_type": "code",
   "execution_count": 31,
   "metadata": {},
   "outputs": [],
   "source": [
    "df_car['nr_of_doors'].replace([1,7],np.nan,inplace=True)"
   ]
  },
  {
   "cell_type": "code",
   "execution_count": 32,
   "metadata": {},
   "outputs": [
    {
     "data": {
      "text/plain": [
       "9836     2.0\n",
       "8747     2.0\n",
       "3095     2.0\n",
       "8751     2.0\n",
       "8759     2.0\n",
       "        ... \n",
       "6175     5.0\n",
       "6405     5.0\n",
       "15918    5.0\n",
       "13782    NaN\n",
       "15202    NaN\n",
       "Name: nr_of_doors, Length: 15915, dtype: float64"
      ]
     },
     "execution_count": 32,
     "metadata": {},
     "output_type": "execute_result"
    }
   ],
   "source": [
    "df_car['nr_of_doors'].sort_values()"
   ]
  },
  {
   "cell_type": "code",
   "execution_count": 33,
   "metadata": {},
   "outputs": [],
   "source": [
    "groupby_mode2('make_model','body_type','nr_of_doors')"
   ]
  },
  {
   "cell_type": "code",
   "execution_count": 34,
   "metadata": {},
   "outputs": [
    {
     "data": {
      "text/plain": [
       "5.0    11786\n",
       "4.0     3079\n",
       "3.0      831\n",
       "2.0      219\n",
       "Name: nr_of_doors, dtype: int64"
      ]
     },
     "execution_count": 34,
     "metadata": {},
     "output_type": "execute_result"
    }
   ],
   "source": [
    "df_car['nr_of_doors'].value_counts()"
   ]
  },
  {
   "cell_type": "markdown",
   "metadata": {},
   "source": [
    "#  `nr_of_seats`"
   ]
  },
  {
   "cell_type": "code",
   "execution_count": 35,
   "metadata": {},
   "outputs": [
    {
     "data": {
      "text/plain": [
       "5    14304\n",
       "4     1127\n",
       "7      362\n",
       "2      119\n",
       "6        2\n",
       "3        1\n",
       "Name: nr_of_seats, dtype: int64"
      ]
     },
     "execution_count": 35,
     "metadata": {},
     "output_type": "execute_result"
    }
   ],
   "source": [
    "df_car['nr_of_seats'].value_counts()"
   ]
  },
  {
   "cell_type": "code",
   "execution_count": 36,
   "metadata": {},
   "outputs": [
    {
     "data": {
      "text/plain": [
       "1636    Audi A1\n",
       "Name: make_model, dtype: object"
      ]
     },
     "execution_count": 36,
     "metadata": {},
     "output_type": "execute_result"
    }
   ],
   "source": [
    "df_car[df_car['nr_of_seats'] == 3]['make_model']"
   ]
  },
  {
   "cell_type": "code",
   "execution_count": 37,
   "metadata": {},
   "outputs": [],
   "source": [
    "df_car['nr_of_seats'].replace([3],5,inplace=True)"
   ]
  },
  {
   "cell_type": "code",
   "execution_count": 38,
   "metadata": {},
   "outputs": [
    {
     "data": {
      "text/plain": [
       "5    14305\n",
       "4     1127\n",
       "7      362\n",
       "2      119\n",
       "6        2\n",
       "Name: nr_of_seats, dtype: int64"
      ]
     },
     "execution_count": 38,
     "metadata": {},
     "output_type": "execute_result"
    }
   ],
   "source": [
    "df_car['nr_of_seats'].value_counts()"
   ]
  },
  {
   "cell_type": "markdown",
   "metadata": {},
   "source": [
    "#  `displacement`"
   ]
  },
  {
   "cell_type": "code",
   "execution_count": 40,
   "metadata": {},
   "outputs": [
    {
     "data": {
      "text/plain": [
       "1600     5383\n",
       "1400     3108\n",
       "1000     2585\n",
       "1500     1476\n",
       "1200     1246\n",
       "2000     1164\n",
       "900       372\n",
       "1100      289\n",
       "1800      211\n",
       "0          38\n",
       "2500       20\n",
       "100         7\n",
       "200         6\n",
       "1300        3\n",
       "1700        2\n",
       "1900        2\n",
       "15900       1\n",
       "3000        1\n",
       "16000       1\n",
       "Name: displacement, dtype: int64"
      ]
     },
     "execution_count": 40,
     "metadata": {},
     "output_type": "execute_result"
    }
   ],
   "source": [
    "df_car['displacement'].value_counts()"
   ]
  },
  {
   "cell_type": "code",
   "execution_count": 41,
   "metadata": {},
   "outputs": [],
   "source": [
    "df_car['displacement'].replace([0,100,200,15900,16000],np.nan,inplace=True)"
   ]
  },
  {
   "cell_type": "code",
   "execution_count": 42,
   "metadata": {},
   "outputs": [],
   "source": [
    "groupby_mode2('make_model','body_type','displacement')"
   ]
  },
  {
   "cell_type": "code",
   "execution_count": 43,
   "metadata": {},
   "outputs": [
    {
     "data": {
      "text/plain": [
       "1600.0    5416\n",
       "1400.0    3113\n",
       "1000.0    2585\n",
       "1500.0    1491\n",
       "1200.0    1246\n",
       "2000.0    1164\n",
       "900.0      372\n",
       "1100.0     289\n",
       "1800.0     211\n",
       "2500.0      20\n",
       "1300.0       3\n",
       "1900.0       2\n",
       "1700.0       2\n",
       "3000.0       1\n",
       "Name: displacement, dtype: int64"
      ]
     },
     "execution_count": 43,
     "metadata": {},
     "output_type": "execute_result"
    }
   ],
   "source": [
    "df_car['displacement'].value_counts(dropna=False)"
   ]
  },
  {
   "cell_type": "markdown",
   "metadata": {},
   "source": [
    "#  `Cylinders`"
   ]
  },
  {
   "cell_type": "code",
   "execution_count": 44,
   "metadata": {},
   "outputs": [
    {
     "data": {
      "text/plain": [
       "4    12411\n",
       "3     3474\n",
       "5       22\n",
       "6        3\n",
       "8        2\n",
       "2        2\n",
       "1        1\n",
       "Name: cylinders, dtype: int64"
      ]
     },
     "execution_count": 44,
     "metadata": {},
     "output_type": "execute_result"
    }
   ],
   "source": [
    "df_car.cylinders.value_counts(dropna=False)"
   ]
  },
  {
   "cell_type": "code",
   "execution_count": 45,
   "metadata": {},
   "outputs": [],
   "source": [
    "df_car['cylinders'].replace([1,2],np.nan,inplace=True)"
   ]
  },
  {
   "cell_type": "code",
   "execution_count": 46,
   "metadata": {},
   "outputs": [],
   "source": [
    "groupby_mode2('make_model','displacement','cylinders')"
   ]
  },
  {
   "cell_type": "code",
   "execution_count": 47,
   "metadata": {},
   "outputs": [
    {
     "data": {
      "text/plain": [
       "4.0    12414\n",
       "3.0     3474\n",
       "5.0       22\n",
       "6.0        3\n",
       "8.0        2\n",
       "Name: cylinders, dtype: int64"
      ]
     },
     "execution_count": 47,
     "metadata": {},
     "output_type": "execute_result"
    }
   ],
   "source": [
    "df_car.cylinders.value_counts(dropna=False)"
   ]
  },
  {
   "cell_type": "markdown",
   "metadata": {},
   "source": [
    "#  `Weight_kg`"
   ]
  },
  {
   "cell_type": "code",
   "execution_count": 48,
   "metadata": {},
   "outputs": [
    {
     "data": {
      "text/plain": [
       "8355        1\n",
       "12779       1\n",
       "1143      102\n",
       "8857      840\n",
       "14313     900\n",
       "         ... \n",
       "15185    2471\n",
       "15231    2471\n",
       "14975    2471\n",
       "15280    2471\n",
       "15678    2471\n",
       "Name: weight_kg, Length: 15915, dtype: int64"
      ]
     },
     "execution_count": 48,
     "metadata": {},
     "output_type": "execute_result"
    }
   ],
   "source": [
    "df_car['weight_kg'].sort_values()"
   ]
  },
  {
   "cell_type": "code",
   "execution_count": 49,
   "metadata": {},
   "outputs": [],
   "source": [
    "df_car['weight_kg'].replace([1,102],np.nan,inplace=True)"
   ]
  },
  {
   "cell_type": "code",
   "execution_count": 50,
   "metadata": {},
   "outputs": [],
   "source": [
    "groupby_mode2('make_model','body_type','weight_kg')"
   ]
  },
  {
   "cell_type": "code",
   "execution_count": 51,
   "metadata": {},
   "outputs": [
    {
     "data": {
      "text/plain": [
       "8857      840.0\n",
       "14313     900.0\n",
       "13555     977.0\n",
       "13513     977.0\n",
       "13732     980.0\n",
       "          ...  \n",
       "15185    2471.0\n",
       "15231    2471.0\n",
       "14975    2471.0\n",
       "15280    2471.0\n",
       "15678    2471.0\n",
       "Name: weight_kg, Length: 15915, dtype: float64"
      ]
     },
     "execution_count": 51,
     "metadata": {},
     "output_type": "execute_result"
    }
   ],
   "source": [
    "df_car['weight_kg'].sort_values()"
   ]
  },
  {
   "cell_type": "markdown",
   "metadata": {},
   "source": [
    "#  `consump_country`"
   ]
  },
  {
   "cell_type": "code",
   "execution_count": 52,
   "metadata": {},
   "outputs": [
    {
     "data": {
      "text/plain": [
       "0.3       1\n",
       "2.9       1\n",
       "3.1     707\n",
       "3.2     180\n",
       "3.3     702\n",
       "3.4     352\n",
       "3.5     525\n",
       "3.6     540\n",
       "3.7    1394\n",
       "3.8     945\n",
       "3.9    1185\n",
       "4.1     738\n",
       "4.2    1562\n",
       "4.3     525\n",
       "4.4    1325\n",
       "4.5    1105\n",
       "4.6     632\n",
       "4.7     849\n",
       "4.8     341\n",
       "4.9     754\n",
       "5.1     235\n",
       "5.2     118\n",
       "5.3     370\n",
       "5.4     239\n",
       "5.5      36\n",
       "5.6     154\n",
       "5.7     242\n",
       "5.8      30\n",
       "5.9       2\n",
       "6.1       2\n",
       "6.3      52\n",
       "6.4      15\n",
       "6.5       4\n",
       "6.6      19\n",
       "6.7       2\n",
       "6.9       1\n",
       "7.1       3\n",
       "7.3       4\n",
       "7.6       1\n",
       "7.7      20\n",
       "7.8       2\n",
       "8.6       1\n",
       "Name: consump_country, dtype: int64"
      ]
     },
     "execution_count": 52,
     "metadata": {},
     "output_type": "execute_result"
    }
   ],
   "source": [
    "df_car['consump_country'].value_counts().sort_index()"
   ]
  },
  {
   "cell_type": "code",
   "execution_count": 53,
   "metadata": {},
   "outputs": [
    {
     "data": {
      "text/plain": [
       "Series([], Name: make_model, dtype: object)"
      ]
     },
     "execution_count": 53,
     "metadata": {},
     "output_type": "execute_result"
    }
   ],
   "source": [
    "df_car[df_car['consump_city'] == 1.6]['make_model']\n",
    "# 3.0 alti make_model ve displacement'e gore doldurulacak"
   ]
  },
  {
   "cell_type": "code",
   "execution_count": 54,
   "metadata": {},
   "outputs": [
    {
     "data": {
      "text/plain": [
       "0      2\n",
       "1      2\n",
       "5      3\n",
       "12     4\n",
       "13     1\n",
       "      ..\n",
       "199    2\n",
       "239    1\n",
       "253    1\n",
       "331    1\n",
       "990    1\n",
       "Name: co2_emission, Length: 119, dtype: int64"
      ]
     },
     "execution_count": 54,
     "metadata": {},
     "output_type": "execute_result"
    }
   ],
   "source": [
    "df_car['co2_emission'].value_counts().sort_index()\n",
    "# 0 lar?"
   ]
  },
  {
   "cell_type": "code",
   "execution_count": 55,
   "metadata": {},
   "outputs": [
    {
     "data": {
      "text/plain": [
       "8217     Benzine\n",
       "10566     Diesel\n",
       "Name: fuel, dtype: object"
      ]
     },
     "execution_count": 55,
     "metadata": {},
     "output_type": "execute_result"
    }
   ],
   "source": [
    "df_car[df_car['co2_emission'] == 0]['fuel']\n"
   ]
  },
  {
   "cell_type": "code",
   "execution_count": null,
   "metadata": {},
   "outputs": [],
   "source": []
  }
 ],
 "metadata": {
  "interpreter": {
   "hash": "07efdcd4b820c98a756949507a4d29d7862823915ec7477944641bea022f4f62"
  },
  "kernelspec": {
   "display_name": "Python 3 (ipykernel)",
   "language": "python",
   "name": "python3"
  },
  "language_info": {
   "codemirror_mode": {
    "name": "ipython",
    "version": 3
   },
   "file_extension": ".py",
   "mimetype": "text/x-python",
   "name": "python",
   "nbconvert_exporter": "python",
   "pygments_lexer": "ipython3",
   "version": "3.9.7"
  }
 },
 "nbformat": 4,
 "nbformat_minor": 2
}
